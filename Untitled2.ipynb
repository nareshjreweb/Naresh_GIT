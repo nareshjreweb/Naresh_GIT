{
 "cells": [
  {
   "cell_type": "code",
   "execution_count": 1,
   "metadata": {},
   "outputs": [
    {
     "data": {
      "text/plain": [
       "'_#$~^aaaa'"
      ]
     },
     "execution_count": 1,
     "metadata": {},
     "output_type": "execute_result"
    }
   ],
   "source": [
    "def removeNonAscii(s): return \"\".join(filter(lambda x: ord(x)<128, s))\n",
    "\n",
    "removeNonAscii(\"Â_#$~^aaaa\")"
   ]
  },
  {
   "cell_type": "code",
   "execution_count": 17,
   "metadata": {},
   "outputs": [
    {
     "data": {
      "text/html": [
       "<div>\n",
       "<style scoped>\n",
       "    .dataframe tbody tr th:only-of-type {\n",
       "        vertical-align: middle;\n",
       "    }\n",
       "\n",
       "    .dataframe tbody tr th {\n",
       "        vertical-align: top;\n",
       "    }\n",
       "\n",
       "    .dataframe thead th {\n",
       "        text-align: right;\n",
       "    }\n",
       "</style>\n",
       "<table border=\"1\" class=\"dataframe\">\n",
       "  <thead>\n",
       "    <tr style=\"text-align: right;\">\n",
       "      <th></th>\n",
       "      <th>o_Table_name</th>\n",
       "      <th>o_related_record</th>\n",
       "      <th>o_effective_immediately</th>\n",
       "      <th>asset_tag</th>\n",
       "      <th>o_display_type</th>\n",
       "      <th>Special_Handling_End_Date</th>\n",
       "      <th>Special_Handling_Start_Date</th>\n",
       "      <th>Priority</th>\n",
       "      <th>o_message_final</th>\n",
       "    </tr>\n",
       "  </thead>\n",
       "  <tbody>\n",
       "    <tr>\n",
       "      <th>0</th>\n",
       "      <td>u_asset_siteid</td>\n",
       "      <td>a18b49cb1bc504105ee8631e6e4bcb6d</td>\n",
       "      <td>1</td>\n",
       "      <td>NATBANKDEVBAR</td>\n",
       "      <td>1</td>\n",
       "      <td>04/25/2021 00:00:00.000000</td>\n",
       "      <td>04/25/2020 00:00:00.000000</td>\n",
       "      <td>2</td>\n",
       "      <td>Quantum tape library IP\\r\\nDEV - 39.3.98.100\\r...</td>\n",
       "    </tr>\n",
       "    <tr>\n",
       "      <th>1</th>\n",
       "      <td>u_asset_siteid</td>\n",
       "      <td>a18b49cb1bc504105ee8631e6e4bcb6d</td>\n",
       "      <td>1</td>\n",
       "      <td>NATBANKDEVBAR</td>\n",
       "      <td>1</td>\n",
       "      <td>04/25/2021 00:00:00.000000</td>\n",
       "      <td>04/25/2020 00:00:00.000000</td>\n",
       "      <td>3</td>\n",
       "      <td>-Remote access is available via Axeda policy s...</td>\n",
       "    </tr>\n",
       "    <tr>\n",
       "      <th>2</th>\n",
       "      <td>u_asset_siteid</td>\n",
       "      <td>a18b49cb1bc504105ee8631e6e4bcb6d</td>\n",
       "      <td>1</td>\n",
       "      <td>NATBANKDEVBAR</td>\n",
       "      <td>1</td>\n",
       "      <td>04/25/2021 00:00:00.000000</td>\n",
       "      <td>04/25/2020 00:00:00.000000</td>\n",
       "      <td>4</td>\n",
       "      <td>##Admin Geo: None\\r\\n##Access Geo: None\\r\\n##A...</td>\n",
       "    </tr>\n",
       "    <tr>\n",
       "      <th>3</th>\n",
       "      <td>u_asset_siteid</td>\n",
       "      <td>a18b49cb1bc504105ee8631e6e4bcb6d</td>\n",
       "      <td>1</td>\n",
       "      <td>NATBANKDEVBAR</td>\n",
       "      <td>1</td>\n",
       "      <td>04/25/2021 00:00:00.000000</td>\n",
       "      <td>04/25/2020 00:00:00.000000</td>\n",
       "      <td>5</td>\n",
       "      <td>nan</td>\n",
       "    </tr>\n",
       "    <tr>\n",
       "      <th>4</th>\n",
       "      <td>u_asset_siteid</td>\n",
       "      <td>6b75f7ac1b5f84505ee8631e6e4bcbc5</td>\n",
       "      <td>1</td>\n",
       "      <td>VOLTDB1</td>\n",
       "      <td>1</td>\n",
       "      <td>NaN</td>\n",
       "      <td>NaN</td>\n",
       "      <td>2</td>\n",
       "      <td>nan</td>\n",
       "    </tr>\n",
       "    <tr>\n",
       "      <th>...</th>\n",
       "      <td>...</td>\n",
       "      <td>...</td>\n",
       "      <td>...</td>\n",
       "      <td>...</td>\n",
       "      <td>...</td>\n",
       "      <td>...</td>\n",
       "      <td>...</td>\n",
       "      <td>...</td>\n",
       "      <td>...</td>\n",
       "    </tr>\n",
       "    <tr>\n",
       "      <th>26479</th>\n",
       "      <td>u_asset_siteid</td>\n",
       "      <td>a28f560c1bfd10104c2a3227dc4bcb62</td>\n",
       "      <td>1</td>\n",
       "      <td>TDICAMPENV1102</td>\n",
       "      <td>1</td>\n",
       "      <td>NaN</td>\n",
       "      <td>NaN</td>\n",
       "      <td>5</td>\n",
       "      <td>nan</td>\n",
       "    </tr>\n",
       "    <tr>\n",
       "      <th>26480</th>\n",
       "      <td>u_asset_siteid</td>\n",
       "      <td>ec6733ed1bf648d45ee8631e6e4bcb88</td>\n",
       "      <td>1</td>\n",
       "      <td>BOOKSAD01</td>\n",
       "      <td>1</td>\n",
       "      <td>10/13/2020 00:00:00.000000</td>\n",
       "      <td>02/19/2020 00:00:00.000000</td>\n",
       "      <td>2</td>\n",
       "      <td>Customer need mandarin speaking support.\\r\\nSi...</td>\n",
       "    </tr>\n",
       "    <tr>\n",
       "      <th>26481</th>\n",
       "      <td>u_asset_siteid</td>\n",
       "      <td>ec6733ed1bf648d45ee8631e6e4bcb88</td>\n",
       "      <td>1</td>\n",
       "      <td>BOOKSAD01</td>\n",
       "      <td>1</td>\n",
       "      <td>10/13/2020 00:00:00.000000</td>\n",
       "      <td>02/19/2020 00:00:00.000000</td>\n",
       "      <td>3</td>\n",
       "      <td>nan</td>\n",
       "    </tr>\n",
       "    <tr>\n",
       "      <th>26482</th>\n",
       "      <td>u_asset_siteid</td>\n",
       "      <td>ec6733ed1bf648d45ee8631e6e4bcb88</td>\n",
       "      <td>1</td>\n",
       "      <td>BOOKSAD01</td>\n",
       "      <td>1</td>\n",
       "      <td>10/13/2020 00:00:00.000000</td>\n",
       "      <td>02/19/2020 00:00:00.000000</td>\n",
       "      <td>4</td>\n",
       "      <td>nan</td>\n",
       "    </tr>\n",
       "    <tr>\n",
       "      <th>26483</th>\n",
       "      <td>u_asset_siteid</td>\n",
       "      <td>ec6733ed1bf648d45ee8631e6e4bcb88</td>\n",
       "      <td>1</td>\n",
       "      <td>BOOKSAD01</td>\n",
       "      <td>1</td>\n",
       "      <td>10/13/2020 00:00:00.000000</td>\n",
       "      <td>02/19/2020 00:00:00.000000</td>\n",
       "      <td>5</td>\n",
       "      <td>Customer contact  person: Miss Lu\\r\\nPhone num...</td>\n",
       "    </tr>\n",
       "  </tbody>\n",
       "</table>\n",
       "<p>26484 rows × 9 columns</p>\n",
       "</div>"
      ],
      "text/plain": [
       "         o_Table_name                  o_related_record  \\\n",
       "0      u_asset_siteid  a18b49cb1bc504105ee8631e6e4bcb6d   \n",
       "1      u_asset_siteid  a18b49cb1bc504105ee8631e6e4bcb6d   \n",
       "2      u_asset_siteid  a18b49cb1bc504105ee8631e6e4bcb6d   \n",
       "3      u_asset_siteid  a18b49cb1bc504105ee8631e6e4bcb6d   \n",
       "4      u_asset_siteid  6b75f7ac1b5f84505ee8631e6e4bcbc5   \n",
       "...               ...                               ...   \n",
       "26479  u_asset_siteid  a28f560c1bfd10104c2a3227dc4bcb62   \n",
       "26480  u_asset_siteid  ec6733ed1bf648d45ee8631e6e4bcb88   \n",
       "26481  u_asset_siteid  ec6733ed1bf648d45ee8631e6e4bcb88   \n",
       "26482  u_asset_siteid  ec6733ed1bf648d45ee8631e6e4bcb88   \n",
       "26483  u_asset_siteid  ec6733ed1bf648d45ee8631e6e4bcb88   \n",
       "\n",
       "       o_effective_immediately       asset_tag  o_display_type  \\\n",
       "0                            1   NATBANKDEVBAR               1   \n",
       "1                            1   NATBANKDEVBAR               1   \n",
       "2                            1   NATBANKDEVBAR               1   \n",
       "3                            1   NATBANKDEVBAR               1   \n",
       "4                            1         VOLTDB1               1   \n",
       "...                        ...             ...             ...   \n",
       "26479                        1  TDICAMPENV1102               1   \n",
       "26480                        1       BOOKSAD01               1   \n",
       "26481                        1       BOOKSAD01               1   \n",
       "26482                        1       BOOKSAD01               1   \n",
       "26483                        1       BOOKSAD01               1   \n",
       "\n",
       "        Special_Handling_End_Date Special_Handling_Start_Date  Priority  \\\n",
       "0      04/25/2021 00:00:00.000000  04/25/2020 00:00:00.000000         2   \n",
       "1      04/25/2021 00:00:00.000000  04/25/2020 00:00:00.000000         3   \n",
       "2      04/25/2021 00:00:00.000000  04/25/2020 00:00:00.000000         4   \n",
       "3      04/25/2021 00:00:00.000000  04/25/2020 00:00:00.000000         5   \n",
       "4                             NaN                         NaN         2   \n",
       "...                           ...                         ...       ...   \n",
       "26479                         NaN                         NaN         5   \n",
       "26480  10/13/2020 00:00:00.000000  02/19/2020 00:00:00.000000         2   \n",
       "26481  10/13/2020 00:00:00.000000  02/19/2020 00:00:00.000000         3   \n",
       "26482  10/13/2020 00:00:00.000000  02/19/2020 00:00:00.000000         4   \n",
       "26483  10/13/2020 00:00:00.000000  02/19/2020 00:00:00.000000         5   \n",
       "\n",
       "                                         o_message_final  \n",
       "0      Quantum tape library IP\\r\\nDEV - 39.3.98.100\\r...  \n",
       "1      -Remote access is available via Axeda policy s...  \n",
       "2      ##Admin Geo: None\\r\\n##Access Geo: None\\r\\n##A...  \n",
       "3                                                    nan  \n",
       "4                                                    nan  \n",
       "...                                                  ...  \n",
       "26479                                                nan  \n",
       "26480  Customer need mandarin speaking support.\\r\\nSi...  \n",
       "26481                                                nan  \n",
       "26482                                                nan  \n",
       "26483  Customer contact  person: Miss Lu\\r\\nPhone num...  \n",
       "\n",
       "[26484 rows x 9 columns]"
      ]
     },
     "execution_count": 17,
     "metadata": {},
     "output_type": "execute_result"
    }
   ],
   "source": [
    "import pandas as pd\n",
    "\n",
    "df = pd.read_csv(\"cis_operational_data_special_handling_0716.csv\",sep=\"|\")\n",
    "df['o_message_final'] = df['o_message_final'].astype('str')\n",
    "df['o_message_final']=df['o_message_final'].apply(lambda x:removeNonAscii(x))\n",
    "\n",
    "df"
   ]
  },
  {
   "cell_type": "code",
   "execution_count": 18,
   "metadata": {},
   "outputs": [],
   "source": [
    "df['o_message_final'] = df['o_message_final'].replace('nan', '')"
   ]
  },
  {
   "cell_type": "code",
   "execution_count": 19,
   "metadata": {},
   "outputs": [
    {
     "data": {
      "text/plain": [
       "0        Quantum tape library IP\\r\\nDEV - 39.3.98.100\\r...\n",
       "1        -Remote access is available via Axeda policy s...\n",
       "2        ##Admin Geo: None\\r\\n##Access Geo: None\\r\\n##A...\n",
       "3                                                         \n",
       "4                                                         \n",
       "                               ...                        \n",
       "26479                                                     \n",
       "26480    Customer need mandarin speaking support.\\r\\nSi...\n",
       "26481                                                     \n",
       "26482                                                     \n",
       "26483    Customer contact  person: Miss Lu\\r\\nPhone num...\n",
       "Name: o_message_final, Length: 26484, dtype: object"
      ]
     },
     "execution_count": 19,
     "metadata": {},
     "output_type": "execute_result"
    }
   ],
   "source": [
    "df['o_message_final']"
   ]
  },
  {
   "cell_type": "code",
   "execution_count": 20,
   "metadata": {},
   "outputs": [],
   "source": [
    "df1 = df[['o_message_final']]\n",
    "df1.to_csv('abc1.csv',index=False)"
   ]
  },
  {
   "cell_type": "code",
   "execution_count": 21,
   "metadata": {},
   "outputs": [],
   "source": [
    "df.to_csv(\"abc2.csv\",sep=\"|\")"
   ]
  },
  {
   "cell_type": "code",
   "execution_count": 22,
   "metadata": {},
   "outputs": [
    {
     "data": {
      "text/plain": [
       "nan"
      ]
     },
     "execution_count": 22,
     "metadata": {},
     "output_type": "execute_result"
    }
   ],
   "source": [
    "pd.read_csv(\"abc2.csv\",sep=\"|\").iloc[13492][\"o_message_final\"]"
   ]
  },
  {
   "cell_type": "code",
   "execution_count": 23,
   "metadata": {},
   "outputs": [],
   "source": [
    "import numpy as np\n",
    "df3 = df.replace(np.nan, '', regex=True)\n",
    "df3.to_csv(\"cis_operational_data_special_handling_v2.csv\",sep=\"|\",index=False)"
   ]
  },
  {
   "cell_type": "code",
   "execution_count": 41,
   "metadata": {},
   "outputs": [
    {
     "name": "stdout",
     "output_type": "stream",
     "text": [
      "123456\n",
      "123456\n"
     ]
    }
   ],
   "source": [
    "stringNumb = str(input()) \n",
    "print(stringNumb)"
   ]
  },
  {
   "cell_type": "code",
   "execution_count": 42,
   "metadata": {},
   "outputs": [
    {
     "data": {
      "text/plain": [
       "['1', '2', '3', '4', '5', '6']"
      ]
     },
     "execution_count": 42,
     "metadata": {},
     "output_type": "execute_result"
    }
   ],
   "source": [
    "l_1 = list(stringNumb)\n",
    "l_1"
   ]
  },
  {
   "cell_type": "code",
   "execution_count": 43,
   "metadata": {},
   "outputs": [
    {
     "data": {
      "text/plain": [
       "['6', '5', '4', '3', '2', '1']"
      ]
     },
     "execution_count": 43,
     "metadata": {},
     "output_type": "execute_result"
    }
   ],
   "source": [
    "l_1[::-1]"
   ]
  },
  {
   "cell_type": "code",
   "execution_count": 46,
   "metadata": {},
   "outputs": [
    {
     "data": {
      "text/plain": [
       "654321"
      ]
     },
     "execution_count": 46,
     "metadata": {},
     "output_type": "execute_result"
    }
   ],
   "source": [
    "nt"
   ]
  },
  {
   "cell_type": "code",
   "execution_count": 50,
   "metadata": {},
   "outputs": [
    {
     "data": {
      "text/plain": [
       "2"
      ]
     },
     "execution_count": 50,
     "metadata": {},
     "output_type": "execute_result"
    }
   ],
   "source": [
    "1232%10"
   ]
  },
  {
   "cell_type": "code",
   "execution_count": 51,
   "metadata": {},
   "outputs": [
    {
     "data": {
      "text/plain": [
       "1234"
      ]
     },
     "execution_count": 51,
     "metadata": {},
     "output_type": "execute_result"
    }
   ],
   "source": [
    "12345//10"
   ]
  },
  {
   "cell_type": "code",
   "execution_count": 57,
   "metadata": {},
   "outputs": [
    {
     "data": {
      "text/plain": [
       "['genre_1',\n",
       " 'genre_2',\n",
       " 'genre_3',\n",
       " 'CVotes10',\n",
       " 'CVotes09',\n",
       " 'CVotes08',\n",
       " 'CVotes07',\n",
       " 'CVotes06',\n",
       " 'CVotes05',\n",
       " 'CVotes04',\n",
       " 'CVotes03',\n",
       " 'CVotes02',\n",
       " 'CVotes01',\n",
       " 'CVotesMale',\n",
       " 'CVotesFemale',\n",
       " 'CVotesU18',\n",
       " 'CVotesU18M',\n",
       " 'CVotesU18F',\n",
       " 'CVotes1829',\n",
       " 'CVotes1829M',\n",
       " 'CVotes1829F',\n",
       " 'CVotes3044',\n",
       " 'CVotes3044M',\n",
       " 'CVotes3044F',\n",
       " 'CVotes45A',\n",
       " 'CVotes45AM',\n",
       " 'CVotes45AF',\n",
       " 'CVotes1000',\n",
       " 'CVotesUS',\n",
       " 'CVotesnUS',\n",
       " 'VotesM',\n",
       " 'VotesF',\n",
       " 'VotesU18',\n",
       " 'VotesU18M',\n",
       " 'VotesU18F',\n",
       " 'Votes1829',\n",
       " 'Votes1829M',\n",
       " 'Votes1829F',\n",
       " 'Votes3044',\n",
       " 'Votes3044M',\n",
       " 'Votes3044F',\n",
       " 'Votes45A',\n",
       " 'Votes45AM',\n",
       " 'Votes45AF',\n",
       " 'Votes1000',\n",
       " 'VotesUS',\n",
       " 'VotesnUS']"
      ]
     },
     "execution_count": 57,
     "metadata": {},
     "output_type": "execute_result"
    }
   ],
   "source": [
    "list_l_1 = ['Title',\n",
    " 'title_year',\n",
    " 'budget',\n",
    " 'Gross',\n",
    " 'actor_1_name',\n",
    " 'actor_2_name',\n",
    " 'actor_3_name',\n",
    " 'actor_1_facebook_likes',\n",
    " 'actor_2_facebook_likes',\n",
    " 'actor_3_facebook_likes',\n",
    " 'IMDb_rating',\n",
    " 'genre_1',\n",
    " 'genre_2',\n",
    " 'genre_3',\n",
    " 'MetaCritic',\n",
    " 'Runtime',\n",
    " 'CVotes10',\n",
    " 'CVotes09',\n",
    " 'CVotes08',\n",
    " 'CVotes07',\n",
    " 'CVotes06',\n",
    " 'CVotes05',\n",
    " 'CVotes04',\n",
    " 'CVotes03',\n",
    " 'CVotes02',\n",
    " 'CVotes01',\n",
    " 'CVotesMale',\n",
    " 'CVotesFemale',\n",
    " 'CVotesU18',\n",
    " 'CVotesU18M',\n",
    " 'CVotesU18F',\n",
    " 'CVotes1829',\n",
    " 'CVotes1829M',\n",
    " 'CVotes1829F',\n",
    " 'CVotes3044',\n",
    " 'CVotes3044M',\n",
    " 'CVotes3044F',\n",
    " 'CVotes45A',\n",
    " 'CVotes45AM',\n",
    " 'CVotes45AF',\n",
    " 'CVotes1000',\n",
    " 'CVotesUS',\n",
    " 'CVotesnUS',\n",
    " 'VotesM',\n",
    " 'VotesF',\n",
    " 'VotesU18',\n",
    " 'VotesU18M',\n",
    " 'VotesU18F',\n",
    " 'Votes1829',\n",
    " 'Votes1829M',\n",
    " 'Votes1829F',\n",
    " 'Votes3044',\n",
    " 'Votes3044M',\n",
    " 'Votes3044F',\n",
    " 'Votes45A',\n",
    " 'Votes45AM',\n",
    " 'Votes45AF',\n",
    " 'Votes1000',\n",
    " 'VotesUS',\n",
    " 'VotesnUS',\n",
    " 'content_rating',\n",
    " 'Country',\n",
    " 'profit',\n",
    " 'Avg_rating',\n",
    " 'trios_facebook_likes']\n",
    "\n",
    "list_l_2=[]\n",
    "for i in range(0,len(list_l_1)):\n",
    "    if (('Votes' in list_l_1[i])or('genre' in list_l_1[i])):\n",
    "        list_l_2.append(list_l_1[i])\n",
    "        \n",
    "list_l_2"
   ]
  },
  {
   "cell_type": "code",
   "execution_count": 60,
   "metadata": {},
   "outputs": [
    {
     "data": {
      "text/plain": [
       "3.3166247903554"
      ]
     },
     "execution_count": 60,
     "metadata": {},
     "output_type": "execute_result"
    }
   ],
   "source": [
    "n=11\n",
    "n**0.5"
   ]
  },
  {
   "cell_type": "code",
   "execution_count": 62,
   "metadata": {},
   "outputs": [
    {
     "ename": "SyntaxError",
     "evalue": "invalid syntax (<ipython-input-62-d54bbc6c068f>, line 5)",
     "output_type": "error",
     "traceback": [
      "\u001b[0;36m  File \u001b[0;32m\"<ipython-input-62-d54bbc6c068f>\"\u001b[0;36m, line \u001b[0;32m5\u001b[0m\n\u001b[0;31m    while chunk := f.read(8192):\u001b[0m\n\u001b[0m                 ^\u001b[0m\n\u001b[0;31mSyntaxError\u001b[0m\u001b[0;31m:\u001b[0m invalid syntax\n"
     ]
    }
   ],
   "source": [
    "import hashlib\n",
    "\n",
    "with open(\"Movie+Assignment+Data (1).csv\", \"rb\") as f:\n",
    "\n",
    "hashlib.md5(pathlib.Path('path/to/file').read_bytes()).hexdigest()\n"
   ]
  },
  {
   "cell_type": "code",
   "execution_count": 66,
   "metadata": {},
   "outputs": [
    {
     "data": {
      "text/plain": [
       "'43c760a691c4055e91bd9cd3b7566d0e'"
      ]
     },
     "execution_count": 66,
     "metadata": {},
     "output_type": "execute_result"
    }
   ],
   "source": [
    "import hashlib\n",
    "def md5sum(filename, blocksize=65536):\n",
    "    hash = hashlib.md5()\n",
    "    with open(filename, \"rb\") as f:\n",
    "        for block in iter(lambda: f.read(blocksize), b\"\"):\n",
    "            hash.update(block)\n",
    "    return hash.hexdigest()\n",
    "md5sum(\"Movie+Assignment+Data (1).csv\")"
   ]
  },
  {
   "cell_type": "code",
   "execution_count": 68,
   "metadata": {},
   "outputs": [
    {
     "data": {
      "text/plain": [
       "'43c760a691c4055e91bd9cd3b7566d0e'"
      ]
     },
     "execution_count": 68,
     "metadata": {},
     "output_type": "execute_result"
    }
   ],
   "source": [
    "import hashlib\n",
    "def md5sum(filename, blocksize=65536):\n",
    "    hash = hashlib.md5()\n",
    "    with open(filename, \"rb\") as f:\n",
    "        for block in iter(lambda: f.read(blocksize), b\"\"):\n",
    "            hash.update(block)\n",
    "    return hash.hexdigest()\n",
    "md5sum(\"(1) copy.csv\")"
   ]
  },
  {
   "cell_type": "code",
   "execution_count": 73,
   "metadata": {},
   "outputs": [
    {
     "name": "stdout",
     "output_type": "stream",
     "text": [
      "15,2\n",
      "7\n",
      "7\n",
      "10\n"
     ]
    }
   ],
   "source": [
    "myStr = input()\n",
    "m = int(myStr.split(',')[0])\n",
    "c = int(myStr.split(',')[1])\n",
    "\n",
    "c_ch = c_w = m//c\n",
    "\n",
    "while((c_w//3)!=0):\n",
    "    c_ch += (c_w//3)\n",
    "    c_w = (c_w//3)+(c_w%3)\n",
    "\n",
    "\n",
    "print(c_ch)"
   ]
  },
  {
   "cell_type": "code",
   "execution_count": 77,
   "metadata": {},
   "outputs": [
    {
     "name": "stdout",
     "output_type": "stream",
     "text": [
      "    *\n",
      "   *_*\n",
      "  *_*_*\n",
      " *_*_*_*\n",
      "*_*_*_*_*\n"
     ]
    }
   ],
   "source": [
    "myNum = 5\n",
    "\n",
    "for i in range(1,myNum+1):\n",
    "    for j in range(myNum-i):\n",
    "        print(\" \",end=\"\")\n",
    "    for k in range(i-1):\n",
    "        print(\"*_\",end=\"\")\n",
    "    print(\"*\")"
   ]
  },
  {
   "cell_type": "code",
   "execution_count": 91,
   "metadata": {},
   "outputs": [
    {
     "name": "stdout",
     "output_type": "stream",
     "text": [
      "5-4-3-2-1-2-3-4-5\n"
     ]
    }
   ],
   "source": [
    "n = 5\n",
    "for i in range(n,0,-1):\n",
    "    print(str(i)+\"-\",end=\"\")\n",
    "for i in range(2,n+1):\n",
    "    if(i!=n):\n",
    "        print(str(i)+\"-\",end=\"\")\n",
    "    else:\n",
    "        print(str(i))"
   ]
  },
  {
   "cell_type": "code",
   "execution_count": 161,
   "metadata": {},
   "outputs": [
    {
     "name": "stdout",
     "output_type": "stream",
     "text": [
      "5-\n",
      "5-4-\n",
      "5-4-3-\n",
      "5-4-3-2-\n",
      "5-4-3-2-1-\n"
     ]
    }
   ],
   "source": [
    "n = 5\n",
    "for i in range(n,0,-1):\n",
    "    for j in range(n,i-1,-1):\n",
    "        print(str(j)+\"-\",end=\"\")\n",
    "    print(\"\")"
   ]
  },
  {
   "cell_type": "code",
   "execution_count": 166,
   "metadata": {},
   "outputs": [
    {
     "data": {
      "text/plain": [
       "['E-', 'E-D-', 'E-D-C-', 'E-D-C-B-', 'E-D-C-B-A-']"
      ]
     },
     "execution_count": 166,
     "metadata": {},
     "output_type": "execute_result"
    }
   ],
   "source": [
    "n = 5\n",
    "l_1 =[]\n",
    "for i in range(n,0,-1):\n",
    "    testStr = \"\"\n",
    "    for j in range(n,i-1,-1):\n",
    "        testStr =testStr + str(chr(j+64))+\"-\"\n",
    "    l_1.append(testStr)\n",
    "    #print(\"\")\n",
    "l_1"
   ]
  },
  {
   "cell_type": "code",
   "execution_count": 168,
   "metadata": {},
   "outputs": [
    {
     "data": {
      "text/plain": [
       "['E-',\n",
       " 'E-D-E-',\n",
       " 'E-D-C-D-E-',\n",
       " 'E-D-C-B-C-D-E-',\n",
       " 'E-D-C-B-A-B-C-D-E-',\n",
       " 'E-D-C-B-C-D-E-',\n",
       " 'E-D-C-D-E-',\n",
       " 'E-D-E-',\n",
       " 'E-']"
      ]
     },
     "execution_count": 168,
     "metadata": {},
     "output_type": "execute_result"
    }
   ],
   "source": [
    "n = 5\n",
    "l_1 =[]\n",
    "for i in range(n,0,-1):\n",
    "    testStr = \"\"\n",
    "    for j in range(n,i-1,-1):\n",
    "        testStr =testStr + str(chr(j+64))+\"-\"\n",
    "    l_1.append(testStr)\n",
    "    #print(\"\")\n",
    "for i in range(1,n):\n",
    "    #print(\"\")\n",
    "    for j in range(n-i+1,n+1):\n",
    "        l_1[i] = l_1[i]+str(chr(j+64))+\"-\"\n",
    "\n",
    "\n",
    "for t in range(n-2,-1,-1):\n",
    "    l_1.append(l_1[t])\n",
    "\n",
    "l_1"
   ]
  },
  {
   "cell_type": "code",
   "execution_count": 198,
   "metadata": {},
   "outputs": [
    {
     "name": "stdout",
     "output_type": "stream",
     "text": [
      "--------e--------\n",
      "------e-d-e------\n",
      "----e-d-c-d-e----\n",
      "--e-d-c-b-c-d-e--\n",
      "e-d-c-b-a-b-c-d-e\n",
      "--e-d-c-b-c-d-e--\n",
      "----e-d-c-d-e----\n",
      "------e-d-e------\n",
      "--------e--------\n"
     ]
    }
   ],
   "source": [
    "\n",
    "n = 5\n",
    "l_1 =[]\n",
    "for i in range(n,0,-1):\n",
    "    #print(\"\")\n",
    "    testStr = \"\"\n",
    "    for j in range(n,i-1,-1):\n",
    "        testStr =testStr + str(chr(j+96))+\"-\"\n",
    "    l_1.append(testStr)\n",
    "\n",
    "for i in range(1,n):\n",
    "    for j in range(n-i+1,n+1):\n",
    "        l_1[i] = l_1[i]+str(chr(j+96))+\"-\"\n",
    "\n",
    "\n",
    "for t in range(n-2,-1,-1):\n",
    "    l_1.append(l_1[t])\n",
    "\n",
    "maxdashLength = (4*(n-1))+1\n",
    "for n in l_1:\n",
    "    len_of_dash = int((maxdashLength - len(n[0:-1]))/2)\n",
    "    for i in range(0,len_of_dash):\n",
    "        print(\"-\",end=\"\")\n",
    "    print(n[0:-1],end=\"\")\n",
    "    for i in range(0,len_of_dash):\n",
    "        print(\"-\",end=\"\")\n",
    "    print(\"\")"
   ]
  },
  {
   "cell_type": "code",
   "execution_count": 193,
   "metadata": {},
   "outputs": [
    {
     "name": "stdout",
     "output_type": "stream",
     "text": [
      "-\n",
      "-\n",
      "-\n",
      "-\n",
      "-\n",
      "-\n",
      "-\n",
      "-\n",
      "-\n",
      "-\n",
      "-\n",
      "-\n"
     ]
    }
   ],
   "source": [
    "for i in range(0,len(l_1)):\n",
    "    len_of_dash = int((maxdashLength - len(l_1[i][0:-1]))/2)\n",
    "    for j in range(0,len_of_dash):\n",
    "        \n",
    "        "
   ]
  },
  {
   "cell_type": "code",
   "execution_count": 143,
   "metadata": {},
   "outputs": [
    {
     "name": "stdout",
     "output_type": "stream",
     "text": [
      "        A \r\n",
      "       A B \r\n",
      "      A B C \r\n",
      "     A B C D \r\n",
      "    A B C D E \r\n",
      "   A B C D E F \r\n",
      "    G H I J K \r\n",
      "     L M N O \r\n",
      "      P Q R \r\n",
      "       S T \r\n",
      "        U \r\n"
     ]
    }
   ],
   "source": [
    "def pattern(n):\n",
    "    k = 2 * n - 2\n",
    "    for i in range(0, n):\n",
    "        for j in range(0, k):\n",
    "            print(\" \",end=\"\")\n",
    "        k = k - 1\n",
    "        x = 65\n",
    "        for j in range(0, i + 1):\n",
    "            ch = chr(x)\n",
    "            print(ch, end=\" \")\n",
    "            x += 1\n",
    "        print(\"\\r\")\n",
    "    k = n - 2\n",
    "    x = 65\n",
    "    for i in range(n, -1, -1):\n",
    "        for j in range(k, 0, -1):\n",
    "            print(end=\" \")\n",
    "        k = k + 1\n",
    "        for j in range(0, i + 1):\n",
    "            ch = chr(x)\n",
    "            print(ch, end=\" \")\n",
    "            x += 1\n",
    "        print(\"\\r\")\n",
    " \n",
    " \n",
    "pattern(5)"
   ]
  },
  {
   "cell_type": "code",
   "execution_count": 207,
   "metadata": {},
   "outputs": [
    {
     "data": {
      "text/plain": [
       "153"
      ]
     },
     "execution_count": 207,
     "metadata": {},
     "output_type": "execute_result"
    }
   ],
   "source": [
    "n = 153\n",
    "length_num = len(str(n))\n",
    "length_num\n",
    "\n",
    "n%1000"
   ]
  },
  {
   "cell_type": "code",
   "execution_count": 215,
   "metadata": {},
   "outputs": [
    {
     "name": "stdout",
     "output_type": "stream",
     "text": [
      "3\n",
      "5\n",
      "1\n",
      "True\n"
     ]
    }
   ],
   "source": [
    "Number = 153\n",
    "Number_actual = Number\n",
    "length_num = len(str(Number))\n",
    "sum=0\n",
    "\n",
    "while(Number > 0):\n",
    "    Reminder = Number % 10\n",
    "    #Sum = Sum + Reminder\n",
    "    Number = Number //10\n",
    "    sum = sum+Reminder**length_num\n",
    "    #print(Number)\n",
    "if(sum==Number_actual):\n",
    "    print(True)\n",
    "else:\n",
    "    print(False)"
   ]
  },
  {
   "cell_type": "code",
   "execution_count": 242,
   "metadata": {},
   "outputs": [
    {
     "name": "stdout",
     "output_type": "stream",
     "text": [
      "2\n",
      "0\n",
      "1\n"
     ]
    }
   ],
   "source": [
    "nterms = int(input())\n",
    "\n",
    "# first two terms\n",
    "n1, n2 = 0, 1\n",
    "count = 0\n",
    "\n",
    "# check if the number of terms is valid\n",
    "if nterms <= 0:\n",
    "   print(\"Please enter a positive integer\")\n",
    "elif nterms == 1:\n",
    "   print(n1)\n",
    "else:\n",
    "   while count < nterms:\n",
    "       print(n1)\n",
    "       nth = n1 + n2\n",
    "       # update values\n",
    "       n1 = n2\n",
    "       n2 = nth\n",
    "       count += 1"
   ]
  },
  {
   "cell_type": "code",
   "execution_count": 246,
   "metadata": {},
   "outputs": [
    {
     "data": {
      "text/plain": [
       "[20, 40, 60, 80, 100]"
      ]
     },
     "execution_count": 246,
     "metadata": {},
     "output_type": "execute_result"
    }
   ],
   "source": [
    "L=[10,20,30,40,50,60,70,80,90,100]\n",
    "L[1::2]"
   ]
  },
  {
   "cell_type": "code",
   "execution_count": 255,
   "metadata": {},
   "outputs": [
    {
     "data": {
      "text/plain": [
       "[45, 35, 25, 10, 20, 30]"
      ]
     },
     "execution_count": 255,
     "metadata": {},
     "output_type": "execute_result"
    }
   ],
   "source": [
    "B = [45, 35, 25]\n",
    "A = [10, 20, 30]\n",
    "B.extend(A)\n",
    "B"
   ]
  },
  {
   "cell_type": "code",
   "execution_count": 251,
   "metadata": {},
   "outputs": [],
   "source": [
    "input_list = B"
   ]
  },
  {
   "cell_type": "code",
   "execution_count": 254,
   "metadata": {},
   "outputs": [
    {
     "name": "stdout",
     "output_type": "stream",
     "text": [
      "35 20\n"
     ]
    }
   ],
   "source": [
    "lg=len(input_list) #Calculate the length of the list\n",
    "l=sorted(input_list) #sort the list.\n",
    "#then we can print the 2nd min and 2nd max from the list\n",
    "\n",
    "print(l[lg-2],l[1])"
   ]
  },
  {
   "cell_type": "code",
   "execution_count": 282,
   "metadata": {},
   "outputs": [
    {
     "name": "stdout",
     "output_type": "stream",
     "text": [
      "i:2\n",
      "4\n",
      "i:3\n",
      "2\n",
      "i:4\n",
      "i:5\n",
      "4\n"
     ]
    }
   ],
   "source": [
    "num_val = 5\n",
    "for i in range(2,num_val+1):\n",
    "    "
   ]
  },
  {
   "cell_type": "code",
   "execution_count": 269,
   "metadata": {},
   "outputs": [
    {
     "name": "stdout",
     "output_type": "stream",
     "text": [
      "2\n",
      "3\n",
      "4\n",
      "5\n"
     ]
    }
   ],
   "source": [
    "num_val = 5\n",
    "for i in range(2,num_val+1):\n",
    "    print(i)"
   ]
  },
  {
   "cell_type": "code",
   "execution_count": 284,
   "metadata": {},
   "outputs": [
    {
     "name": "stdout",
     "output_type": "stream",
     "text": [
      "5\n",
      "2\n",
      "5\n",
      "3\n",
      "5\n",
      "4\n",
      "5\n",
      "5 is test a prime number\n"
     ]
    }
   ],
   "source": [
    "# Program to check if a number is prime or not\n",
    "\n",
    "num = 5\n",
    "\n",
    "# To take input from the user\n",
    "#num = int(input(\"Enter a number: \"))\n",
    "\n",
    "# prime numbers are greater than 1\n",
    "if num > 1:\n",
    "   # check for factors\n",
    "   print(num)\n",
    "   for i in range(2,num):\n",
    "       print(i)\n",
    "       print(num)\n",
    "       if (num % i) == 0:\n",
    "           print(num,\"is not a prime number\")\n",
    "           print(i,\"times\",num//i,\"is\",num)\n",
    "           break\n",
    "   else:\n",
    "       print(num,\"is test a prime number\")\n",
    "       \n",
    "# if input number is less than\n",
    "# or equal to 1, it is not prime\n",
    "else:\n",
    "   print(num,\"is not a prime number\")\n"
   ]
  },
  {
   "cell_type": "code",
   "execution_count": 286,
   "metadata": {},
   "outputs": [
    {
     "data": {
      "text/plain": [
       "True"
      ]
     },
     "execution_count": 286,
     "metadata": {},
     "output_type": "execute_result"
    }
   ],
   "source": [
    "def isPrime(n) : \n",
    "  \n",
    "    # Corner cases \n",
    "    if (n <= 1) : \n",
    "        return False\n",
    "    if (n <= 3) : \n",
    "        return True\n",
    "  \n",
    "    # This is checked so that we can skip  \n",
    "    # middle five numbers in below loop \n",
    "    if (n % 2 == 0 or n % 3 == 0) : \n",
    "        return False\n",
    "  \n",
    "    i = 5\n",
    "    while(i * i <= n) : \n",
    "        if (n % i == 0 or n % (i + 2) == 0) : \n",
    "            return False\n",
    "        i = i + 6\n",
    "  \n",
    "    return True\n",
    "isPrime(5)"
   ]
  },
  {
   "cell_type": "code",
   "execution_count": 288,
   "metadata": {},
   "outputs": [
    {
     "data": {
      "text/plain": [
       "10"
      ]
     },
     "execution_count": 288,
     "metadata": {},
     "output_type": "execute_result"
    }
   ],
   "source": [
    "num_val = 5\n",
    "sum = 0\n",
    "for i in range(2,num_val+1):\n",
    "    if(isPrime(i)):\n",
    "        sum+=i\n",
    "        \n",
    "sum"
   ]
  },
  {
   "cell_type": "code",
   "execution_count": 290,
   "metadata": {},
   "outputs": [
    {
     "data": {
      "text/plain": [
       "30"
      ]
     },
     "execution_count": 290,
     "metadata": {},
     "output_type": "execute_result"
    }
   ],
   "source": [
    "from functools import reduce\n",
    "\n",
    "data= [2,4,6,8,10]\n",
    "check= 4\n",
    "\n",
    "#start writing your code to find if check is above average of data \n",
    "sum = reduce(lambda x,y:x+y,data)\n",
    "sum"
   ]
  },
  {
   "cell_type": "code",
   "execution_count": 291,
   "metadata": {},
   "outputs": [],
   "source": [
    "df = pd.DataFrame([('bird', 2, 2),\n",
    "                   ('mammal', 4, np.nan),\n",
    "                   ('arthropod', 8, 0),\n",
    "                   ('bird', 2, np.nan)],\n",
    "                  index=('falcon', 'horse', 'spider', 'ostrich'),\n",
    "                  columns=('species', 'legs', 'wings'))\n"
   ]
  },
  {
   "cell_type": "code",
   "execution_count": 292,
   "metadata": {},
   "outputs": [
    {
     "data": {
      "text/html": [
       "<div>\n",
       "<style scoped>\n",
       "    .dataframe tbody tr th:only-of-type {\n",
       "        vertical-align: middle;\n",
       "    }\n",
       "\n",
       "    .dataframe tbody tr th {\n",
       "        vertical-align: top;\n",
       "    }\n",
       "\n",
       "    .dataframe thead th {\n",
       "        text-align: right;\n",
       "    }\n",
       "</style>\n",
       "<table border=\"1\" class=\"dataframe\">\n",
       "  <thead>\n",
       "    <tr style=\"text-align: right;\">\n",
       "      <th></th>\n",
       "      <th>species</th>\n",
       "      <th>legs</th>\n",
       "      <th>wings</th>\n",
       "    </tr>\n",
       "  </thead>\n",
       "  <tbody>\n",
       "    <tr>\n",
       "      <th>falcon</th>\n",
       "      <td>bird</td>\n",
       "      <td>2</td>\n",
       "      <td>2.0</td>\n",
       "    </tr>\n",
       "    <tr>\n",
       "      <th>horse</th>\n",
       "      <td>mammal</td>\n",
       "      <td>4</td>\n",
       "      <td>NaN</td>\n",
       "    </tr>\n",
       "    <tr>\n",
       "      <th>spider</th>\n",
       "      <td>arthropod</td>\n",
       "      <td>8</td>\n",
       "      <td>0.0</td>\n",
       "    </tr>\n",
       "    <tr>\n",
       "      <th>ostrich</th>\n",
       "      <td>bird</td>\n",
       "      <td>2</td>\n",
       "      <td>NaN</td>\n",
       "    </tr>\n",
       "  </tbody>\n",
       "</table>\n",
       "</div>"
      ],
      "text/plain": [
       "           species  legs  wings\n",
       "falcon        bird     2    2.0\n",
       "horse       mammal     4    NaN\n",
       "spider   arthropod     8    0.0\n",
       "ostrich       bird     2    NaN"
      ]
     },
     "execution_count": 292,
     "metadata": {},
     "output_type": "execute_result"
    }
   ],
   "source": [
    "df"
   ]
  },
  {
   "cell_type": "code",
   "execution_count": 295,
   "metadata": {},
   "outputs": [
    {
     "data": {
      "text/html": [
       "<div>\n",
       "<style scoped>\n",
       "    .dataframe tbody tr th:only-of-type {\n",
       "        vertical-align: middle;\n",
       "    }\n",
       "\n",
       "    .dataframe tbody tr th {\n",
       "        vertical-align: top;\n",
       "    }\n",
       "\n",
       "    .dataframe thead th {\n",
       "        text-align: right;\n",
       "    }\n",
       "</style>\n",
       "<table border=\"1\" class=\"dataframe\">\n",
       "  <thead>\n",
       "    <tr style=\"text-align: right;\">\n",
       "      <th></th>\n",
       "      <th>species</th>\n",
       "      <th>legs</th>\n",
       "      <th>wings</th>\n",
       "    </tr>\n",
       "  </thead>\n",
       "  <tbody>\n",
       "    <tr>\n",
       "      <th>falcon</th>\n",
       "      <td>bird</td>\n",
       "      <td>2</td>\n",
       "      <td>2.0</td>\n",
       "    </tr>\n",
       "    <tr>\n",
       "      <th>horse</th>\n",
       "      <td>mammal</td>\n",
       "      <td>4</td>\n",
       "      <td>NaN</td>\n",
       "    </tr>\n",
       "    <tr>\n",
       "      <th>spider</th>\n",
       "      <td>arthropod</td>\n",
       "      <td>8</td>\n",
       "      <td>0.0</td>\n",
       "    </tr>\n",
       "    <tr>\n",
       "      <th>ostrich</th>\n",
       "      <td>bird</td>\n",
       "      <td>2</td>\n",
       "      <td>NaN</td>\n",
       "    </tr>\n",
       "  </tbody>\n",
       "</table>\n",
       "</div>"
      ],
      "text/plain": [
       "           species  legs  wings\n",
       "falcon        bird     2    2.0\n",
       "horse       mammal     4    NaN\n",
       "spider   arthropod     8    0.0\n",
       "ostrich       bird     2    NaN"
      ]
     },
     "execution_count": 295,
     "metadata": {},
     "output_type": "execute_result"
    }
   ],
   "source": [
    "df.iloc[:,0:3]"
   ]
  },
  {
   "cell_type": "code",
   "execution_count": 299,
   "metadata": {},
   "outputs": [
    {
     "name": "stdout",
     "output_type": "stream",
     "text": [
      "4\n"
     ]
    }
   ],
   "source": [
    "data_list=[1, 2, 4, 2, 3,  2, 3, 3, 6, 7]\n",
    "key=3\n",
    "index = -1\n",
    "for i in range(0,len(data_list)):\n",
    "    if data_list[i]==key:\n",
    "        index=i\n",
    "        break\n",
    "\n",
    "print(index)"
   ]
  },
  {
   "cell_type": "code",
   "execution_count": 13,
   "metadata": {},
   "outputs": [
    {
     "name": "stdout",
     "output_type": "stream",
     "text": [
      "{'meta': {'httpStatus': '200 - OK', 'requestId': '6a58a110-a73d-45bc-b555-62793d9b7cb9'}, 'result': {'elements': [{'QuestionText': 'On a scale from 0-10, how likely are you to recommend Teradata to a friend or colleague?', 'DataExportTag': 'Q1', 'QuestionType': 'MC', 'Selector': 'NPS', 'Configuration': {'QuestionDescriptionOption': 'UseText'}, 'QuestionDescription': 'On a scale from 0-10, how likely are you to recommend Teradata to a friend or colleague?', 'Choices': [{'Display': '0'}, {'Display': '1'}, {'Display': '2'}, {'Display': '3'}, {'Display': '4'}, {'Display': '5'}, {'Display': '6'}, {'Display': '7'}, {'Display': '8'}, {'Display': '9'}, {'Display': '10'}], 'ChoiceOrder': ['0', '1', '2', '3', '4', '5', '6', '7', '8', '9', '10'], 'Validation': {'Settings': {'ForceResponse': 'ON', 'ForceResponseType': 'ON', 'Type': 'None'}}, 'Language': {'ES': {'QuestionText': '¿Qué tan probable es que recomiende Teradata a un colega o compañero de trabajo?', 'ColumnLabels': [{'Display': 'Nada probable'}, {'Display': 'Extremadamente probable'}]}, 'ES-ES': {'QuestionText': '<div><div><span style=\"margin: 0px; padding: 0px;\"><span style=\"margin: 0px; padding: 0px; font-family: Arial, Helvetica, sans-serif;\">¿Qué probabilidades hay de que recomiende Teradata a un compañero o a otro profesional?</span></span></div></div>', 'ColumnLabels': [{'Display': 'No es probable'}, {'Display': 'Es muy probable'}]}, 'FR': {'QuestionText': '<div><div><span style=\"margin: 0px; padding: 0px;\"><span style=\"margin: 0px; padding: 0px; font-family: Arial, Helvetica, sans-serif;\">Quelle est la probabilité que vous recommandiez Teradata à un collègue ou à un pair professionnel ?</span></span></div></div>', 'ColumnLabels': [{'Display': 'Peu probable'}, {'Display': 'Extrêmement probable'}]}, 'DE': {'QuestionText': '<div><div><span style=\"margin: 0px; padding: 0px;\"><span style=\"margin: 0px; padding: 0px; font-family: Arial, Helvetica, sans-serif;\">Wie wahrscheinlich würden Sie Teradata Kollegen in Ihrem Unternehmen oder in der Branche empfehlen?</span></span></div></div>', 'ColumnLabels': [{'Display': 'Nicht wahrscheinlich'}, {'Display': '&Auml;u&szlig;erst wahrscheinlich'}]}, 'IT': {'QuestionText': '<div><div><span style=\"margin: 0px; padding: 0px;\"><span style=\"margin: 0px; padding: 0px; font-family: Arial, Helvetica, sans-serif;\">Consiglieresti Teradata a un collega o ad altri professionisti?</span></span></div></div>', 'ColumnLabels': [{'Display': 'Probabilmente no'}, {'Display': 'Molto probabilmente sì\\n'}]}, 'PT': {'QuestionText': '<div>\\n<div>Qual &eacute; a probabilidade de recomendar a&nbsp;Teradata&nbsp;a um colega ou parceiro profissional?</div>\\n</div>', 'ColumnLabels': [{'Display': 'Improvável'}, {'Display': 'Muito provável\\n'}]}, 'RU': {'QuestionText': '<div><div><span style=\"margin: 0px; padding: 0px;\"><span style=\"margin: 0px; padding: 0px; font-family: Arial, Helvetica, sans-serif;\">Насколько Вы готовы порекомендовать Teradata коллеге или знакомому профессионалу?</span></span></div></div>', 'ColumnLabels': [{'Display': 'Исключено'}, {'Display': 'Весьма вероятно\\n'}]}, 'JA': {'QuestionText': '<div><div><span style=\"margin: 0px; padding: 0px;\"><span style=\"margin: 0px; padding: 0px; font-family: Arial, Helvetica, sans-serif;\">お客様が仕事仲間や同僚にテラデータを薦める可能性はどれぐらいありますか？ （0～10の11段階でお答えください）</span></span></div></div>', 'ColumnLabels': [{'Display': '可能性はない'}, {'Display': '可能性は非常に高い'}]}, 'KO': {'QuestionText': '<div><div><span style=\"margin: 0px; padding: 0px;\"><span style=\"margin: 0px; padding: 0px; font-family: Arial, Helvetica, sans-serif;\">질문:동료 또는 직장 동기에게 테라데이터를 추천할 의향은 어느 정도 입니까?</span></span></div></div>', 'ColumnLabels': [{'Display': '의향 없음'}, {'Display': '의향 매우 높음'}]}, 'ZH-S': {'QuestionText': '<div><div><span style=\"margin: 0px; padding: 0px;\"><span style=\"margin: 0px; padding: 0px; font-family: Arial, Helvetica, sans-serif;\">您有多大可能将 Teradata 推荐给同事或同行？</span></span></div></div>', 'ColumnLabels': [{'Display': '不太可能'}, {'Display': '极有可能'}]}, 'ZH-T': {'QuestionText': '<div><div><div>您會向朋友或專業同儕推薦 Teradata 的可能性有多大？</div></div></div><div><br></div>', 'ColumnLabels': [{'Display': '不可能'}, {'Display': '極為可能'}]}}, 'NextChoiceId': 11, 'NextAnswerId': 1, 'QuestionID': 'QID1', 'DefaultChoices': False, 'GradingData': [], 'ColumnLabels': [{'Display': 'Not at all likely', 'IsLabelDefault': True}, {'Display': 'Extremely likely', 'IsLabelDefault': True}], 'DataVisibility': {'Private': False, 'Hidden': False}, 'QuestionText_Unsafe': 'On a scale from 0-10, how likely are you to recommend Teradata to a friend or colleague?'}, {'QuestionText': 'We’re glad you feel that way! Please tell us what you value the most.', 'DefaultChoices': False, 'DataExportTag': 'Q2', 'QuestionID': 'QID2', 'QuestionType': 'TE', 'Selector': 'ESTB', 'Configuration': {'QuestionDescriptionOption': 'UseText', 'InputWidth': 680, 'InputHeight': 144}, 'QuestionDescription': 'We’re glad you feel that way! Please tell us what you value the most.', 'Validation': {'Settings': {'ForceResponse': 'ON', 'ForceResponseType': 'ON', 'Type': 'None', 'MinChars': '10', 'ValidDateType': 'DateWithFormat', 'ValidPhoneType': 'ValidUSPhone', 'ValidZipType': 'ValidUSZip'}}, 'GradingData': [], 'Language': {'DE': {'QuestionText': '<div><span style=\"margin: 0px; padding: 0px;\"><span style=\"margin: 0px; padding: 0px; font-family: Arial, Helvetica, sans-serif;\">Wir freuen uns, dass Sie so denken!Bitte sagen Sie uns, was Sie am meisten schätzen.</span></span></div><div><span style=\"margin: 0px; padding: 0px;\"><span style=\"margin: 0px; padding: 0px; font-family: Arial, Helvetica, sans-serif;\"><br></span></span></div><span style=\"color: rgb(0, 0, 0); font-family: avenir, proxima-nova, helvetica; font-size: 12px;\"></span><div></div>'}, 'ES': {'QuestionText': '¡Nos alegra que se sienta así! Díganos qué es lo que más valora.'}, 'ES-ES': {'QuestionText': '<div><span style=\"margin: 0px; padding: 0px;\"><span style=\"margin: 0px; padding: 0px; font-family: Arial, Helvetica, sans-serif;\">¡Nos alegra que opine así! Díganos qué es lo que más valora.</span></span></div><div><span style=\"margin: 0px; padding: 0px;\"><span style=\"margin: 0px; padding: 0px; font-family: Arial, Helvetica, sans-serif;\"><br></span></span></div><span style=\"color: rgb(0, 0, 0); font-family: avenir, proxima-nova, helvetica; font-size: 12px;\"></span>'}, 'FR': {'QuestionText': '<div><span style=\"margin: 0px; padding: 0px;\"><span style=\"margin: 0px; padding: 0px; font-family: Arial, Helvetica, sans-serif;\">Nous sommes ravis de vous entendre dire cela !Veuillez nous dire ce que vous appréciez le plus.</span></span></div><div><span style=\"margin: 0px; padding: 0px;\"><span style=\"margin: 0px; padding: 0px; font-family: Arial, Helvetica, sans-serif;\"><br></span></span></div><span style=\"color: rgb(0, 0, 0); font-family: avenir, proxima-nova, helvetica; font-size: 12px;\"></span>'}, 'IT': {'QuestionText': '<div><div><span style=\"margin: 0px; padding: 0px;\"><span style=\"margin: 0px; padding: 0px; font-family: Arial, Helvetica, sans-serif;\">Siamo molto lieti del punteggio che hai assegnato!Per favore, specifica cosa apprezzi maggiormente.</span></span></div><span style=\"color: rgb(0, 0, 0); font-family: avenir, proxima-nova, helvetica; font-size: 12px;\"></span><div></div></div><span style=\"color: rgb(0, 0, 0); font-family: avenir, proxima-nova, helvetica; font-size: 12px;\"></span><div></div>'}, 'JA': {'QuestionText': '<div><span style=\"margin: 0px; padding: 0px;\"><span style=\"margin: 0px; padding: 0px; font-family: Arial, Helvetica, sans-serif;\">お客様が最も高くご評価いただいた点をお聞かせください。</span></span></div><span style=\"color: rgb(0, 0, 0); font-family: avenir, proxima-nova, helvetica; font-size: 12px;\"></span>'}, 'KO': {'QuestionText': '<div><span style=\"margin: 0px; padding: 0px;\"><span style=\"margin: 0px; padding: 0px; font-family: Arial, Helvetica, sans-serif;\">그렇게 느끼셨다니 기쁩니다!가장 만족한 부분이 무엇인지 알려주십시오.</span></span></div><span style=\"color: rgb(0, 0, 0); font-family: avenir, proxima-nova, helvetica; font-size: 12px;\"></span>'}, 'PT': {'QuestionText': '<div>O que é que faltou ou desiludiu na sua experiência?</div><span style=\"color: rgb(0, 0, 0); font-family: avenir, proxima-nova, helvetica; font-size: 12px;\"></span>'}, 'RU': {'QuestionText': '<div><span style=\"margin: 0px; padding: 0px;\"><span style=\"margin: 0px; padding: 0px; font-family: Arial, Helvetica, sans-serif;\">Мы рады, что вы так считаете! Расскажите, что нравится вам больше всего.</span></span></div><div><span style=\"margin: 0px; padding: 0px;\"><span style=\"margin: 0px; padding: 0px; font-family: Arial, Helvetica, sans-serif;\"><br></span></span></div><span style=\"color: rgb(0, 0, 0); font-family: avenir, proxima-nova, helvetica; font-size: 12px;\"></span>'}, 'ZH-S': {'QuestionText': '<div><span style=\"margin: 0px; padding: 0px;\"><span style=\"margin: 0px; padding: 0px; font-family: Arial, Helvetica, sans-serif;\">我们很高兴您有这种感受！请告诉我们您最看重的是什么。</span></span></div><span style=\"color: rgb(0, 0, 0); font-family: avenir, proxima-nova, helvetica; font-size: 12px;\"></span><div></div>'}, 'ZH-T': {'QuestionText': '<div><span style=\"margin: 0px; padding: 0px;\"><span style=\"margin: 0px; padding: 0px; font-family: Arial, Helvetica, sans-serif;\">我們很高興您如此認為！請告訴我們您最重視的是什麼。</span></span></div><span style=\"color: rgb(0, 0, 0); font-family: avenir, proxima-nova, helvetica; font-size: 12px;\"></span><div></div>'}}, 'NextChoiceId': 4, 'NextAnswerId': 1, 'SearchSource': {'AllowFreeResponse': 'false'}, 'DataVisibility': {'Private': False, 'Hidden': False}, 'InPageDisplayLogic': {'0': {'0': {'ChoiceLocator': 'q://QID1/IsPromoter', 'Description': '<span class=\"ConjDesc\">If</span> <span class=\"QuestionDesc\">On a scale from 0-10, how likely are you to recommend Teradata to a friend or colleague?</span> <span class=\"LeftOpDesc\">Is Promoter</span> <span class=\"LeftOpDesc\">Is True</span> ', 'LeftOperand': 'q://QID1/IsPromoter', 'LogicType': 'Question', 'Operator': 'EqualTo', 'QuestionID': 'QID1', 'QuestionIDFromLocator': 'QID1', 'QuestionIsInLoop': 'no', 'RightOperand': '1', 'Type': 'Expression'}, 'Type': 'If'}, 'Type': 'BooleanExpression', 'inPage': True}, 'QuestionText_Unsafe': 'We’re glad you feel that way! Please tell us what you value the most.'}, {'QuestionText': 'What can we do to improve your experience?', 'DefaultChoices': False, 'DataExportTag': 'Q3', 'QuestionID': 'QID3', 'QuestionType': 'TE', 'Selector': 'ESTB', 'Configuration': {'QuestionDescriptionOption': 'UseText', 'InputWidth': 680, 'InputHeight': 144}, 'QuestionDescription': 'What can we do to improve your experience?', 'Validation': {'Settings': {'ForceResponse': 'ON', 'ForceResponseType': 'ON', 'Type': 'None', 'MinChars': '10'}}, 'GradingData': [], 'Language': {'DE': {'QuestionText': '<div><span style=\"margin: 0px; padding: 0px;\"><span style=\"margin: 0px; padding: 0px; font-family: Arial, Helvetica, sans-serif;\">Was fehlte oder enttäuschte Sie bei Ihrer Erfahrung?</span></span></div><div><span style=\"margin: 0px; padding: 0px;\"><span style=\"margin: 0px; padding: 0px; font-family: Arial, Helvetica, sans-serif;\"><br></span></span></div><span style=\"color: rgb(0, 0, 0); font-family: avenir, proxima-nova, helvetica; font-size: 12px;\"></span><div></div>'}, 'ES': {'QuestionText': '&iquest;Qu&eacute; podemos hacer para mejorar su experiencia?'}, 'ES-ES': {'QuestionText': '¿Qué podemos hacer para mejorar su experiencia?'}, 'FR': {'QuestionText': '<div><div><span style=\"margin: 0px; padding: 0px;\"><span style=\"margin: 0px; padding: 0px; font-family: Arial, Helvetica, sans-serif;\">Que pouvons-nous faire pour améliorer votre expérience?</span></span></div><div><span style=\"margin: 0px; padding: 0px;\"><span style=\"margin: 0px; padding: 0px; font-family: Arial, Helvetica, sans-serif;\"><br></span></span></div><span style=\"color: rgb(0, 0, 0); font-family: avenir, proxima-nova, helvetica; font-size: 12px;\"></span></div><span style=\"color: rgb(0, 0, 0); font-family: avenir, proxima-nova, helvetica; font-size: 12px;\"></span>'}, 'IT': {'QuestionText': '<div><div><span style=\"margin: 0px; padding: 0px;\"><span style=\"margin: 0px; padding: 0px; font-family: Arial, Helvetica, sans-serif;\">Cosa possiamo fare per migliorare la tua esperienza?</span></span></div><span style=\"color: rgb(0, 0, 0); font-family: avenir, proxima-nova, helvetica; font-size: 12px;\"></span><div></div></div><span style=\"color: rgb(0, 0, 0); font-family: avenir, proxima-nova, helvetica; font-size: 12px;\"></span>'}, 'JA': {'QuestionText': '<div><span style=\"margin: 0px; padding: 0px;\"><span style=\"margin: 0px; padding: 0px; font-family: Arial, Helvetica, sans-serif;\">お客様により良いカスタマーエクスペリエンスをご提供するために私どもができることは何でしょうか？</span></span></div><span style=\"color: rgb(0, 0, 0); font-family: avenir, proxima-nova, helvetica; font-size: 12px;\"></span><div></div>'}, 'KO': {'QuestionText': '<div><span style=\"margin: 0px; padding: 0px;\"><span style=\"margin: 0px; padding: 0px; font-family: Arial, Helvetica, sans-serif;\">어떻게 귀하의 만족도를 향상시킬 수 있을까요?</span></span></div><span style=\"color: rgb(0, 0, 0); font-family: avenir, proxima-nova, helvetica; font-size: 12px;\"></span><div></div>'}, 'PT': {'QuestionText': '<div>O que é que podemos fazer para melhorar a sua experiência?</div><span style=\"color: rgb(0, 0, 0); font-family: avenir, proxima-nova, helvetica; font-size: 12px;\"></span><div></div>'}, 'RU': {'QuestionText': '<div><span style=\"margin: 0px; padding: 0px;\"><span style=\"margin: 0px; padding: 0px; font-family: Arial, Helvetica, sans-serif;\">Что мы можем сделать, чтобы улучшить ваш опыт?</span></span></div><span style=\"color: rgb(0, 0, 0); font-family: avenir, proxima-nova, helvetica; font-size: 12px;\"></span><div></div>'}, 'ZH-S': {'QuestionText': '<div><span style=\"margin: 0px; padding: 0px;\"><span style=\"margin: 0px; padding: 0px; font-family: Arial, Helvetica, sans-serif;\">我们能够做些什么以改善您的体验？</span></span></div><span style=\"color: rgb(0, 0, 0); font-family: avenir, proxima-nova, helvetica; font-size: 12px;\"></span><div></div>'}, 'ZH-T': {'QuestionText': '<div><span style=\"margin: 0px; padding: 0px;\"><span style=\"margin: 0px; padding: 0px; font-family: Arial, Helvetica, sans-serif;\">我們能做什麼來改善您的體驗？</span></span></div><span style=\"color: rgb(0, 0, 0); font-family: avenir, proxima-nova, helvetica; font-size: 12px;\"></span><div></div>'}}, 'NextChoiceId': 4, 'NextAnswerId': 1, 'SearchSource': {'AllowFreeResponse': 'false'}, 'DataVisibility': {'Private': False, 'Hidden': False}, 'InPageDisplayLogic': {'0': {'0': {'ChoiceLocator': 'q://QID1/IsPassive', 'Description': '<span class=\"ConjDesc\">If</span> <span class=\"QuestionDesc\">On a scale from 0-10, how likely are you to recommend Teradata to a friend or colleague?</span> <span class=\"LeftOpDesc\">Is Passive</span> <span class=\"LeftOpDesc\">Is True</span> ', 'LeftOperand': 'q://QID1/IsPassive', 'LogicType': 'Question', 'Operator': 'EqualTo', 'QuestionID': 'QID1', 'QuestionIDFromLocator': 'QID1', 'QuestionIsInLoop': 'no', 'RightOperand': '1', 'Type': 'Expression'}, 'Type': 'If'}, 'Type': 'BooleanExpression', 'inPage': True}, 'QuestionText_Unsafe': 'What can we do to improve your experience?'}, {'QuestionText': '<div><span style=\"margin: 0px; padding: 0px; font-family: Arial, Helvetica, sans-serif;\">What do you consider your&nbsp;<span style=\"margin: 0px; padding: 0px; font-weight: bolder;\">primary</span>&nbsp;role to be? (Optional)</span></div>', 'DataExportTag': 'Q6', 'QuestionType': 'MC', 'Selector': 'SAVR', 'SubSelector': 'TX', 'Configuration': {'QuestionDescriptionOption': 'UseText'}, 'QuestionDescription': 'What do you consider your\\xa0primary\\xa0role to be? (Optional)', 'Choices': {'1': {'Display': 'Business'}, '2': {'Display': 'IT'}}, 'ChoiceOrder': ['1', '2'], 'Validation': {'Settings': {'ForceResponse': 'OFF', 'ForceResponseType': 'ON', 'Type': 'None'}}, 'Language': {'DE': {'QuestionText': '<div><div><span style=\"margin: 0px; padding: 0px; font-family: Arial, Helvetica, sans-serif;\">Was ist Ihrer Ansicht nach Ihre primäre Rolle?(Optional)</span></div></div>', 'Choices': {'1': {'Display': 'Geschäft'}, '2': {'Display': 'IT'}}}, 'ES': {'QuestionText': '<div><span style=\"font-family:Arial,Helvetica,sans-serif\">¿Cuál considera que sería su función principal? (Opcional)</span></div>', 'Choices': {'1': {'Display': 'Negocios'}, '2': {'Display': 'TI'}}}, 'ES-ES': {'QuestionText': '<div><div><span style=\"margin: 0px; padding: 0px; font-family: Arial, Helvetica, sans-serif;\">¿Cuál cree que es su función principal? (Opcional)</span></div></div>', 'Choices': {'1': {'Display': 'Negocio'}, '2': {'Display': 'TI'}}}, 'FR': {'QuestionText': '<div><div><span style=\"margin: 0px; padding: 0px; font-family: Arial, Helvetica, sans-serif;\">Quel est, selon vous, votre rôle principal? (Facultatif)</span></div></div>', 'Choices': {'1': {'Display': 'Commercial'}, '2': {'Display': 'Informatique'}}}, 'IT': {'QuestionText': '<div><span style=\"margin: 0px; padding: 0px; font-family: Arial, Helvetica, sans-serif;\">Quale pensi che sia il tuo ruolo principale? (Opzionale)</span></div>', 'Choices': {'1': {'Display': 'Commerciale'}, '2': {'Display': 'Informatico'}}}, 'JA': {'QuestionText': '<div><span style=\"margin: 0px; padding: 0px; font-family: Arial, Helvetica, sans-serif;\">お客様が所属する部門についてお聞かせください。</span></div>', 'Choices': {'1': {'Display': 'ビジネス部門'}, '2': {'Display': 'IT部門'}}}, 'KO': {'QuestionText': '<div><span style=\"margin: 0px; padding: 0px; font-family: Arial, Helvetica, sans-serif;\">귀하의 주요 분야는 무엇이라고 생각하십니까?(선택사항)</span></div>', 'Choices': {'1': {'Display': '비즈니'}, '2': {'Display': 'IT'}}}, 'PT': {'QuestionText': '<div>Quais são as suas principais funções? (Opcional)</div>', 'Choices': {'1': {'Display': 'Negócio'}, '2': {'Display': 'TI'}}}, 'RU': {'QuestionText': 'Какую сферу вы считаете основной для себя? (Необязательно)', 'Choices': {'1': {'Display': 'Бизнес'}, '2': {'Display': 'ИТ'}}}, 'ZH-S': {'QuestionText': '<div><span style=\"margin: 0px; padding: 0px; font-family: Arial, Helvetica, sans-serif;\">您认为自己的主要职责是什么？（选填）</span></div>', 'Choices': {'1': {'Display': '业务'}, '2': {'Display': 'IT'}}}, 'ZH-T': {'QuestionText': '<div><span style=\"margin: 0px; padding: 0px; font-family: Arial, Helvetica, sans-serif;\">您認為您的主要角色是什麼？(可選擇填寫)</span></div>', 'Choices': {'1': {'Display': '企業'}, '2': {'Display': '資訊科技 (IT)'}}}}, 'NextChoiceId': 4, 'NextAnswerId': 1, 'QuestionID': 'QID21', 'DataVisibility': {'Private': False, 'Hidden': False}, 'QuestionText_Unsafe': '<div><span style=\"margin: 0px; padding: 0px; font-family: Arial, Helvetica, sans-serif;\">What do you consider your&nbsp;<span style=\"margin: 0px; padding: 0px; font-weight: bolder;\">primary</span>&nbsp;role to be? (Optional)</span></div>'}, {'QuestionText': 'What was missing or disappointing about your experience?', 'DefaultChoices': False, 'DataExportTag': 'Q4', 'QuestionID': 'QID4', 'QuestionType': 'TE', 'Selector': 'ESTB', 'Configuration': {'QuestionDescriptionOption': 'UseText', 'InputWidth': 680, 'InputHeight': 144}, 'QuestionDescription': 'What was missing or disappointing about your experience?', 'Validation': {'Settings': {'ForceResponse': 'ON', 'ForceResponseType': 'ON', 'Type': 'None', 'MinChars': '5', 'TotalChars': '300', 'ValidDateType': 'DateWithFormat', 'ValidPhoneType': 'ValidUSPhone', 'ValidZipType': 'ValidUSZip'}}, 'GradingData': [], 'Language': {'DE': {'QuestionText': '<div><span style=\"margin: 0px; padding: 0px;\"><span style=\"margin: 0px; padding: 0px; font-family: Arial, Helvetica, sans-serif;\">Was fehlte oder enttäuschte Sie bei Ihrer Erfahrung?</span></span></div><div><span style=\"margin: 0px; padding: 0px;\"><span style=\"margin: 0px; padding: 0px; font-family: Arial, Helvetica, sans-serif;\"><br></span></span></div><span style=\"color: rgb(0, 0, 0); font-family: avenir, proxima-nova, helvetica; font-size: 12px;\"></span>'}, 'ES': {'QuestionText': '¿Qué faltó o lo decepcionó en su experiencia?'}, 'ES-ES': {'QuestionText': '¿Qué le faltó o qué le decepcionó de su experiencia?'}, 'FR': {'QuestionText': '<div><div><span style=\"margin: 0px; padding: 0px;\"><span style=\"margin: 0px; padding: 0px; font-family: Arial, Helvetica, sans-serif;\">Qu\\'est-ce qui manquait ou était décevant dans votre expérience ?</span></span></div><div><span style=\"margin: 0px; padding: 0px;\"><span style=\"margin: 0px; padding: 0px; font-family: Arial, Helvetica, sans-serif;\"><br></span></span></div><span style=\"color: rgb(0, 0, 0); font-family: avenir, proxima-nova, helvetica; font-size: 12px;\"></span></div><span style=\"color: rgb(0, 0, 0); font-family: avenir, proxima-nova, helvetica; font-size: 12px;\"></span>'}, 'IT': {'QuestionText': '<div><span style=\"margin: 0px; padding: 0px;\"><span style=\"margin: 0px; padding: 0px; font-family: Arial, Helvetica, sans-serif;\">Per quali ragioni è stata un\\'esperienza deludente o insoddisfacente?</span></span></div><span style=\"color: rgb(0, 0, 0); font-family: avenir, proxima-nova, helvetica; font-size: 12px;\"></span>'}, 'JA': {'QuestionText': '<div><span style=\"margin: 0px; padding: 0px;\"><span style=\"margin: 0px; padding: 0px; font-family: Arial, Helvetica, sans-serif;\">お客様の期待に応えられなかった点をお聞かせください。</span></span></div><span style=\"color: rgb(0, 0, 0); font-family: avenir, proxima-nova, helvetica; font-size: 12px;\"></span>'}, 'KO': {'QuestionText': '<div><span style=\"margin: 0px; padding: 0px;\"><span style=\"margin: 0px; padding: 0px; font-family: Arial, Helvetica, sans-serif;\">귀하가 아쉽거나 실망스럽게 생각하는 부분은 무엇입니까?</span></span></div><span style=\"color: rgb(0, 0, 0); font-family: avenir, proxima-nova, helvetica; font-size: 12px;\"></span>'}, 'PT': {'QuestionText': '<div>O que é que faltou ou desiludiu na sua experiência?</div><span style=\"color: rgb(0, 0, 0); font-family: avenir, proxima-nova, helvetica; font-size: 12px;\"></span>'}, 'RU': {'QuestionText': '<div><span style=\"margin: 0px; padding: 0px;\"><span style=\"margin: 0px; padding: 0px; font-family: Arial, Helvetica, sans-serif;\">Что вам не понравилось или что вас разочаровало?</span></span></div><span style=\"color: rgb(0, 0, 0); font-family: avenir, proxima-nova, helvetica; font-size: 12px;\"></span><div></div>'}, 'ZH-S': {'QuestionText': '<div><span style=\"margin: 0px; padding: 0px;\"><span style=\"margin: 0px; padding: 0px; font-family: Arial, Helvetica, sans-serif;\">您的体验有什么不足或令人失望的地方？</span></span></div><span style=\"color: rgb(0, 0, 0); font-family: avenir, proxima-nova, helvetica; font-size: 12px;\"></span><div></div>'}, 'ZH-T': {'QuestionText': '<div><span style=\"margin: 0px; padding: 0px;\"><span style=\"margin: 0px; padding: 0px; font-family: Arial, Helvetica, sans-serif;\">是有什麼缺失或令您感到失望的地方嗎？</span></span></div><span style=\"color: rgb(0, 0, 0); font-family: avenir, proxima-nova, helvetica; font-size: 12px;\"></span><div></div>'}}, 'NextChoiceId': 4, 'NextAnswerId': 1, 'SearchSource': {'AllowFreeResponse': 'false'}, 'DataVisibility': {'Private': False, 'Hidden': False}, 'InPageDisplayLogic': {'0': {'0': {'ChoiceLocator': 'q://QID1/IsDetractor', 'Description': '<span class=\"ConjDesc\">If</span> <span class=\"QuestionDesc\">On a scale from 0-10, how likely are you to recommend Teradata to a friend or colleague?</span> <span class=\"LeftOpDesc\">Is Detractor</span> <span class=\"LeftOpDesc\">Is True</span> ', 'LeftOperand': 'q://QID1/IsDetractor', 'LogicType': 'Question', 'Operator': 'EqualTo', 'QuestionID': 'QID1', 'QuestionIDFromLocator': 'QID1', 'QuestionIsInLoop': 'no', 'RightOperand': '1', 'Type': 'Expression'}, 'Type': 'If'}, 'Type': 'BooleanExpression', 'inPage': True}, 'QuestionText_Unsafe': 'What was missing or disappointing about your experience?'}, {'QuestionText': '<div><span style=\"margin: 0px; padding: 0px; font-family: Arial, Helvetica, sans-serif;\"><span style=\"margin: 0px; padding: 0px;\">Which category&nbsp;<span style=\"margin: 0px; padding: 0px; font-weight: bolder;\">best</span>&nbsp;describes you when it comes to the Teradata solutions your company has? (Optional)</span></span></div>', 'DefaultChoices': False, 'DataExportTag': 'Q5', 'QuestionType': 'MC', 'Selector': 'SAVR', 'SubSelector': 'TX', 'Configuration': {'QuestionDescriptionOption': 'UseText'}, 'QuestionDescription': 'Which category\\xa0best\\xa0describes you when it comes to the Teradata solutions your company has? (Opti...', 'Choices': {'1': {'Display': 'Decision Maker (Make buying decisions OR own the budget)'}, '2': {'Display': 'Influencer (Don’t own the budget, but affect the purchase decision)'}, '3': {'Display': 'User (Install, configure, or actively use the system)'}}, 'ChoiceOrder': ['1', '2', '3'], 'Validation': {'Settings': {'ForceResponse': 'OFF', 'ForceResponseType': 'ON', 'Type': 'None'}}, 'GradingData': [], 'Language': {'DE': {'QuestionText': '<div><div><span style=\"margin: 0px; padding: 0px; font-family: Arial, Helvetica, sans-serif;\"><span style=\"margin: 0px; padding: 0px;\">Welche Kategorie beschreibt Sie am besten, wenn es um die Teradata-Lösungen Ihres Unternehmens geht? (Optional)</span></span></div></div>', 'Choices': {'1': {'Display': 'Entscheider (trifft Kaufentscheidungen ODER verwaltet das Budget für die Lösung)'}, '2': {'Display': 'Einflussnehmer (verwaltet nicht das Budget, hat jedoch Einfluss auf die Kaufentscheidung)'}, '3': {'Display': 'Benutzer (installiert, konfiguriert oder verwendet das System aktiv)'}}}, 'ES': {'QuestionText': '¿Qué categoría lo describe mejor en cuanto a las soluciones Teradata que tiene su empresa? (Opcional)', 'Choices': {'1': {'Display': 'Responsable de la toma de decisiones (toma decisiones de compra O posee el presupuesto para dar la soluci&oacute;n)'}, '2': {'Display': 'Influyente (no toma decisiones, pero afecta la decisi&oacute;n de compra)'}, '3': {'Display': 'Usuario (instala, configura o usa el sistema en forma activa)'}}}, 'ES-ES': {'QuestionText': '<div><div><span style=\"margin: 0px; padding: 0px; font-family: Arial, Helvetica, sans-serif;\"><span style=\"margin: 0px; padding: 0px;\">¿Qué categoría le describe mejor en lo que respecta a las soluciones de Teradata que tiene su empresa? (Opcional)</span></span></div></div>', 'Choices': {'1': {'Display': 'Responsable de la toma de decisiones (toma decisiones de compra O es responsable del presupuesto de la solución)'}, '2': {'Display': 'Influyente (no es responsable del presupuesto, pero influye en la decisión de compra)'}, '3': {'Display': 'Usuario (instala, configura o utiliza activamente el sistema)'}}}, 'FR': {'QuestionText': '<div><div><span style=\"margin: 0px; padding: 0px; font-family: Arial, Helvetica, sans-serif;\"><span style=\"margin: 0px; padding: 0px;\">Quelle catégorie vous décrit le mieux en ce qui concerne les solutions Teradata dont dispose votre entreprise? (Facultatif)</span></span></div></div>', 'Choices': {'1': {'Display': \"Décideur (prend les décisions d'achat OU gère le budget de la solution)\"}, '2': {'Display': \"Influenceur (ne gère pas le budget, mais influence la décision d'achat)\"}, '3': {'Display': 'Utilisateur (configure ou utilise activement le système)'}}}, 'IT': {'QuestionText': '<div><span style=\"margin: 0px; padding: 0px; font-family: Arial, Helvetica, sans-serif;\"><span style=\"margin: 0px; padding: 0px;\">Quale categoria ti descrive meglio per quanto riguarda le soluzioni Teradata adottate dalla tua azienda? (Opzionale)</span></span></div>', 'Choices': {'1': {'Display': 'Responsabile delle decisioni (prende decisioni di acquisto o definisce il budget allocato per la soluzione)'}, '2': {'Display': 'Influencer (non definisce budget, ma influisce sulla decisione di acquisto)'}, '3': {'Display': 'Utente (installa, configura o utilizza attivamente il sistema)'}}}, 'JA': {'QuestionText': '<div><span style=\"margin: 0px; padding: 0px; font-family: Arial, Helvetica, sans-serif;\"><span style=\"margin: 0px; padding: 0px;\">テラデータのソリューション選定におけるお客様の立場をお聞かせください。</span></span></div>', 'Choices': {'1': {'Display': 'ソリューション導入を決定・決済する（予算を持っている）'}, '2': {'Display': 'ソリューション導入を企画・選定をする（予算は持っていない）'}, '3': {'Display': 'ソリューションを利用する'}}}, 'KO': {'QuestionText': '<div><span style=\"margin: 0px; padding: 0px; font-family: Arial, Helvetica, sans-serif;\"><span style=\"margin: 0px; padding: 0px;\">회사가 보유한 Teradata 솔루션과 관련하여 귀하에게 가장 적합한 카테고리는 무엇입니까?(선택사항)&nbsp;</span></span></div>', 'Choices': {'1': {'Display': '의사 결정권자(구매 결정을 내리거나 솔루션 예산을 소유)'}, '2': {'Display': '인플루언서(예산을 소유하지 않았으나 구매 결정에 영향을 미침)'}, '3': {'Display': '사용자(설치, 구성 또는 시스템을 적극적으로 사용)'}}}, 'PT': {'QuestionText': '<div>Qual é a categoria que descreve melhor a sua posição no âmbito das soluções Teradata que a sua empresa possui? (Opcional)</div>', 'Choices': {'1': {'Display': 'Decisor (toma decisões de compra OU define o orçamento para a solução)'}, '2': {'Display': 'Influenciador (não define o orçamento, mas afeta a decisão de compra)'}, '3': {'Display': 'Utilizador (instala, configura ou utiliza ativamente o sistema)'}}}, 'RU': {'QuestionText': 'К какой категории вы можете себя отнести, когда речь идет о решениях Teradata, имеющихся в вашей компании? (Необязательно)', 'Choices': {'1': {'Display': 'Лицо, принимающее решения (принимаете решения о покупке или отвечаете за бюджет для решения)'}, '2': {'Display': 'Лицо, влияющее на решения (не отвечаете за бюджет, но влияете на решение о покупке)'}, '3': {'Display': 'Пользователь (устанавливаете, настраиваете или активно используете систему)'}}}, 'ZH-S': {'QuestionText': '<div><span style=\"margin: 0px; padding: 0px; font-family: Arial, Helvetica, sans-serif;\"><span style=\"margin: 0px; padding: 0px;\">谈到贵公司拥有的 Teradata 解决方案，哪个类别最符合您的情况？（选填）</span></span></div><div><span style=\"margin: 0px; padding: 0px; font-family: Arial, Helvetica, sans-serif;\"><span style=\"margin: 0px; padding: 0px;\"><br></span></span></div>', 'Choices': {'1': {'Display': '决策者（作出购买决策或拥有解决方案的预算）'}, '2': {'Display': '影响者（不拥有预算，但影响购买决策）'}, '3': {'Display': '用户（安装、配置或经常使用系统）'}}}, 'ZH-T': {'QuestionText': '<div><span style=\"margin: 0px; padding: 0px; font-family: Arial, Helvetica, sans-serif;\"><span style=\"margin: 0px; padding: 0px;\">何種類別最能描述貴公司所採用的 Teradata 解決方案？(可選擇填寫)&nbsp;</span></span></div><div><span style=\"margin: 0px; padding: 0px; font-family: Arial, Helvetica, sans-serif;\"><span style=\"margin: 0px; padding: 0px;\"><br></span></span></div>', 'Choices': {'1': {'Display': '決策者 (對於某解決方案，可決定是否購買或控管其預算)'}, '2': {'Display': '影響者 (無法控管預算，但能影響購買決策)'}, '3': {'Display': '使用者 (安裝、設定或積極地使用該系統)'}}}}, 'NextChoiceId': 4, 'NextAnswerId': 1, 'QuestionID': 'QID20', 'DataVisibility': {'Private': False, 'Hidden': False}, 'QuestionText_Unsafe': '<div><span style=\"margin: 0px; padding: 0px; font-family: Arial, Helvetica, sans-serif;\"><span style=\"margin: 0px; padding: 0px;\">Which category&nbsp;<span style=\"margin: 0px; padding: 0px; font-weight: bolder;\">best</span>&nbsp;describes you when it comes to the Teradata solutions your company has? (Optional)</span></span></div>'}]}}\n"
     ]
    }
   ],
   "source": [
    "import json\n",
    "\n",
    "with open('//Users/na250047/Downloads/MyQualtricsDownload/questions.json') as f:\n",
    "    data = json.load(f)\n",
    "\n",
    "print(data)\n",
    "\n",
    "person_json = json.dumps(data)\n",
    "TargetFile = '/Users/na250047/Downloads/MyQualtricsDownload/questions.txt'\n",
    "f = open(TargetFile, \"w\")\n",
    "f.write(\"Key|Value\")\n",
    "f.write(\"\\n\")\n",
    "f.write(\"1\")\n",
    "f.write(\"|\")\n",
    "f.write(person_json)\n",
    "f.close()"
   ]
  },
  {
   "cell_type": "markdown",
   "metadata": {},
   "source": [
    "# data fram"
   ]
  }
 ],
 "metadata": {
  "kernelspec": {
   "display_name": "Python 3",
   "language": "python",
   "name": "python3"
  },
  "language_info": {
   "codemirror_mode": {
    "name": "ipython",
    "version": 3
   },
   "file_extension": ".py",
   "mimetype": "text/x-python",
   "name": "python",
   "nbconvert_exporter": "python",
   "pygments_lexer": "ipython3",
   "version": "3.7.6"
  }
 },
 "nbformat": 4,
 "nbformat_minor": 4
}
