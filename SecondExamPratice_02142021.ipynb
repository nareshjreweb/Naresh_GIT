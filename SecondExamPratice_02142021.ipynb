{
 "cells": [
  {
   "cell_type": "code",
   "execution_count": 1,
   "metadata": {},
   "outputs": [
    {
     "name": "stdout",
     "output_type": "stream",
     "text": [
      "*******\n",
      "     * \n",
      "    *  \n",
      "   *   \n",
      "  *    \n",
      " *     \n",
      "*******\n",
      "\n"
     ]
    }
   ],
   "source": [
    "str=\"\";    \n",
    "for Row in range(0,7):    \n",
    "    for Col in range(0,7):     \n",
    "        if (((Row == 0 or Row == 6) and Col >= 0 and Col <= 6) or Row+Col==6):  \n",
    "            str=str+\"*\"    \n",
    "        else:      \n",
    "            str=str+\" \"    \n",
    "    str=str+\"\\n\"    \n",
    "print(str);    "
   ]
  },
  {
   "cell_type": "code",
   "execution_count": 3,
   "metadata": {},
   "outputs": [
    {
     "name": "stdout",
     "output_type": "stream",
     "text": [
      "*******\n",
      "     * \n",
      "    *  \n",
      "   *   \n",
      "  *    \n",
      " *     \n",
      "*******\n",
      "\n"
     ]
    }
   ],
   "source": [
    "str = \"\"\n",
    "for row in range(0,7):\n",
    "    for col in range(0,7):\n",
    "        if(((row==0 or row==6) and col>=0 and col<=6)or row+col==6):\n",
    "            str+=\"*\"\n",
    "        else:\n",
    "            str+=\" \"\n",
    "    str+=\"\\n\"\n",
    "    \n",
    "print(str)"
   ]
  },
  {
   "cell_type": "code",
   "execution_count": 4,
   "metadata": {},
   "outputs": [
    {
     "name": "stdout",
     "output_type": "stream",
     "text": [
      "5\n"
     ]
    }
   ],
   "source": [
    "def gcd(a,b):\n",
    "    if(b==0):\n",
    "        return a\n",
    "    else:\n",
    "        return gcd(b,a%b)\n",
    "ans = gcd(5,15)\n",
    "print(ans)"
   ]
  },
  {
   "cell_type": "code",
   "execution_count": 14,
   "metadata": {},
   "outputs": [
    {
     "name": "stdout",
     "output_type": "stream",
     "text": [
      "0\r\n",
      "11\r\n",
      "222\r\n",
      "3333\r\n",
      "44444\r\n",
      "555555\r\n",
      "6666666\r\n",
      "77777777\r\n",
      "888888888\r\n",
      "9999999999\r\n",
      "888888888\r\n",
      "77777777\r\n",
      "6666666\r\n",
      "555555\r\n",
      "44444\r\n",
      "3333\r\n",
      "222\r\n",
      "11\r\n"
     ]
    }
   ],
   "source": [
    "def pattern(n):\n",
    "      for i in range(0, n):\n",
    "           for j in range(0, i + 1):\n",
    "                print(i, end=\"\")\n",
    "           print(\"\\r\")\n",
    "      for i in range(n, 0 , -1):\n",
    "          for j in range(0, i + 1):\n",
    "               print(i, end=\"\")\n",
    "          print(\"\\r\")\n",
    " \n",
    "pattern(9)"
   ]
  },
  {
   "cell_type": "code",
   "execution_count": 18,
   "metadata": {},
   "outputs": [
    {
     "name": "stdout",
     "output_type": "stream",
     "text": [
      "1 \n",
      "2 4 \n",
      "3 6 9 \n"
     ]
    }
   ],
   "source": [
    "rows = 4\n",
    "\n",
    "for i in range(1, rows):\n",
    "\n",
    "    for j in range(1, i + 1):\n",
    "\n",
    "        print(i * j, end=' ')\n",
    "\n",
    "    print()"
   ]
  },
  {
   "cell_type": "code",
   "execution_count": 24,
   "metadata": {},
   "outputs": [
    {
     "name": "stdout",
     "output_type": "stream",
     "text": [
      "1 \n",
      "2 2 2 \n",
      "3 3 3 3 3 \n",
      "4 4 4 4 4 4 4 \n"
     ]
    }
   ],
   "source": [
    "currentNumber = 1\n",
    "\n",
    "stop = 2\n",
    "\n",
    "rows = 5 # Rows you want in your pattern\n",
    "\n",
    "for i in range(1,rows):\n",
    "\n",
    "    for column in range(1, stop):\n",
    "\n",
    "        print(i, end=' ')\n",
    "\n",
    "        currentNumber += 1\n",
    "\n",
    "    print(\"\")\n",
    "\n",
    "    stop += 2"
   ]
  },
  {
   "cell_type": "code",
   "execution_count": 85,
   "metadata": {},
   "outputs": [
    {
     "name": "stdout",
     "output_type": "stream",
     "text": [
      "1 2 3 4 5 \r\n",
      "6 7 8 \r\n",
      "9 \r\n"
     ]
    }
   ],
   "source": [
    "rows = 3\n",
    "t = rows*2\n",
    "z = rows*rows\n",
    "count_list=list(range(1,z+1))\n",
    "\n",
    "\n",
    "for i in range(t-1,0,-2):\n",
    "    for j in range(0,i):\n",
    "        print(count_list[j], end=\" \")\n",
    "    print(\"\\r\")\n",
    "    del count_list[0:i]\n",
    "\n",
    "    #print()"
   ]
  },
  {
   "cell_type": "code",
   "execution_count": 33,
   "metadata": {},
   "outputs": [
    {
     "name": "stdout",
     "output_type": "stream",
     "text": [
      " Please Enter any Number: 6\n",
      " 6 is a Perfect Number\n"
     ]
    }
   ],
   "source": [
    "Number = int(input(\" Please Enter any Number: \"))\n",
    "Sum = 0\n",
    "for i in range(1, Number):\n",
    "    if(Number % i == 0):\n",
    "        Sum = Sum + i\n",
    "if (Sum == Number):\n",
    "    print(\" %d is a Perfect Number\" %Number)\n",
    "else:\n",
    "    print(\" %d is not a Perfect Number\" %Number)"
   ]
  },
  {
   "cell_type": "code",
   "execution_count": 37,
   "metadata": {},
   "outputs": [
    {
     "name": "stdout",
     "output_type": "stream",
     "text": [
      "number is not perfect\n"
     ]
    }
   ],
   "source": [
    "number = 10\n",
    "sum=0\n",
    "for i in range(1,number):\n",
    "    if(number%i==0):\n",
    "        sum=sum+i\n",
    "if sum==number:\n",
    "    print('number is perfect')\n",
    "else:\n",
    "    print('number is not perfect')"
   ]
  },
  {
   "cell_type": "code",
   "execution_count": 86,
   "metadata": {},
   "outputs": [
    {
     "name": "stdout",
     "output_type": "stream",
     "text": [
      "1 \n",
      "2 6 \n",
      "3 7 9 \n",
      "4 8 \n",
      "5 \n"
     ]
    }
   ],
   "source": [
    "n=3\n",
    "for i in range(1,2*n):\n",
    "    k=i\n",
    "    for j in range(2*n-i if i>n else i):\n",
    "        print(k,end=' ')\n",
    "        k = k + 2*n - 2*j - 2\n",
    "    print()"
   ]
  },
  {
   "cell_type": "code",
   "execution_count": 87,
   "metadata": {},
   "outputs": [
    {
     "name": "stdout",
     "output_type": "stream",
     "text": [
      "1 \n",
      "2 8 \n",
      "3 9 13 \n",
      "4 10 14 16 \n",
      "5 11 15 \n",
      "6 12 \n",
      "7 \n"
     ]
    }
   ],
   "source": [
    "n = 4\n",
    "\n",
    "for i in range(1,2*n):\n",
    "    k=i\n",
    "    for j in range(2*n-i if i>n else i):\n",
    "        print(k,end=' ')\n",
    "        k = k+2*n-2*j-2\n",
    "    print()"
   ]
  },
  {
   "cell_type": "code",
   "execution_count": 93,
   "metadata": {},
   "outputs": [
    {
     "name": "stdout",
     "output_type": "stream",
     "text": [
      "-1\n"
     ]
    }
   ],
   "source": [
    "l1 = [2,3,1,5,6,2,1]\n",
    "input2 = 6\n",
    "\n",
    "l2 = sorted(l1, reverse=True)\n",
    "sample_out = l2[input2-1]\n",
    "\n",
    "count = len(set(l2))\n",
    "\n",
    "if count>=input2:\n",
    "    print(sample_out)\n",
    "else:\n",
    "    print(-1)"
   ]
  },
  {
   "cell_type": "code",
   "execution_count": null,
   "metadata": {},
   "outputs": [],
   "source": []
  }
 ],
 "metadata": {
  "kernelspec": {
   "display_name": "Python 3",
   "language": "python",
   "name": "python3"
  },
  "language_info": {
   "codemirror_mode": {
    "name": "ipython",
    "version": 3
   },
   "file_extension": ".py",
   "mimetype": "text/x-python",
   "name": "python",
   "nbconvert_exporter": "python",
   "pygments_lexer": "ipython3",
   "version": "3.7.6"
  }
 },
 "nbformat": 4,
 "nbformat_minor": 4
}
