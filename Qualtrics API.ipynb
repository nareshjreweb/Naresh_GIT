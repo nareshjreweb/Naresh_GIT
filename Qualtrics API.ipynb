{
 "cells": [
  {
   "cell_type": "code",
   "execution_count": 3,
   "metadata": {},
   "outputs": [],
   "source": [
    "import requests\n",
    "import zipfile\n",
    "import json\n",
    "import io, os\n",
    "import sys\n",
    "import re\n",
    "\n",
    "def exportSurvey():\n",
    "\n",
    "    \n",
    "    fileFormat = 'csv'\n",
    "\n",
    "    # Setting static parameters\n",
    "    requestCheckProgress = 0.0\n",
    "    progressStatus = \"inProgress\"\n",
    "    #SV_0fGovZhISlQMxEO\n",
    "    #NPS Survey - SV_9so07JoLt8y78Oy\n",
    "    #SV_cur8w9mEJ7TpJ0V\n",
    "    baseUrl = \"https://teradata.co1.qualtrics.com/API/v3/surveys/SV_9so07JoLt8y78Oy/export-responses/\"\n",
    "    headers = {\n",
    "    \"content-type\": \"application/json\",\n",
    "    \"x-api-token\": 'EXeAHsLkiXO23tIBlKbSktNmiZYiFmqhzOX3TBbG',\n",
    "    }\n",
    "\n",
    "    # Step 1: Creating Data Export\n",
    "    downloadRequestUrl = baseUrl\n",
    "    downloadRequestPayload = '{\"format\":\"' + fileFormat + '\",\"useLabels\": true}'\n",
    "    downloadRequestResponse = requests.request(\"POST\", downloadRequestUrl, data=downloadRequestPayload, headers=headers)\n",
    "    progressId = downloadRequestResponse.json()[\"result\"][\"progressId\"]\n",
    "    print(downloadRequestResponse.text)\n",
    "\n",
    "    # Step 2: Checking on Data Export Progress and waiting until export is ready\n",
    "    while progressStatus != \"complete\" and progressStatus != \"failed\":\n",
    "        print (\"progressStatus=\", progressStatus)\n",
    "        requestCheckUrl = baseUrl + progressId\n",
    "        requestCheckResponse = requests.request(\"GET\", requestCheckUrl, headers=headers)\n",
    "        requestCheckProgress = requestCheckResponse.json()[\"result\"][\"percentComplete\"]\n",
    "        print(\"Download is \" + str(requestCheckProgress) + \" complete\")\n",
    "        progressStatus = requestCheckResponse.json()[\"result\"][\"status\"]\n",
    "\n",
    "    #step 2.1: Check for error\n",
    "    if progressStatus is \"failed\":\n",
    "        raise Exception(\"export failed\")\n",
    "\n",
    "    fileId = requestCheckResponse.json()[\"result\"][\"fileId\"]\n",
    "\n",
    "    # Step 3: Downloading file\n",
    "    requestDownloadUrl = baseUrl + fileId + '/file'\n",
    "    requestDownload = requests.request(\"GET\", requestDownloadUrl, headers=headers, stream=True)\n",
    "\n",
    "    # Step 4: Unzipping the file\n",
    "    zipfile.ZipFile(io.BytesIO(requestDownload.content)).extractall(\"/Users/na250047/Downloads/MyQualtricsDownload\")\n",
    "    print('Complete')\n",
    "\n",
    "\n"
   ]
  },
  {
   "cell_type": "code",
   "execution_count": 4,
   "metadata": {},
   "outputs": [
    {
     "name": "stdout",
     "output_type": "stream",
     "text": [
      "{\"result\":{\"progressId\":\"ES_1TTR0WuBE6ZLnzo\",\"percentComplete\":0.0,\"status\":\"inProgress\"},\"meta\":{\"requestId\":\"0a0127f4-0f99-4628-9b16-234e19882fb0\",\"httpStatus\":\"200 - OK\"}}\n",
      "progressStatus= inProgress\n",
      "Download is 0.0 complete\n",
      "progressStatus= inProgress\n",
      "Download is 100.0 complete\n",
      "Complete\n"
     ]
    }
   ],
   "source": [
    "exportSurvey()"
   ]
  },
  {
   "cell_type": "code",
   "execution_count": 3,
   "metadata": {},
   "outputs": [
    {
     "name": "stdout",
     "output_type": "stream",
     "text": [
      "{\"result\":{\"id\":\"SV_9so07JoLt8y78Oy\",\"name\":\"NPS survey\",\"ownerId\":\"UR_beGZBdoBAFjG3YO\",\"organizationId\":\"teradata\",\"isActive\":true,\"creationDate\":\"2021-03-15T19:00:35Z\",\"lastModifiedDate\":\"2021-04-20T18:22:48Z\",\"expiration\":{\"startDate\":null,\"endDate\":null},\"questions\":{\"QID1\":{\"questionType\":{\"type\":\"MC\",\"selector\":\"NPS\",\"subSelector\":null},\"questionText\":\"On a scale from 0-10, how likely are you to recommend Teradata to a friend or colleague?\",\"questionLabel\":null,\"validation\":{\"doesForceResponse\":true},\"questionName\":\"Q1\",\"choices\":{\"0\":{\"recode\":\"0\",\"description\":\"0\",\"choiceText\":\"0\",\"imageDescription\":null,\"variableName\":null,\"analyze\":true},\"1\":{\"recode\":\"1\",\"description\":\"1\",\"choiceText\":\"1\",\"imageDescription\":null,\"variableName\":null,\"analyze\":true},\"2\":{\"recode\":\"2\",\"description\":\"2\",\"choiceText\":\"2\",\"imageDescription\":null,\"variableName\":null,\"analyze\":true},\"3\":{\"recode\":\"3\",\"description\":\"3\",\"choiceText\":\"3\",\"imageDescription\":null,\"variableName\":null,\"analyze\":true},\"4\":{\"recode\":\"4\",\"description\":\"4\",\"choiceText\":\"4\",\"imageDescription\":null,\"variableName\":null,\"analyze\":true},\"5\":{\"recode\":\"5\",\"description\":\"5\",\"choiceText\":\"5\",\"imageDescription\":null,\"variableName\":null,\"analyze\":true},\"6\":{\"recode\":\"6\",\"description\":\"6\",\"choiceText\":\"6\",\"imageDescription\":null,\"variableName\":null,\"analyze\":true},\"7\":{\"recode\":\"7\",\"description\":\"7\",\"choiceText\":\"7\",\"imageDescription\":null,\"variableName\":null,\"analyze\":true},\"8\":{\"recode\":\"8\",\"description\":\"8\",\"choiceText\":\"8\",\"imageDescription\":null,\"variableName\":null,\"analyze\":true},\"9\":{\"recode\":\"9\",\"description\":\"9\",\"choiceText\":\"9\",\"imageDescription\":null,\"variableName\":null,\"analyze\":true},\"10\":{\"recode\":\"10\",\"description\":\"10\",\"choiceText\":\"10\",\"imageDescription\":null,\"variableName\":null,\"analyze\":true}}},\"QID2\":{\"questionType\":{\"type\":\"TE\",\"selector\":\"ESTB\",\"subSelector\":null},\"questionText\":\"We’re glad you feel that way! Please tell us what you value the most.\",\"questionLabel\":null,\"validation\":{\"doesForceResponse\":true},\"questionName\":\"Q2\"},\"QID3\":{\"questionType\":{\"type\":\"TE\",\"selector\":\"ESTB\",\"subSelector\":null},\"questionText\":\"What can we do to improve your experience?\",\"questionLabel\":null,\"validation\":{\"doesForceResponse\":true},\"questionName\":\"Q3\"},\"QID4\":{\"questionType\":{\"type\":\"TE\",\"selector\":\"ESTB\",\"subSelector\":null},\"questionText\":\"What was missing or disappointing about your experience?\",\"questionLabel\":null,\"validation\":{\"doesForceResponse\":true},\"questionName\":\"Q4\"},\"QID20\":{\"questionType\":{\"type\":\"MC\",\"selector\":\"SAVR\",\"subSelector\":\"TX\"},\"questionText\":\"<div><span style=\\\"margin: 0px; padding: 0px; font-family: Arial, Helvetica, sans-serif;\\\"><span style=\\\"margin: 0px; padding: 0px;\\\">Which category <span style=\\\"margin: 0px; padding: 0px; font-weight: bolder;\\\">best</span> describes you when it comes to the Teradata solutions your company has? (Optional)</span></span></div>\",\"questionLabel\":null,\"validation\":{\"doesForceResponse\":false},\"questionName\":\"Q5\",\"choices\":{\"1\":{\"recode\":\"1\",\"description\":\"Decision Maker (Make buying decisions OR own the budget)\",\"choiceText\":\"Decision Maker (Make buying decisions OR own the budget)\",\"imageDescription\":null,\"variableName\":null,\"analyze\":true},\"2\":{\"recode\":\"2\",\"description\":\"Influencer (Don’t own the budget, but affect the purchase decision)\",\"choiceText\":\"Influencer (Don’t own the budget, but affect the purchase decision)\",\"imageDescription\":null,\"variableName\":null,\"analyze\":true},\"3\":{\"recode\":\"3\",\"description\":\"User (Install, configure, or actively use the system)\",\"choiceText\":\"User (Install, configure, or actively use the system)\",\"imageDescription\":null,\"variableName\":null,\"analyze\":true}}},\"QID21\":{\"questionType\":{\"type\":\"MC\",\"selector\":\"SAVR\",\"subSelector\":\"TX\"},\"questionText\":\"<div><span style=\\\"margin: 0px; padding: 0px; font-family: Arial, Helvetica, sans-serif;\\\">What do you consider your <span style=\\\"margin: 0px; padding: 0px; font-weight: bolder;\\\">primary</span> role to be? (Optional)</span></div>\",\"questionLabel\":null,\"validation\":{\"doesForceResponse\":false},\"questionName\":\"Q6\",\"choices\":{\"1\":{\"recode\":\"1\",\"description\":\"Business\",\"choiceText\":\"Business\",\"imageDescription\":null,\"variableName\":null,\"analyze\":true},\"2\":{\"recode\":\"2\",\"description\":\"IT\",\"choiceText\":\"IT\",\"imageDescription\":null,\"variableName\":null,\"analyze\":true}}}},\"exportColumnMap\":{\"Q1\":{\"question\":\"QID1\"},\"Q2\":{\"question\":\"QID2\"},\"Q3\":{\"question\":\"QID3\"},\"Q4\":{\"question\":\"QID4\"},\"Q5\":{\"question\":\"QID20\"},\"Q6\":{\"question\":\"QID21\"}},\"blocks\":{\"BL_41nledZoCQTljca\":{\"description\":\"NPS\",\"elements\":[{\"type\":\"Question\",\"questionId\":\"QID1\"},{\"type\":\"Question\",\"questionId\":\"QID2\"},{\"type\":\"Question\",\"questionId\":\"QID3\"},{\"type\":\"Question\",\"questionId\":\"QID4\"}]},\"BL_3DHX6UV1Yq8ioHc\":{\"description\":\"Customer Persona/Job Focus\",\"elements\":[{\"type\":\"Question\",\"questionId\":\"QID20\"},{\"type\":\"Question\",\"questionId\":\"QID21\"}]}},\"flow\":[{\"type\":\"EmbeddedData\"},{\"id\":\"BL_41nledZoCQTljca\",\"type\":\"Block\"},{\"type\":\"Branch\",\"flow\":[{\"id\":\"BL_3DHX6UV1Yq8ioHc\",\"type\":\"Block\"}]}],\"embeddedData\":[{\"name\":\"Account Name\"},{\"name\":\"Account Number\"},{\"name\":\"Account: Industry\"},{\"name\":\"Contact ID\"},{\"name\":\"Contact Number\"},{\"name\":\"Country\"},{\"name\":\"Coverage Model\"},{\"name\":\"Geo\"},{\"name\":\"Quarter\"},{\"name\":\"Region\"},{\"name\":\"Territory\"},{\"name\":\"Language\"}],\"comments\":{},\"loopAndMerge\":{},\"responseCounts\":{\"auditable\":22,\"generated\":63,\"deleted\":0}},\"meta\":{\"httpStatus\":\"200 - OK\",\"requestId\":\"3af86d0f-539b-4228-b647-d0fc9965fd15\"}}\n"
     ]
    }
   ],
   "source": [
    "# Get Survey API\n",
    "\n",
    "import os\n",
    "import requests\n",
    "\n",
    "\n",
    "baseUrl = \"https://teradata.co1.qualtrics.com/API/v3/surveys/SV_9so07JoLt8y78Oy\"\n",
    "headers = {\n",
    "    \"x-api-token\": 'EXeAHsLkiXO23tIBlKbSktNmiZYiFmqhzOX3TBbG',\n",
    "    }\n",
    "\n",
    "response = requests.get(baseUrl, headers=headers)\n",
    "print(response.text)"
   ]
  },
  {
   "cell_type": "code",
   "execution_count": 7,
   "metadata": {},
   "outputs": [
    {
     "name": "stdout",
     "output_type": "stream",
     "text": [
      "200\n",
      "OK\n",
      "b'{\"result\":{\"id\":\"EMD_x99XXIXrtdrzh2f\",\"parentDistributionId\":null,\"ownerId\":\"UR_beGZBdoBAFjG3YO\",\"organizationId\":\"teradata\",\"requestStatus\":\"Done\",\"requestType\":\"Invite\",\"sendDate\":\"2021-04-29T19:33:05Z\",\"createdDate\":\"2021-04-29T19:33:06Z\",\"modifiedDate\":\"2021-04-29T13:46:13Z\",\"customHeaders\":{},\"headers\":{\"fromEmail\":\"Teradata.Listens@teradata.com\",\"replyToEmail\":\"Teradata.Listens@teradata.com\",\"fromName\":\"Teradata Listens\",\"subjectMessage\":{\"messageId\":\"MS_5mVyRe5XOocGh5s\",\"libraryId\":\"GR_1GmjWLPZ4y3u81E\"}},\"recipients\":{\"mailingListId\":\"CG_85KAdiFWljyKpLr\",\"contactId\":null,\"libraryId\":\"GR_1GmjWLPZ4y3u81E\",\"sampleId\":null},\"message\":{\"libraryId\":\"GR_1GmjWLPZ4y3u81E\",\"messageId\":\"MS_3vIHMA9c68T2VGm\",\"messageText\":null},\"surveyLink\":{\"surveyId\":\"SV_9so07JoLt8y78Oy\",\"expirationDate\":\"2021-06-28T19:33:05Z\",\"linkType\":\"Individual\"},\"embeddedData\":null,\"stats\":{\"sent\":3,\"failed\":0,\"started\":2,\"bounced\":0,\"opened\":3,\"skipped\":0,\"finished\":2,\"complaints\":0,\"blocked\":0}},\"meta\":{\"httpStatus\":\"200 - OK\",\"requestId\":\"07828fb3-51af-4644-8cb0-77855c8ecb5a\"}}'\n"
     ]
    }
   ],
   "source": [
    "import urllib\n",
    "from urllib import request\n",
    "\n",
    "# Setting user parameters\n",
    "apiToken = \"EXeAHsLkiXO23tIBlKbSktNmiZYiFmqhzOX3TBbG\" \n",
    "dataCenter = \"st3\"\n",
    "surveyid = \"SV_9so07JoLt8y78Oy\"\n",
    "distributionid = \"EMD_x99XXIXrtdrzh2f\"\n",
    "\n",
    "# create the query string\n",
    "params = urllib.parse.urlencode({'surveyId': surveyid})\n",
    "\n",
    "# build the url\n",
    "url = \"https://teradata.co1.qualtrics.com/API/v3/distributions/{1}?{2}\".format(dataCenter,distributionid,params)\n",
    "\n",
    "# build the request\n",
    "headers = { \"x-api-token\": apiToken }\n",
    "req = urllib.request.Request(url,None,headers)\n",
    "\n",
    "# make the request and print the results\n",
    "with urllib.request.urlopen(req) as handler:\n",
    "    # print the result \n",
    "    print(handler.status)\n",
    "    print(handler.reason)\n",
    "    data=handler.read()\n",
    "    print(data)"
   ]
  },
  {
   "cell_type": "code",
   "execution_count": 6,
   "metadata": {},
   "outputs": [],
   "source": [
    "import requests\n",
    "import zipfile\n",
    "import json\n",
    "import io, os\n",
    "import sys\n",
    "import re\n",
    "import configparser\n",
    "import os.path\n",
    "conf = configparser.ConfigParser()\n",
    "#conf.read('E:\\\\InformaticaTempFiles\\\\app_integration\\\\Config_Param\\\\config.ini')\n",
    "#token = conf['Qualtrics']['token']\n",
    "#resource = conf['Qualtrics']['resource']\n",
    "#resource_id = conf['Qualtrics']['resource_id']\n",
    " \n",
    "def exportSurvey():\n",
    " \n",
    "   \n",
    "    fileFormat = 'spss'\n",
    " \n",
    "    # Setting static parameters\n",
    "    requestCheckProgress = 0.0\n",
    "    progressStatus = \"inProgress\"\n",
    "    baseUrl = \"https://teradata.co1.qualtrics.com/API/v3/surveys/SV_9so07JoLt8y78Oy/export-responses/\"\n",
    "    headers = {\n",
    "    \"content-type\": \"application/json\",\n",
    "    \"x-api-token\": 'EXeAHsLkiXO23tIBlKbSktNmiZYiFmqhzOX3TBbG',\n",
    "    }\n",
    " \n",
    "    # Step 1: Creating Data Export\n",
    "    downloadRequestUrl = baseUrl\n",
    "    downloadRequestPayload = '{\"format\":\"' + fileFormat + '\",\"useLabels\": true}'\n",
    "    downloadRequestResponse = requests.request(\"POST\", downloadRequestUrl, data=downloadRequestPayload, headers=headers)\n",
    "    progressId = downloadRequestResponse.json()[\"result\"][\"progressId\"]\n",
    "    print(downloadRequestResponse.text)\n",
    " \n",
    "    # Step 2: Checking on Data Export Progress and waiting until export is ready\n",
    "    while progressStatus != \"complete\" and progressStatus != \"failed\":\n",
    "        print (\"progressStatus=\", progressStatus)\n",
    "        requestCheckUrl = baseUrl + progressId\n",
    "        requestCheckResponse = requests.request(\"GET\", requestCheckUrl, headers=headers)\n",
    "        requestCheckProgress = requestCheckResponse.json()[\"result\"][\"percentComplete\"]\n",
    "        print(\"Download is \" + str(requestCheckProgress) + \" complete\")\n",
    "        progressStatus = requestCheckResponse.json()[\"result\"][\"status\"]\n",
    " \n",
    "    #step 2.1: Check for error\n",
    "    if progressStatus == \"failed\":\n",
    "        raise Exception(\"export failed\")\n",
    " \n",
    "    fileId = requestCheckResponse.json()[\"result\"][\"fileId\"]\n",
    " \n",
    "    # Step 3: Downloading file\n",
    "    requestDownloadUrl = baseUrl + fileId + '/file'\n",
    "    requestDownload = requests.request(\"GET\", requestDownloadUrl, headers=headers, stream=True)\n",
    " \n",
    "    # Step 4: Unzipping the file\n",
    "    zipfile.ZipFile(io.BytesIO(requestDownload.content)).extractall(\"/Users/na250047/Downloads/MyQualtricsDownload\")\n",
    "    print('Complete')\n",
    " "
   ]
  },
  {
   "cell_type": "code",
   "execution_count": 7,
   "metadata": {},
   "outputs": [
    {
     "name": "stdout",
     "output_type": "stream",
     "text": [
      "{\"result\":{\"progressId\":\"ES_9pM5YOTpqCLZnyC\",\"percentComplete\":0.0,\"status\":\"inProgress\"},\"meta\":{\"requestId\":\"65edfd9a-33dd-4e53-aa4f-b12047b02f1d\",\"httpStatus\":\"200 - OK\"}}\n",
      "progressStatus= inProgress\n",
      "Download is 0.0 complete\n",
      "progressStatus= inProgress\n",
      "Download is 0.0 complete\n",
      "progressStatus= inProgress\n",
      "Download is 100.0 complete\n",
      "Complete\n"
     ]
    }
   ],
   "source": [
    "exportSurvey()"
   ]
  },
  {
   "cell_type": "code",
   "execution_count": 8,
   "metadata": {},
   "outputs": [],
   "source": [
    "import pandas as pd\n",
    "df = pd.read_csv (r'/Users/na250047/Downloads/MyQualtricsDownload/NPS survey.csv')\n",
    "df.to_json (r'/Users/na250047/Downloads/MyQualtricsDownload/NPS survey.json')"
   ]
  },
  {
   "cell_type": "code",
   "execution_count": 9,
   "metadata": {},
   "outputs": [
    {
     "name": "stdout",
     "output_type": "stream",
     "text": [
      "Collecting teradatasql\n",
      "  Downloading teradatasql-17.0.0.8-py3-none-any.whl (16.5 MB)\n",
      "\u001b[K     |████████████████████████████████| 16.5 MB 2.6 MB/s eta 0:00:01\n",
      "\u001b[?25hCollecting pycryptodome\n",
      "  Downloading pycryptodome-3.10.1-cp35-abi3-macosx_10_9_x86_64.whl (1.5 MB)\n",
      "\u001b[K     |████████████████████████████████| 1.5 MB 12.2 MB/s eta 0:00:01\n",
      "\u001b[?25hInstalling collected packages: pycryptodome, teradatasql\n",
      "Successfully installed pycryptodome-3.10.1 teradatasql-17.0.0.8\n",
      "Note: you may need to restart the kernel to use updated packages.\n"
     ]
    }
   ],
   "source": [
    "#pip install teradatasql"
   ]
  },
  {
   "cell_type": "code",
   "execution_count": 1,
   "metadata": {},
   "outputs": [
    {
     "name": "stdout",
     "output_type": "stream",
     "text": [
      "Driver version 17.0.0.8  Database version 16.20.53.19\n"
     ]
    }
   ],
   "source": [
    "\n",
    "import teradatasql\n",
    "import json\n",
    "\n",
    "with teradatasql.connect ('{\"host\":\"Tddevtest.td.teradata.com\",\"user\":\"dev_tql99cre\",\"password\":\"qlApr2021n1122\"}') as con:\n",
    "    with con.cursor () as cur:\n",
    "        cur.execute ('{fn teradata_nativesql}Driver version {fn teradata_driver_version}  Database version {fn teradata_database_version}')\n",
    "        print (cur.fetchone () [0])"
   ]
  },
  {
   "cell_type": "code",
   "execution_count": 2,
   "metadata": {},
   "outputs": [
    {
     "name": "stdout",
     "output_type": "stream",
     "text": [
      "{'meta': {'httpStatus': '200 - OK', 'requestId': '0706e80d-5110-4056-8fa7-5f0e663474e5'}, 'result': {'elements': [{'QuestionText': 'On a scale from 0-10, how likely are you to recommend Teradata to a friend or colleague?', 'DataExportTag': 'Q1', 'QuestionType': 'MC', 'Selector': 'NPS', 'Configuration': {'QuestionDescriptionOption': 'UseText'}, 'QuestionDescription': 'On a scale from 0-10, how likely are you to recommend Teradata to a friend or colleague?', 'Choices': [{'Display': '0'}, {'Display': '1'}, {'Display': '2'}, {'Display': '3'}, {'Display': '4'}, {'Display': '5'}, {'Display': '6'}, {'Display': '7'}, {'Display': '8'}, {'Display': '9'}, {'Display': '10'}], 'ChoiceOrder': ['0', '1', '2', '3', '4', '5', '6', '7', '8', '9', '10'], 'Validation': {'Settings': {'ForceResponse': 'ON', 'ForceResponseType': 'ON', 'Type': 'None'}}, 'Language': {'ES': {'QuestionText': '¿Qué tan probable es que recomiende Teradata a un colega o compañero de trabajo?', 'ColumnLabels': [{'Display': 'Nada probable'}, {'Display': 'Extremadamente probable'}]}, 'ES-ES': {'QuestionText': '<div><div><span style=\"margin: 0px; padding: 0px;\"><span style=\"margin: 0px; padding: 0px; font-family: Arial, Helvetica, sans-serif;\">¿Qué probabilidades hay de que recomiende Teradata a un compañero o a otro profesional?</span></span></div></div>', 'ColumnLabels': [{'Display': 'No es probable'}, {'Display': 'Es muy probable'}]}, 'FR': {'QuestionText': '<div><div><span style=\"margin: 0px; padding: 0px;\"><span style=\"margin: 0px; padding: 0px; font-family: Arial, Helvetica, sans-serif;\">Quelle est la probabilité que vous recommandiez Teradata à un collègue ou à un pair professionnel ?</span></span></div></div>', 'ColumnLabels': [{'Display': 'Peu probable'}, {'Display': 'Extrêmement probable'}]}, 'DE': {'QuestionText': '<div><div><span style=\"margin: 0px; padding: 0px;\"><span style=\"margin: 0px; padding: 0px; font-family: Arial, Helvetica, sans-serif;\">Wie wahrscheinlich würden Sie Teradata Kollegen in Ihrem Unternehmen oder in der Branche empfehlen?</span></span></div></div>', 'ColumnLabels': [{'Display': 'Nicht wahrscheinlich'}, {'Display': '&Auml;u&szlig;erst wahrscheinlich'}]}, 'IT': {'QuestionText': '<div><div><span style=\"margin: 0px; padding: 0px;\"><span style=\"margin: 0px; padding: 0px; font-family: Arial, Helvetica, sans-serif;\">Consiglieresti Teradata a un collega o ad altri professionisti?</span></span></div></div>', 'ColumnLabels': [{'Display': 'Probabilmente no'}, {'Display': 'Molto probabilmente sì\\n'}]}, 'PT': {'QuestionText': '<div>\\n<div>Qual &eacute; a probabilidade de recomendar a&nbsp;Teradata&nbsp;a um colega ou parceiro profissional?</div>\\n</div>', 'ColumnLabels': [{'Display': 'Improvável'}, {'Display': 'Muito provável\\n'}]}, 'RU': {'QuestionText': '<div><div><span style=\"margin: 0px; padding: 0px;\"><span style=\"margin: 0px; padding: 0px; font-family: Arial, Helvetica, sans-serif;\">Насколько Вы готовы порекомендовать Teradata коллеге или знакомому профессионалу?</span></span></div></div>', 'ColumnLabels': [{'Display': 'Исключено'}, {'Display': 'Весьма вероятно\\n'}]}, 'JA': {'QuestionText': '<div><div><span style=\"margin: 0px; padding: 0px;\"><span style=\"margin: 0px; padding: 0px; font-family: Arial, Helvetica, sans-serif;\">お客様が仕事仲間や同僚にテラデータを薦める可能性はどれぐらいありますか？ （0～10の11段階でお答えください）</span></span></div></div>', 'ColumnLabels': [{'Display': '可能性はない'}, {'Display': '可能性は非常に高い'}]}, 'KO': {'QuestionText': '<div><div><span style=\"margin: 0px; padding: 0px;\"><span style=\"margin: 0px; padding: 0px; font-family: Arial, Helvetica, sans-serif;\">질문:동료 또는 직장 동기에게 테라데이터를 추천할 의향은 어느 정도 입니까?</span></span></div></div>', 'ColumnLabels': [{'Display': '의향 없음'}, {'Display': '의향 매우 높음'}]}, 'ZH-S': {'QuestionText': '<div><div><span style=\"margin: 0px; padding: 0px;\"><span style=\"margin: 0px; padding: 0px; font-family: Arial, Helvetica, sans-serif;\">您有多大可能将 Teradata 推荐给同事或同行？</span></span></div></div>', 'ColumnLabels': [{'Display': '不太可能'}, {'Display': '极有可能'}]}, 'ZH-T': {'QuestionText': '<div><div><div>您會向朋友或專業同儕推薦 Teradata 的可能性有多大？</div></div></div><div><br></div>', 'ColumnLabels': [{'Display': '不可能'}, {'Display': '極為可能'}]}}, 'NextChoiceId': 11, 'NextAnswerId': 1, 'QuestionID': 'QID1', 'DefaultChoices': False, 'GradingData': [], 'ColumnLabels': [{'Display': 'Not at all likely', 'IsLabelDefault': True}, {'Display': 'Extremely likely', 'IsLabelDefault': True}], 'DataVisibility': {'Private': False, 'Hidden': False}, 'QuestionText_Unsafe': 'On a scale from 0-10, how likely are you to recommend Teradata to a friend or colleague?'}, {'QuestionText': 'Open Ended Combined', 'DefaultChoices': False, 'DataExportTag': 'Q7', 'QuestionType': 'TE', 'Selector': 'ESTB', 'Configuration': {'QuestionDescriptionOption': 'UseText', 'InputWidth': 680, 'InputHeight': 88}, 'QuestionDescription': 'Open Ended Combined', 'Validation': {'Settings': {'ForceResponse': 'OFF', 'ForceResponseType': 'ON', 'Type': 'None'}}, 'GradingData': [], 'Language': [], 'NextChoiceId': 4, 'NextAnswerId': 1, 'SearchSource': {'AllowFreeResponse': 'false'}, 'QuestionID': 'QID26', 'DataVisibility': {'Private': False, 'Hidden': False}, 'QuestionText_Unsafe': 'Open Ended Combined'}, {'QuestionText': 'We’re glad you feel that way! Please tell us what you value the most.', 'DefaultChoices': False, 'DataExportTag': 'Q2', 'QuestionID': 'QID2', 'QuestionType': 'TE', 'Selector': 'ESTB', 'Configuration': {'QuestionDescriptionOption': 'UseText', 'InputWidth': 680, 'InputHeight': 144}, 'QuestionDescription': 'We’re glad you feel that way! Please tell us what you value the most.', 'Validation': {'Settings': {'ForceResponse': 'ON', 'ForceResponseType': 'ON', 'Type': 'None', 'MinChars': '10', 'ValidDateType': 'DateWithFormat', 'ValidPhoneType': 'ValidUSPhone', 'ValidZipType': 'ValidUSZip'}}, 'GradingData': [], 'Language': {'DE': {'QuestionText': '<div><span style=\"margin: 0px; padding: 0px;\"><span style=\"margin: 0px; padding: 0px; font-family: Arial, Helvetica, sans-serif;\">Wir freuen uns, dass Sie so denken!Bitte sagen Sie uns, was Sie am meisten schätzen.</span></span></div><div><span style=\"margin: 0px; padding: 0px;\"><span style=\"margin: 0px; padding: 0px; font-family: Arial, Helvetica, sans-serif;\"><br></span></span></div><span style=\"color: rgb(0, 0, 0); font-family: avenir, proxima-nova, helvetica; font-size: 12px;\"></span><div></div>'}, 'ES': {'QuestionText': '¡Nos alegra que se sienta así! Díganos qué es lo que más valora.'}, 'ES-ES': {'QuestionText': '<div><span style=\"margin: 0px; padding: 0px;\"><span style=\"margin: 0px; padding: 0px; font-family: Arial, Helvetica, sans-serif;\">¡Nos alegra que opine así! Díganos qué es lo que más valora.</span></span></div><div><span style=\"margin: 0px; padding: 0px;\"><span style=\"margin: 0px; padding: 0px; font-family: Arial, Helvetica, sans-serif;\"><br></span></span></div><span style=\"color: rgb(0, 0, 0); font-family: avenir, proxima-nova, helvetica; font-size: 12px;\"></span>'}, 'FR': {'QuestionText': '<div><span style=\"margin: 0px; padding: 0px;\"><span style=\"margin: 0px; padding: 0px; font-family: Arial, Helvetica, sans-serif;\">Nous sommes ravis de vous entendre dire cela !Veuillez nous dire ce que vous appréciez le plus.</span></span></div><div><span style=\"margin: 0px; padding: 0px;\"><span style=\"margin: 0px; padding: 0px; font-family: Arial, Helvetica, sans-serif;\"><br></span></span></div><span style=\"color: rgb(0, 0, 0); font-family: avenir, proxima-nova, helvetica; font-size: 12px;\"></span>'}, 'IT': {'QuestionText': '<div><div><span style=\"margin: 0px; padding: 0px;\"><span style=\"margin: 0px; padding: 0px; font-family: Arial, Helvetica, sans-serif;\">Siamo molto lieti del punteggio che hai assegnato!Per favore, specifica cosa apprezzi maggiormente.</span></span></div><span style=\"color: rgb(0, 0, 0); font-family: avenir, proxima-nova, helvetica; font-size: 12px;\"></span><div></div></div><span style=\"color: rgb(0, 0, 0); font-family: avenir, proxima-nova, helvetica; font-size: 12px;\"></span><div></div>'}, 'JA': {'QuestionText': '<div><span style=\"margin: 0px; padding: 0px;\"><span style=\"margin: 0px; padding: 0px; font-family: Arial, Helvetica, sans-serif;\">お客様が最も高くご評価いただいた点をお聞かせください。</span></span></div><span style=\"color: rgb(0, 0, 0); font-family: avenir, proxima-nova, helvetica; font-size: 12px;\"></span>'}, 'KO': {'QuestionText': '<div><span style=\"margin: 0px; padding: 0px;\"><span style=\"margin: 0px; padding: 0px; font-family: Arial, Helvetica, sans-serif;\">그렇게 느끼셨다니 기쁩니다!가장 만족한 부분이 무엇인지 알려주십시오.</span></span></div><span style=\"color: rgb(0, 0, 0); font-family: avenir, proxima-nova, helvetica; font-size: 12px;\"></span>'}, 'PT': {'QuestionText': '<div>O que é que faltou ou desiludiu na sua experiência?</div><span style=\"color: rgb(0, 0, 0); font-family: avenir, proxima-nova, helvetica; font-size: 12px;\"></span>'}, 'RU': {'QuestionText': '<div><span style=\"margin: 0px; padding: 0px;\"><span style=\"margin: 0px; padding: 0px; font-family: Arial, Helvetica, sans-serif;\">Мы рады, что вы так считаете! Расскажите, что нравится вам больше всего.</span></span></div><div><span style=\"margin: 0px; padding: 0px;\"><span style=\"margin: 0px; padding: 0px; font-family: Arial, Helvetica, sans-serif;\"><br></span></span></div><span style=\"color: rgb(0, 0, 0); font-family: avenir, proxima-nova, helvetica; font-size: 12px;\"></span>'}, 'ZH-S': {'QuestionText': '<div><span style=\"margin: 0px; padding: 0px;\"><span style=\"margin: 0px; padding: 0px; font-family: Arial, Helvetica, sans-serif;\">我们很高兴您有这种感受！请告诉我们您最看重的是什么。</span></span></div><span style=\"color: rgb(0, 0, 0); font-family: avenir, proxima-nova, helvetica; font-size: 12px;\"></span><div></div>'}, 'ZH-T': {'QuestionText': '<div><span style=\"margin: 0px; padding: 0px;\"><span style=\"margin: 0px; padding: 0px; font-family: Arial, Helvetica, sans-serif;\">我們很高興您如此認為！請告訴我們您最重視的是什麼。</span></span></div><span style=\"color: rgb(0, 0, 0); font-family: avenir, proxima-nova, helvetica; font-size: 12px;\"></span><div></div>'}}, 'NextChoiceId': 4, 'NextAnswerId': 1, 'SearchSource': {'AllowFreeResponse': 'false'}, 'DataVisibility': {'Private': False, 'Hidden': False}, 'InPageDisplayLogic': {'0': {'0': {'ChoiceLocator': 'q://QID1/IsPromoter', 'Description': '<span class=\"ConjDesc\">If</span> <span class=\"QuestionDesc\">On a scale from 0-10, how likely are you to recommend Teradata to a friend or colleague?</span> <span class=\"LeftOpDesc\">Is Promoter</span> <span class=\"LeftOpDesc\">Is True</span> ', 'LeftOperand': 'q://QID1/IsPromoter', 'LogicType': 'Question', 'Operator': 'EqualTo', 'QuestionID': 'QID1', 'QuestionIDFromLocator': 'QID1', 'QuestionIsInLoop': 'no', 'RightOperand': '1', 'Type': 'Expression'}, 'Type': 'If'}, 'Type': 'BooleanExpression', 'inPage': True}, 'QuestionText_Unsafe': 'We’re glad you feel that way! Please tell us what you value the most.'}, {'QuestionText': 'What can we do to improve your experience?', 'DefaultChoices': False, 'DataExportTag': 'Q3', 'QuestionID': 'QID3', 'QuestionType': 'TE', 'Selector': 'ESTB', 'Configuration': {'QuestionDescriptionOption': 'UseText', 'InputWidth': 680, 'InputHeight': 144}, 'QuestionDescription': 'What can we do to improve your experience?', 'Validation': {'Settings': {'ForceResponse': 'ON', 'ForceResponseType': 'ON', 'Type': 'None', 'MinChars': '10'}}, 'GradingData': [], 'Language': {'DE': {'QuestionText': '<div><span style=\"margin: 0px; padding: 0px;\"><span style=\"margin: 0px; padding: 0px; font-family: Arial, Helvetica, sans-serif;\">Was fehlte oder enttäuschte Sie bei Ihrer Erfahrung?</span></span></div><div><span style=\"margin: 0px; padding: 0px;\"><span style=\"margin: 0px; padding: 0px; font-family: Arial, Helvetica, sans-serif;\"><br></span></span></div><span style=\"color: rgb(0, 0, 0); font-family: avenir, proxima-nova, helvetica; font-size: 12px;\"></span><div></div>'}, 'ES': {'QuestionText': '&iquest;Qu&eacute; podemos hacer para mejorar su experiencia?'}, 'ES-ES': {'QuestionText': '¿Qué podemos hacer para mejorar su experiencia?'}, 'FR': {'QuestionText': '<div><div><span style=\"margin: 0px; padding: 0px;\"><span style=\"margin: 0px; padding: 0px; font-family: Arial, Helvetica, sans-serif;\">Que pouvons-nous faire pour améliorer votre expérience?</span></span></div><div><span style=\"margin: 0px; padding: 0px;\"><span style=\"margin: 0px; padding: 0px; font-family: Arial, Helvetica, sans-serif;\"><br></span></span></div><span style=\"color: rgb(0, 0, 0); font-family: avenir, proxima-nova, helvetica; font-size: 12px;\"></span></div><span style=\"color: rgb(0, 0, 0); font-family: avenir, proxima-nova, helvetica; font-size: 12px;\"></span>'}, 'IT': {'QuestionText': '<div><div><span style=\"margin: 0px; padding: 0px;\"><span style=\"margin: 0px; padding: 0px; font-family: Arial, Helvetica, sans-serif;\">Cosa possiamo fare per migliorare la tua esperienza?</span></span></div><span style=\"color: rgb(0, 0, 0); font-family: avenir, proxima-nova, helvetica; font-size: 12px;\"></span><div></div></div><span style=\"color: rgb(0, 0, 0); font-family: avenir, proxima-nova, helvetica; font-size: 12px;\"></span>'}, 'JA': {'QuestionText': '<div><span style=\"margin: 0px; padding: 0px;\"><span style=\"margin: 0px; padding: 0px; font-family: Arial, Helvetica, sans-serif;\">お客様により良いカスタマーエクスペリエンスをご提供するために私どもができることは何でしょうか？</span></span></div><span style=\"color: rgb(0, 0, 0); font-family: avenir, proxima-nova, helvetica; font-size: 12px;\"></span><div></div>'}, 'KO': {'QuestionText': '<div><span style=\"margin: 0px; padding: 0px;\"><span style=\"margin: 0px; padding: 0px; font-family: Arial, Helvetica, sans-serif;\">어떻게 귀하의 만족도를 향상시킬 수 있을까요?</span></span></div><span style=\"color: rgb(0, 0, 0); font-family: avenir, proxima-nova, helvetica; font-size: 12px;\"></span><div></div>'}, 'PT': {'QuestionText': '<div>O que é que podemos fazer para melhorar a sua experiência?</div><span style=\"color: rgb(0, 0, 0); font-family: avenir, proxima-nova, helvetica; font-size: 12px;\"></span><div></div>'}, 'RU': {'QuestionText': '<div><span style=\"margin: 0px; padding: 0px;\"><span style=\"margin: 0px; padding: 0px; font-family: Arial, Helvetica, sans-serif;\">Что мы можем сделать, чтобы улучшить ваш опыт?</span></span></div><span style=\"color: rgb(0, 0, 0); font-family: avenir, proxima-nova, helvetica; font-size: 12px;\"></span><div></div>'}, 'ZH-S': {'QuestionText': '<div><span style=\"margin: 0px; padding: 0px;\"><span style=\"margin: 0px; padding: 0px; font-family: Arial, Helvetica, sans-serif;\">我们能够做些什么以改善您的体验？</span></span></div><span style=\"color: rgb(0, 0, 0); font-family: avenir, proxima-nova, helvetica; font-size: 12px;\"></span><div></div>'}, 'ZH-T': {'QuestionText': '<div><span style=\"margin: 0px; padding: 0px;\"><span style=\"margin: 0px; padding: 0px; font-family: Arial, Helvetica, sans-serif;\">我們能做什麼來改善您的體驗？</span></span></div><span style=\"color: rgb(0, 0, 0); font-family: avenir, proxima-nova, helvetica; font-size: 12px;\"></span><div></div>'}}, 'NextChoiceId': 4, 'NextAnswerId': 1, 'SearchSource': {'AllowFreeResponse': 'false'}, 'DataVisibility': {'Private': False, 'Hidden': False}, 'InPageDisplayLogic': {'0': {'0': {'ChoiceLocator': 'q://QID1/IsPassive', 'Description': '<span class=\"ConjDesc\">If</span> <span class=\"QuestionDesc\">On a scale from 0-10, how likely are you to recommend Teradata to a friend or colleague?</span> <span class=\"LeftOpDesc\">Is Passive</span> <span class=\"LeftOpDesc\">Is True</span> ', 'LeftOperand': 'q://QID1/IsPassive', 'LogicType': 'Question', 'Operator': 'EqualTo', 'QuestionID': 'QID1', 'QuestionIDFromLocator': 'QID1', 'QuestionIsInLoop': 'no', 'RightOperand': '1', 'Type': 'Expression'}, 'Type': 'If'}, 'Type': 'BooleanExpression', 'inPage': True}, 'QuestionText_Unsafe': 'What can we do to improve your experience?'}, {'QuestionText': '<div><span style=\"margin: 0px; padding: 0px; font-family: Arial, Helvetica, sans-serif;\">What do you consider your&nbsp;<span style=\"margin: 0px; padding: 0px; font-weight: bolder;\">primary</span>&nbsp;role to be? (Optional)</span></div>', 'DataExportTag': 'Q6', 'QuestionType': 'MC', 'Selector': 'SAVR', 'SubSelector': 'TX', 'Configuration': {'QuestionDescriptionOption': 'UseText'}, 'QuestionDescription': 'What do you consider your\\xa0primary\\xa0role to be? (Optional)', 'Choices': {'1': {'Display': 'Business'}, '2': {'Display': 'IT'}}, 'ChoiceOrder': ['1', '2'], 'Validation': {'Settings': {'ForceResponse': 'OFF', 'ForceResponseType': 'ON', 'Type': 'None'}}, 'Language': {'DE': {'QuestionText': '<div><div><span style=\"margin: 0px; padding: 0px; font-family: Arial, Helvetica, sans-serif;\">Was ist Ihrer Ansicht nach Ihre primäre Rolle?(Optional)</span></div></div>', 'Choices': {'1': {'Display': 'Geschäft'}, '2': {'Display': 'IT'}}}, 'ES': {'QuestionText': '<div><span style=\"font-family:Arial,Helvetica,sans-serif\">¿Cuál considera que sería su función principal? (Opcional)</span></div>', 'Choices': {'1': {'Display': 'Negocios'}, '2': {'Display': 'TI'}}}, 'ES-ES': {'QuestionText': '<div><div><span style=\"margin: 0px; padding: 0px; font-family: Arial, Helvetica, sans-serif;\">¿Cuál cree que es su función principal? (Opcional)</span></div></div>', 'Choices': {'1': {'Display': 'Negocio'}, '2': {'Display': 'TI'}}}, 'FR': {'QuestionText': '<div><div><span style=\"margin: 0px; padding: 0px; font-family: Arial, Helvetica, sans-serif;\">Quel est, selon vous, votre rôle principal? (Facultatif)</span></div></div>', 'Choices': {'1': {'Display': 'Commercial'}, '2': {'Display': 'Informatique'}}}, 'IT': {'QuestionText': '<div><span style=\"margin: 0px; padding: 0px; font-family: Arial, Helvetica, sans-serif;\">Quale pensi che sia il tuo ruolo principale? (Opzionale)</span></div>', 'Choices': {'1': {'Display': 'Commerciale'}, '2': {'Display': 'Informatico'}}}, 'JA': {'QuestionText': '<div><span style=\"margin: 0px; padding: 0px; font-family: Arial, Helvetica, sans-serif;\">お客様が所属する部門についてお聞かせください。</span></div>', 'Choices': {'1': {'Display': 'ビジネス部門'}, '2': {'Display': 'IT部門'}}}, 'KO': {'QuestionText': '<div><span style=\"margin: 0px; padding: 0px; font-family: Arial, Helvetica, sans-serif;\">귀하의 주요 분야는 무엇이라고 생각하십니까?(선택사항)</span></div>', 'Choices': {'1': {'Display': '비즈니'}, '2': {'Display': 'IT'}}}, 'PT': {'QuestionText': '<div>Quais são as suas principais funções? (Opcional)</div>', 'Choices': {'1': {'Display': 'Negócio'}, '2': {'Display': 'TI'}}}, 'RU': {'QuestionText': 'Какую сферу вы считаете основной для себя? (Необязательно)', 'Choices': {'1': {'Display': 'Бизнес'}, '2': {'Display': 'ИТ'}}}, 'ZH-S': {'QuestionText': '<div><span style=\"margin: 0px; padding: 0px; font-family: Arial, Helvetica, sans-serif;\">您认为自己的主要职责是什么？（选填）</span></div>', 'Choices': {'1': {'Display': '业务'}, '2': {'Display': 'IT'}}}, 'ZH-T': {'QuestionText': '<div><span style=\"margin: 0px; padding: 0px; font-family: Arial, Helvetica, sans-serif;\">您認為您的主要角色是什麼？(可選擇填寫)</span></div>', 'Choices': {'1': {'Display': '企業'}, '2': {'Display': '資訊科技 (IT)'}}}}, 'NextChoiceId': 4, 'NextAnswerId': 1, 'QuestionID': 'QID21', 'DataVisibility': {'Private': False, 'Hidden': False}, 'QuestionText_Unsafe': '<div><span style=\"margin: 0px; padding: 0px; font-family: Arial, Helvetica, sans-serif;\">What do you consider your&nbsp;<span style=\"margin: 0px; padding: 0px; font-weight: bolder;\">primary</span>&nbsp;role to be? (Optional)</span></div>'}, {'QuestionText': 'What was missing or disappointing about your experience?', 'DefaultChoices': False, 'DataExportTag': 'Q4', 'QuestionID': 'QID4', 'QuestionType': 'TE', 'Selector': 'ESTB', 'Configuration': {'QuestionDescriptionOption': 'UseText', 'InputWidth': 680, 'InputHeight': 144}, 'QuestionDescription': 'What was missing or disappointing about your experience?', 'Validation': {'Settings': {'ForceResponse': 'ON', 'ForceResponseType': 'ON', 'Type': 'None', 'MinChars': '5', 'TotalChars': '300', 'ValidDateType': 'DateWithFormat', 'ValidPhoneType': 'ValidUSPhone', 'ValidZipType': 'ValidUSZip'}}, 'GradingData': [], 'Language': {'DE': {'QuestionText': '<div><span style=\"margin: 0px; padding: 0px;\"><span style=\"margin: 0px; padding: 0px; font-family: Arial, Helvetica, sans-serif;\">Was fehlte oder enttäuschte Sie bei Ihrer Erfahrung?</span></span></div><div><span style=\"margin: 0px; padding: 0px;\"><span style=\"margin: 0px; padding: 0px; font-family: Arial, Helvetica, sans-serif;\"><br></span></span></div><span style=\"color: rgb(0, 0, 0); font-family: avenir, proxima-nova, helvetica; font-size: 12px;\"></span>'}, 'ES': {'QuestionText': '¿Qué faltó o lo decepcionó en su experiencia?'}, 'ES-ES': {'QuestionText': '¿Qué le faltó o qué le decepcionó de su experiencia?'}, 'FR': {'QuestionText': '<div><div><span style=\"margin: 0px; padding: 0px;\"><span style=\"margin: 0px; padding: 0px; font-family: Arial, Helvetica, sans-serif;\">Qu\\'est-ce qui manquait ou était décevant dans votre expérience ?</span></span></div><div><span style=\"margin: 0px; padding: 0px;\"><span style=\"margin: 0px; padding: 0px; font-family: Arial, Helvetica, sans-serif;\"><br></span></span></div><span style=\"color: rgb(0, 0, 0); font-family: avenir, proxima-nova, helvetica; font-size: 12px;\"></span></div><span style=\"color: rgb(0, 0, 0); font-family: avenir, proxima-nova, helvetica; font-size: 12px;\"></span>'}, 'IT': {'QuestionText': '<div><span style=\"margin: 0px; padding: 0px;\"><span style=\"margin: 0px; padding: 0px; font-family: Arial, Helvetica, sans-serif;\">Per quali ragioni è stata un\\'esperienza deludente o insoddisfacente?</span></span></div><span style=\"color: rgb(0, 0, 0); font-family: avenir, proxima-nova, helvetica; font-size: 12px;\"></span>'}, 'JA': {'QuestionText': '<div><span style=\"margin: 0px; padding: 0px;\"><span style=\"margin: 0px; padding: 0px; font-family: Arial, Helvetica, sans-serif;\">お客様の期待に応えられなかった点をお聞かせください。</span></span></div><span style=\"color: rgb(0, 0, 0); font-family: avenir, proxima-nova, helvetica; font-size: 12px;\"></span>'}, 'KO': {'QuestionText': '<div><span style=\"margin: 0px; padding: 0px;\"><span style=\"margin: 0px; padding: 0px; font-family: Arial, Helvetica, sans-serif;\">귀하가 아쉽거나 실망스럽게 생각하는 부분은 무엇입니까?</span></span></div><span style=\"color: rgb(0, 0, 0); font-family: avenir, proxima-nova, helvetica; font-size: 12px;\"></span>'}, 'PT': {'QuestionText': '<div>O que é que faltou ou desiludiu na sua experiência?</div><span style=\"color: rgb(0, 0, 0); font-family: avenir, proxima-nova, helvetica; font-size: 12px;\"></span>'}, 'RU': {'QuestionText': '<div><span style=\"margin: 0px; padding: 0px;\"><span style=\"margin: 0px; padding: 0px; font-family: Arial, Helvetica, sans-serif;\">Что вам не понравилось или что вас разочаровало?</span></span></div><span style=\"color: rgb(0, 0, 0); font-family: avenir, proxima-nova, helvetica; font-size: 12px;\"></span><div></div>'}, 'ZH-S': {'QuestionText': '<div><span style=\"margin: 0px; padding: 0px;\"><span style=\"margin: 0px; padding: 0px; font-family: Arial, Helvetica, sans-serif;\">您的体验有什么不足或令人失望的地方？</span></span></div><span style=\"color: rgb(0, 0, 0); font-family: avenir, proxima-nova, helvetica; font-size: 12px;\"></span><div></div>'}, 'ZH-T': {'QuestionText': '<div><span style=\"margin: 0px; padding: 0px;\"><span style=\"margin: 0px; padding: 0px; font-family: Arial, Helvetica, sans-serif;\">是有什麼缺失或令您感到失望的地方嗎？</span></span></div><span style=\"color: rgb(0, 0, 0); font-family: avenir, proxima-nova, helvetica; font-size: 12px;\"></span><div></div>'}}, 'NextChoiceId': 4, 'NextAnswerId': 1, 'SearchSource': {'AllowFreeResponse': 'false'}, 'DataVisibility': {'Private': False, 'Hidden': False}, 'InPageDisplayLogic': {'0': {'0': {'ChoiceLocator': 'q://QID1/IsDetractor', 'Description': '<span class=\"ConjDesc\">If</span> <span class=\"QuestionDesc\">On a scale from 0-10, how likely are you to recommend Teradata to a friend or colleague?</span> <span class=\"LeftOpDesc\">Is Detractor</span> <span class=\"LeftOpDesc\">Is True</span> ', 'LeftOperand': 'q://QID1/IsDetractor', 'LogicType': 'Question', 'Operator': 'EqualTo', 'QuestionID': 'QID1', 'QuestionIDFromLocator': 'QID1', 'QuestionIsInLoop': 'no', 'RightOperand': '1', 'Type': 'Expression'}, 'Type': 'If'}, 'Type': 'BooleanExpression', 'inPage': True}, 'QuestionText_Unsafe': 'What was missing or disappointing about your experience?'}, {'QuestionText': '<div><span style=\"margin: 0px; padding: 0px; font-family: Arial, Helvetica, sans-serif;\"><span style=\"margin: 0px; padding: 0px;\">Which category&nbsp;<span style=\"margin: 0px; padding: 0px; font-weight: bolder;\">best</span>&nbsp;describes you when it comes to the Teradata solutions your company has? (Optional)</span></span></div>', 'DefaultChoices': False, 'DataExportTag': 'Q5', 'QuestionType': 'MC', 'Selector': 'SAVR', 'SubSelector': 'TX', 'Configuration': {'QuestionDescriptionOption': 'UseText'}, 'QuestionDescription': 'Which category\\xa0best\\xa0describes you when it comes to the Teradata solutions your company has? (Opti...', 'Choices': {'1': {'Display': 'Decision Maker (Make buying decisions OR own the budget)'}, '2': {'Display': 'Influencer (Don’t own the budget, but affect the purchase decision)'}, '3': {'Display': 'User (Install, configure, or actively use the system)'}}, 'ChoiceOrder': ['1', '2', '3'], 'Validation': {'Settings': {'ForceResponse': 'OFF', 'ForceResponseType': 'ON', 'Type': 'None'}}, 'GradingData': [], 'Language': {'DE': {'QuestionText': '<div><div><span style=\"margin: 0px; padding: 0px; font-family: Arial, Helvetica, sans-serif;\"><span style=\"margin: 0px; padding: 0px;\">Welche Kategorie beschreibt Sie am besten, wenn es um die Teradata-Lösungen Ihres Unternehmens geht? (Optional)</span></span></div></div>', 'Choices': {'1': {'Display': 'Entscheider (trifft Kaufentscheidungen ODER verwaltet das Budget für die Lösung)'}, '2': {'Display': 'Einflussnehmer (verwaltet nicht das Budget, hat jedoch Einfluss auf die Kaufentscheidung)'}, '3': {'Display': 'Benutzer (installiert, konfiguriert oder verwendet das System aktiv)'}}}, 'ES': {'QuestionText': '¿Qué categoría lo describe mejor en cuanto a las soluciones Teradata que tiene su empresa? (Opcional)', 'Choices': {'1': {'Display': 'Responsable de la toma de decisiones (toma decisiones de compra O posee el presupuesto para dar la soluci&oacute;n)'}, '2': {'Display': 'Influyente (no toma decisiones, pero afecta la decisi&oacute;n de compra)'}, '3': {'Display': 'Usuario (instala, configura o usa el sistema en forma activa)'}}}, 'ES-ES': {'QuestionText': '<div><div><span style=\"margin: 0px; padding: 0px; font-family: Arial, Helvetica, sans-serif;\"><span style=\"margin: 0px; padding: 0px;\">¿Qué categoría le describe mejor en lo que respecta a las soluciones de Teradata que tiene su empresa? (Opcional)</span></span></div></div>', 'Choices': {'1': {'Display': 'Responsable de la toma de decisiones (toma decisiones de compra O es responsable del presupuesto de la solución)'}, '2': {'Display': 'Influyente (no es responsable del presupuesto, pero influye en la decisión de compra)'}, '3': {'Display': 'Usuario (instala, configura o utiliza activamente el sistema)'}}}, 'FR': {'QuestionText': '<div><div><span style=\"margin: 0px; padding: 0px; font-family: Arial, Helvetica, sans-serif;\"><span style=\"margin: 0px; padding: 0px;\">Quelle catégorie vous décrit le mieux en ce qui concerne les solutions Teradata dont dispose votre entreprise? (Facultatif)</span></span></div></div>', 'Choices': {'1': {'Display': \"Décideur (prend les décisions d'achat OU gère le budget de la solution)\"}, '2': {'Display': \"Influenceur (ne gère pas le budget, mais influence la décision d'achat)\"}, '3': {'Display': 'Utilisateur (configure ou utilise activement le système)'}}}, 'IT': {'QuestionText': '<div><span style=\"margin: 0px; padding: 0px; font-family: Arial, Helvetica, sans-serif;\"><span style=\"margin: 0px; padding: 0px;\">Quale categoria ti descrive meglio per quanto riguarda le soluzioni Teradata adottate dalla tua azienda? (Opzionale)</span></span></div>', 'Choices': {'1': {'Display': 'Responsabile delle decisioni (prende decisioni di acquisto o definisce il budget allocato per la soluzione)'}, '2': {'Display': 'Influencer (non definisce budget, ma influisce sulla decisione di acquisto)'}, '3': {'Display': 'Utente (installa, configura o utilizza attivamente il sistema)'}}}, 'JA': {'QuestionText': '<div><span style=\"margin: 0px; padding: 0px; font-family: Arial, Helvetica, sans-serif;\"><span style=\"margin: 0px; padding: 0px;\">テラデータのソリューション選定におけるお客様の立場をお聞かせください。</span></span></div>', 'Choices': {'1': {'Display': 'ソリューション導入を決定・決済する（予算を持っている）'}, '2': {'Display': 'ソリューション導入を企画・選定をする（予算は持っていない）'}, '3': {'Display': 'ソリューションを利用する'}}}, 'KO': {'QuestionText': '<div><span style=\"margin: 0px; padding: 0px; font-family: Arial, Helvetica, sans-serif;\"><span style=\"margin: 0px; padding: 0px;\">회사가 보유한 Teradata 솔루션과 관련하여 귀하에게 가장 적합한 카테고리는 무엇입니까?(선택사항)&nbsp;</span></span></div>', 'Choices': {'1': {'Display': '의사 결정권자(구매 결정을 내리거나 솔루션 예산을 소유)'}, '2': {'Display': '인플루언서(예산을 소유하지 않았으나 구매 결정에 영향을 미침)'}, '3': {'Display': '사용자(설치, 구성 또는 시스템을 적극적으로 사용)'}}}, 'PT': {'QuestionText': '<div>Qual é a categoria que descreve melhor a sua posição no âmbito das soluções Teradata que a sua empresa possui? (Opcional)</div>', 'Choices': {'1': {'Display': 'Decisor (toma decisões de compra OU define o orçamento para a solução)'}, '2': {'Display': 'Influenciador (não define o orçamento, mas afeta a decisão de compra)'}, '3': {'Display': 'Utilizador (instala, configura ou utiliza ativamente o sistema)'}}}, 'RU': {'QuestionText': 'К какой категории вы можете себя отнести, когда речь идет о решениях Teradata, имеющихся в вашей компании? (Необязательно)', 'Choices': {'1': {'Display': 'Лицо, принимающее решения (принимаете решения о покупке или отвечаете за бюджет для решения)'}, '2': {'Display': 'Лицо, влияющее на решения (не отвечаете за бюджет, но влияете на решение о покупке)'}, '3': {'Display': 'Пользователь (устанавливаете, настраиваете или активно используете систему)'}}}, 'ZH-S': {'QuestionText': '<div><span style=\"margin: 0px; padding: 0px; font-family: Arial, Helvetica, sans-serif;\"><span style=\"margin: 0px; padding: 0px;\">谈到贵公司拥有的 Teradata 解决方案，哪个类别最符合您的情况？（选填）</span></span></div><div><span style=\"margin: 0px; padding: 0px; font-family: Arial, Helvetica, sans-serif;\"><span style=\"margin: 0px; padding: 0px;\"><br></span></span></div>', 'Choices': {'1': {'Display': '决策者（作出购买决策或拥有解决方案的预算）'}, '2': {'Display': '影响者（不拥有预算，但影响购买决策）'}, '3': {'Display': '用户（安装、配置或经常使用系统）'}}}, 'ZH-T': {'QuestionText': '<div><span style=\"margin: 0px; padding: 0px; font-family: Arial, Helvetica, sans-serif;\"><span style=\"margin: 0px; padding: 0px;\">何種類別最能描述貴公司所採用的 Teradata 解決方案？(可選擇填寫)&nbsp;</span></span></div><div><span style=\"margin: 0px; padding: 0px; font-family: Arial, Helvetica, sans-serif;\"><span style=\"margin: 0px; padding: 0px;\"><br></span></span></div>', 'Choices': {'1': {'Display': '決策者 (對於某解決方案，可決定是否購買或控管其預算)'}, '2': {'Display': '影響者 (無法控管預算，但能影響購買決策)'}, '3': {'Display': '使用者 (安裝、設定或積極地使用該系統)'}}}}, 'NextChoiceId': 4, 'NextAnswerId': 1, 'QuestionID': 'QID20', 'DataVisibility': {'Private': False, 'Hidden': False}, 'QuestionText_Unsafe': '<div><span style=\"margin: 0px; padding: 0px; font-family: Arial, Helvetica, sans-serif;\"><span style=\"margin: 0px; padding: 0px;\">Which category&nbsp;<span style=\"margin: 0px; padding: 0px; font-weight: bolder;\">best</span>&nbsp;describes you when it comes to the Teradata solutions your company has? (Optional)</span></span></div>'}]}}\n"
     ]
    }
   ],
   "source": [
    "x =  '{ \"name\":\"John\", \"age\":30, \"city\":\"New York\"}'\n",
    "#f = open('/Users/na250047/Downloads/MyQualtricsDownload/questions.json',)\n",
    "with open('/Users/na250047/Downloads/MyQualtricsDownload/questions.json', 'r') as myfile:\n",
    "    data=myfile.read()\n",
    "y = json.loads(data)\n",
    "print(y)\n",
    "aaoBatch = [[123,y]]\n",
    "\n",
    "with teradatasql.connect ('{\"host\":\"Tddevtest.td.teradata.com\",\"user\":\"dev_tql99cre\",\"password\":\"qlApr2021n1122\"}') as con:\n",
    "    with con.cursor () as cur:\n",
    "        cur.execute (\"insert into dev_raw_qualtrics_tmp.question_stg (surveyid,JsonTextResponse) values (?, ?)\", [\n",
    "            [ 'SV_123', data ]\n",
    "        ])\n",
    "        "
   ]
  },
  {
   "cell_type": "code",
   "execution_count": 26,
   "metadata": {},
   "outputs": [
    {
     "name": "stdout",
     "output_type": "stream",
     "text": [
      "SQL statement metadata from prepare operation:\n",
      "\n",
      "   Column [0]          NativeSQL : select * from dev_raw_qualtrics_tmp.question_stg \n",
      "   Column [1]      RequestNumber : 1\n",
      "   Column [2]    StatementNumber : 1\n",
      "   Column [3]       ActivityType : 1\n",
      "   Column [4]      ActivityCount : 0\n",
      "   Column [5]        WarningCode : 0\n",
      "   Column [6]     WarningMessage : \n",
      "   Column [7]     ColumnMetadata : [{\"RawDataType\":449,\"CookedDataType\":448,\"Nullable\":true,\"TypeName\":\"VARCHAR\",\"Name\":\"surveyid\",\"Title\":\"surveyid\",\"Format\":\"X(255)\",\"ByteCount\":765,\"Precision\":0,\"Scale\":0,\"ServerCharsetCode\":2,\"CaseSensitive\":false,\"DatabaseName\":\"dev_raw_qualtrics_TMP\",\"ObjectName\":\"question_stg\",\"Position\":1,\"AsClauseName\":\"\",\"DefaultValue\":\"\",\"IdentityColumn\":false,\"DefinitelyWritable\":true,\"MayBeNull\":true,\"Searchable\":true,\"Writable\":true,\"UDTKind\":0,\"UDTName\":\"\",\"DataTypeMiscInfo\":\"\",\"IntervalDigits\":0,\"MaxCharacterCount\":255,\"Signed\":false,\"KeyColumn\":false,\"Unique\":false,\"Expression\":false,\"Sortable\":true},{\"RawDataType\":881,\"CookedDataType\":880,\"Nullable\":true,\"TypeName\":\"JSON\",\"Name\":\"JsonTextResponse\",\"Title\":\"JsonTextResponse\",\"Format\":\"X(32000)\",\"ByteCount\":16776192,\"Precision\":0,\"Scale\":0,\"ServerCharsetCode\":2,\"CaseSensitive\":true,\"DatabaseName\":\"dev_raw_qualtrics_TMP\",\"ObjectName\":\"question_stg\",\"Position\":2,\"AsClauseName\":\"\",\"DefaultValue\":\"\",\"IdentityColumn\":false,\"DefinitelyWritable\":true,\"MayBeNull\":true,\"Searchable\":false,\"Writable\":true,\"UDTKind\":0,\"UDTName\":\"\",\"DataTypeMiscInfo\":\"TEXT\",\"IntervalDigits\":0,\"MaxCharacterCount\":8388000,\"Signed\":false,\"KeyColumn\":false,\"Unique\":false,\"Expression\":false,\"Sortable\":false},{\"RawDataType\":773,\"CookedDataType\":772,\"Nullable\":true,\"TypeName\":\"TIMESTAMP WITH TIME ZONE\",\"Name\":\"load_ts\",\"Title\":\"load_ts\",\"Format\":\"YYYY-MM-DDBHH:MI:SS.S(6)Z\",\"ByteCount\":32,\"Precision\":0,\"Scale\":6,\"ServerCharsetCode\":0,\"CaseSensitive\":false,\"DatabaseName\":\"dev_raw_qualtrics_TMP\",\"ObjectName\":\"question_stg\",\"Position\":3,\"AsClauseName\":\"\",\"DefaultValue\":\"\",\"IdentityColumn\":false,\"DefinitelyWritable\":true,\"MayBeNull\":true,\"Searchable\":true,\"Writable\":true,\"UDTKind\":0,\"UDTName\":\"\",\"DataTypeMiscInfo\":\"\",\"IntervalDigits\":0,\"MaxCharacterCount\":0,\"Signed\":false,\"KeyColumn\":false,\"Unique\":false,\"Expression\":false,\"Sortable\":true}]\n",
      "   Column [8]  ParameterMetadata : null\n",
      "\n",
      "Result set column metadata as pretty-printed JSON:\n",
      "[\n",
      "    {\n",
      "        \"AsClauseName\": \"\",\n",
      "        \"ByteCount\": 765,\n",
      "        \"CaseSensitive\": false,\n",
      "        \"CookedDataType\": 448,\n",
      "        \"DataTypeMiscInfo\": \"\",\n",
      "        \"DatabaseName\": \"dev_raw_qualtrics_TMP\",\n",
      "        \"DefaultValue\": \"\",\n",
      "        \"DefinitelyWritable\": true,\n",
      "        \"Expression\": false,\n",
      "        \"Format\": \"X(255)\",\n",
      "        \"IdentityColumn\": false,\n",
      "        \"IntervalDigits\": 0,\n",
      "        \"KeyColumn\": false,\n",
      "        \"MaxCharacterCount\": 255,\n",
      "        \"MayBeNull\": true,\n",
      "        \"Name\": \"surveyid\",\n",
      "        \"Nullable\": true,\n",
      "        \"ObjectName\": \"question_stg\",\n",
      "        \"Position\": 1,\n",
      "        \"Precision\": 0,\n",
      "        \"RawDataType\": 449,\n",
      "        \"Scale\": 0,\n",
      "        \"Searchable\": true,\n",
      "        \"ServerCharsetCode\": 2,\n",
      "        \"Signed\": false,\n",
      "        \"Sortable\": true,\n",
      "        \"Title\": \"surveyid\",\n",
      "        \"TypeName\": \"VARCHAR\",\n",
      "        \"UDTKind\": 0,\n",
      "        \"UDTName\": \"\",\n",
      "        \"Unique\": false,\n",
      "        \"Writable\": true\n",
      "    },\n",
      "    {\n",
      "        \"AsClauseName\": \"\",\n",
      "        \"ByteCount\": 16776192,\n",
      "        \"CaseSensitive\": true,\n",
      "        \"CookedDataType\": 880,\n",
      "        \"DataTypeMiscInfo\": \"TEXT\",\n",
      "        \"DatabaseName\": \"dev_raw_qualtrics_TMP\",\n",
      "        \"DefaultValue\": \"\",\n",
      "        \"DefinitelyWritable\": true,\n",
      "        \"Expression\": false,\n",
      "        \"Format\": \"X(32000)\",\n",
      "        \"IdentityColumn\": false,\n",
      "        \"IntervalDigits\": 0,\n",
      "        \"KeyColumn\": false,\n",
      "        \"MaxCharacterCount\": 8388000,\n",
      "        \"MayBeNull\": true,\n",
      "        \"Name\": \"JsonTextResponse\",\n",
      "        \"Nullable\": true,\n",
      "        \"ObjectName\": \"question_stg\",\n",
      "        \"Position\": 2,\n",
      "        \"Precision\": 0,\n",
      "        \"RawDataType\": 881,\n",
      "        \"Scale\": 0,\n",
      "        \"Searchable\": false,\n",
      "        \"ServerCharsetCode\": 2,\n",
      "        \"Signed\": false,\n",
      "        \"Sortable\": false,\n",
      "        \"Title\": \"JsonTextResponse\",\n",
      "        \"TypeName\": \"JSON\",\n",
      "        \"UDTKind\": 0,\n",
      "        \"UDTName\": \"\",\n",
      "        \"Unique\": false,\n",
      "        \"Writable\": true\n",
      "    },\n",
      "    {\n",
      "        \"AsClauseName\": \"\",\n",
      "        \"ByteCount\": 32,\n",
      "        \"CaseSensitive\": false,\n",
      "        \"CookedDataType\": 772,\n",
      "        \"DataTypeMiscInfo\": \"\",\n",
      "        \"DatabaseName\": \"dev_raw_qualtrics_TMP\",\n",
      "        \"DefaultValue\": \"\",\n",
      "        \"DefinitelyWritable\": true,\n",
      "        \"Expression\": false,\n",
      "        \"Format\": \"YYYY-MM-DDBHH:MI:SS.S(6)Z\",\n",
      "        \"IdentityColumn\": false,\n",
      "        \"IntervalDigits\": 0,\n",
      "        \"KeyColumn\": false,\n",
      "        \"MaxCharacterCount\": 0,\n",
      "        \"MayBeNull\": true,\n",
      "        \"Name\": \"load_ts\",\n",
      "        \"Nullable\": true,\n",
      "        \"ObjectName\": \"question_stg\",\n",
      "        \"Position\": 3,\n",
      "        \"Precision\": 0,\n",
      "        \"RawDataType\": 773,\n",
      "        \"Scale\": 6,\n",
      "        \"Searchable\": true,\n",
      "        \"ServerCharsetCode\": 0,\n",
      "        \"Signed\": false,\n",
      "        \"Sortable\": true,\n",
      "        \"Title\": \"load_ts\",\n",
      "        \"TypeName\": \"TIMESTAMP WITH TIME ZONE\",\n",
      "        \"UDTKind\": 0,\n",
      "        \"UDTName\": \"\",\n",
      "        \"Unique\": false,\n",
      "        \"Writable\": true\n",
      "    }\n",
      "]\n",
      "\n",
      "Parameter marker metadata as pretty-printed JSON:\n",
      "null\n"
     ]
    }
   ],
   "source": [
    "\n",
    "import teradatasql\n",
    "import json\n",
    "\n",
    "with teradatasql.connect ('{\"host\":\"Tddevtest.td.teradata.com\",\"user\":\"dev_tql99cre\",\"password\":\"qlApr2021n1122\"}') as con:\n",
    "    with con.cursor () as cur:\n",
    "        cur.execute ('{fn teradata_rpo(S)}{fn teradata_fake_result_sets}select * from dev_raw_qualtrics_tmp.question_stg ')\n",
    "        row = cur.fetchone ()\n",
    "        print ('SQL statement metadata from prepare operation:')\n",
    "        print ()\n",
    "        for i in range (0, len (cur.description)):\n",
    "            print ('   Column [{}] {:>18} : {}'.format (i, cur.description [i][0], row [i]))\n",
    "        print ()\n",
    "        print ('Result set column metadata as pretty-printed JSON:')\n",
    "        print (json.dumps (json.loads (row [7]), indent=4, sort_keys=True))\n",
    "        print ()\n",
    "        print ('Parameter marker metadata as pretty-printed JSON:')\n",
    "        print (json.dumps (json.loads (row [8]), indent=4, sort_keys=True))"
   ]
  },
  {
   "cell_type": "code",
   "execution_count": null,
   "metadata": {},
   "outputs": [],
   "source": [
    "x =  '{ \"name\":\"John\", \"age\":30, \"city\":\"New York\"}'\n",
    "#f = open('/Users/na250047/Downloads/MyQualtricsDownload/questions.json',)\n",
    "with open('/Users/na250047/Downloads/MyQualtricsDownload/questions.json', 'r') as myfile:\n",
    "    data=myfile.read()\n",
    "y = json.loads(data)\n",
    "#print(y)\n",
    "aaoBatch = [[123,y]]\n",
    "\n",
    "with teradatasql.connect ('{\"host\":\"Tddevtest.td.teradata.com\",\"user\":\"dev_tql99cre\",\"password\":\"qlApr2021n1122\"}') as con:\n",
    "    with con.cursor () as cur:\n",
    "        cur.execute (\"insert into dev_raw_qualtrics_tmp.question_stg (surveyid,JsonTextResponse) values (?, ?)\", [\n",
    "            [ 123, y ]\n",
    "        ])"
   ]
  },
  {
   "cell_type": "code",
   "execution_count": 3,
   "metadata": {},
   "outputs": [
    {
     "name": "stdout",
     "output_type": "stream",
     "text": [
      "Collecting Unidecode\n",
      "  Downloading Unidecode-1.2.0-py2.py3-none-any.whl (241 kB)\n",
      "\u001b[K     |████████████████████████████████| 241 kB 3.3 MB/s eta 0:00:01\n",
      "\u001b[?25hInstalling collected packages: Unidecode\n",
      "Successfully installed Unidecode-1.2.0\n",
      "Note: you may need to restart the kernel to use updated packages.\n"
     ]
    }
   ],
   "source": [
    "pip install Unidecode"
   ]
  },
  {
   "cell_type": "code",
   "execution_count": null,
   "metadata": {},
   "outputs": [],
   "source": []
  }
 ],
 "metadata": {
  "kernelspec": {
   "display_name": "Python 3",
   "language": "python",
   "name": "python3"
  },
  "language_info": {
   "codemirror_mode": {
    "name": "ipython",
    "version": 3
   },
   "file_extension": ".py",
   "mimetype": "text/x-python",
   "name": "python",
   "nbconvert_exporter": "python",
   "pygments_lexer": "ipython3",
   "version": "3.7.6"
  }
 },
 "nbformat": 4,
 "nbformat_minor": 4
}
