{
 "cells": [
  {
   "cell_type": "code",
   "execution_count": 28,
   "metadata": {},
   "outputs": [
    {
     "name": "stdout",
     "output_type": "stream",
     "text": [
      "25\n",
      "Pytho\n"
     ]
    }
   ],
   "source": [
    "teststring = 'I love Python programming'\n",
    "print(len(teststring))\n",
    "print(teststring[-18:-13])\n"
   ]
  },
  {
   "cell_type": "code",
   "execution_count": 2,
   "metadata": {},
   "outputs": [],
   "source": [
    "# this is a heading"
   ]
  },
  {
   "cell_type": "code",
   "execution_count": 3,
   "metadata": {},
   "outputs": [
    {
     "ename": "NameError",
     "evalue": "name 'Varma' is not defined",
     "output_type": "error",
     "traceback": [
      "\u001b[0;31m---------------------------------------------------------------------------\u001b[0m",
      "\u001b[0;31mNameError\u001b[0m                                 Traceback (most recent call last)",
      "\u001b[0;32m<ipython-input-3-ba50ca9146a3>\u001b[0m in \u001b[0;36m<module>\u001b[0;34m\u001b[0m\n\u001b[0;32m----> 1\u001b[0;31m \u001b[0mname\u001b[0m \u001b[0;34m=\u001b[0m \u001b[0mVarma\u001b[0m\u001b[0;34m\u001b[0m\u001b[0;34m\u001b[0m\u001b[0m\n\u001b[0m\u001b[1;32m      2\u001b[0m \u001b[0;34m\u001b[0m\u001b[0m\n\u001b[1;32m      3\u001b[0m \u001b[0mprint\u001b[0m\u001b[0;34m(\u001b[0m\u001b[0mtype\u001b[0m\u001b[0;34m(\u001b[0m\u001b[0mname\u001b[0m\u001b[0;34m)\u001b[0m\u001b[0;34m)\u001b[0m\u001b[0;34m\u001b[0m\u001b[0;34m\u001b[0m\u001b[0m\n",
      "\u001b[0;31mNameError\u001b[0m: name 'Varma' is not defined"
     ]
    }
   ],
   "source": [
    "name = Varma\n",
    "\n",
    "print(type(name))"
   ]
  },
  {
   "cell_type": "code",
   "execution_count": 5,
   "metadata": {},
   "outputs": [
    {
     "data": {
      "text/plain": [
       "-2"
      ]
     },
     "execution_count": 5,
     "metadata": {},
     "output_type": "execute_result"
    }
   ],
   "source": [
    "4 % (1 + 9)**2 - 60 // (7 + 2)"
   ]
  },
  {
   "cell_type": "markdown",
   "metadata": {},
   "source": [
    "100"
   ]
  },
  {
   "cell_type": "code",
   "execution_count": 35,
   "metadata": {},
   "outputs": [
    {
     "name": "stdout",
     "output_type": "stream",
     "text": [
      "Na,Pr\n"
     ]
    }
   ],
   "source": [
    "input_str = \"NPar\"\n",
    "message = \"\"\n",
    "if(input_str is not None):\n",
    "    message1 = \"\"\n",
    "    message2 = \"\"\n",
    "    for x in range(0, len(input_str), 2):\n",
    "        message1 = message1 + input_str[x] \n",
    "    for x in range(1, len(input_str)+1, 2):\n",
    "        message2 = message2 + input_str[x] \n",
    "        message = message1.strip()+\",\"+message2.strip()\n",
    "print(message)"
   ]
  },
  {
   "cell_type": "code",
   "execution_count": 36,
   "metadata": {},
   "outputs": [
    {
     "data": {
      "text/plain": [
       "'e'"
      ]
     },
     "execution_count": 36,
     "metadata": {},
     "output_type": "execute_result"
    }
   ],
   "source": [
    "x = 'len'\n",
    "x[len(x * 2) - 5]"
   ]
  },
  {
   "cell_type": "code",
   "execution_count": 58,
   "metadata": {},
   "outputs": [
    {
     "name": "stdout",
     "output_type": "stream",
     "text": [
      "[5, 5, 5, 5, 5, 5, 5, 3]\n",
      "[3, 3, 5, 5, 1, 7, 2]\n",
      "{3, 5}\n",
      "{1, 2, 3, 5, 7}\n",
      "set intersection:\n",
      "{1, 2, 3, 5, 7}\n",
      "[1, 3, 5, 7]\n"
     ]
    }
   ],
   "source": [
    "input_list = [[5,5,5,5,5,5,5,3], [3,3,5,5,1,7,2]]\n",
    "list_1 = input_list[0]\n",
    "print(list_1)\n",
    "list_2 = input_list[1]\n",
    "print(list_2)\n",
    "set_1 = set(list_1)\n",
    "print(set_1)\n",
    "set_2 = set(list_2)\n",
    "print(set_2)\n",
    "set_intersect = set_2 | set_1\n",
    "print('set intersection:')\n",
    "print(set_intersect)\n",
    "answer = list(set_intersect)\n",
    "answer.sort()\n",
    "#Type your answer here\n",
    "for num in answer: \n",
    "      \n",
    "    # checking condition \n",
    "    if num % 2 == 0: \n",
    "       answer.remove(num)\n",
    "\n",
    "print(answer)"
   ]
  },
  {
   "cell_type": "code",
   "execution_count": 96,
   "metadata": {},
   "outputs": [
    {
     "name": "stdout",
     "output_type": "stream",
     "text": [
      "['old', 'apple', 'item', 'euphoria']\n"
     ]
    }
   ],
   "source": [
    "l2 = []\n",
    "l1= ['wood','old','apple','big','item','euphoria']\n",
    "#for i in l1:\n",
    "#    if(i[0] in 'aeiou'):\n",
    "#        l2.append(i)\n",
    "\n",
    "l2 = [i for i in l1 if i[0] in 'aeiou']\n",
    "        \n",
    "print(l2)"
   ]
  },
  {
   "cell_type": "code",
   "execution_count": 75,
   "metadata": {},
   "outputs": [
    {
     "name": "stdout",
     "output_type": "stream",
     "text": [
      "NA\n",
      "dict_values([['Shiva', 24, 'Content Strategist'], ['Udit', 25, 'Content Strategist'], ['Sonam', 28, 'Sr Manager'], ['Ansari', 29, 'Product Lead'], ['Huzefa', 32, 'Project Manager']])\n"
     ]
    }
   ],
   "source": [
    "Employee_data = { 101:['Shiva', 24, 'Content Strategist'] ,102:['Udit',25,'Content Strategist'], 103:['Sonam', 28,'Sr Manager'], 104:['Ansari',29,'Product Lead' ],105:['Huzefa',32,'Project Manager' ]}\n",
    "if('Label' not in Employee_data):\n",
    "    print('NA')\n",
    "values = Employee_data.values()\n",
    "print((values))"
   ]
  },
  {
   "cell_type": "code",
   "execution_count": 86,
   "metadata": {},
   "outputs": [
    {
     "name": "stdout",
     "output_type": "stream",
     "text": [
      "[1, 2]\n"
     ]
    }
   ],
   "source": [
    "d={'a':1, 'b':2}\n",
    "valList = list(d.values())\n",
    "print(valList)"
   ]
  },
  {
   "cell_type": "code",
   "execution_count": 97,
   "metadata": {},
   "outputs": [
    {
     "data": {
      "text/plain": [
       "120"
      ]
     },
     "execution_count": 97,
     "metadata": {},
     "output_type": "execute_result"
    }
   ],
   "source": [
    "def factorial(n):\n",
    "    fact =1\n",
    "    for i in range(1,n+1):\n",
    "        fact*=i\n",
    "    return fact\n",
    "\n",
    "factorial(5)"
   ]
  },
  {
   "cell_type": "code",
   "execution_count": 3,
   "metadata": {},
   "outputs": [
    {
     "data": {
      "text/plain": [
       "35"
      ]
     },
     "execution_count": 3,
     "metadata": {},
     "output_type": "execute_result"
    }
   ],
   "source": [
    "def func(x = 1 ,y = 2):\n",
    "    z = x * y + x + y\n",
    "    return z\n",
    "\n",
    "func(2, func(3))"
   ]
  },
  {
   "cell_type": "code",
   "execution_count": 2,
   "metadata": {},
   "outputs": [],
   "source": [
    "import sys\n",
    "# input comes from STDIN (standard input)\n",
    "for line in sys.stdin:\n",
    "    line = line.strip()\n",
    "    line = line.split(\",\")\n",
    "\n",
    "    if len(line) >=2:\n",
    "        key = line[1]\n",
    "        value = line[2]\n",
    "\n",
    "        print ('%s\\t%s' % (key, value))"
   ]
  },
  {
   "cell_type": "code",
   "execution_count": 4,
   "metadata": {},
   "outputs": [],
   "source": [
    "import sys\n",
    "# input comes from STDIN (standard input)\n",
    "for line in sys.stdin:\n",
    "    line = line.strip()\n",
    "    line = line.split(\",\")\n",
    "    if len(line) >=2:\n",
    "        gender = line[1]\n",
    "        age = line[2]\n",
    "        print ('%s\\t%s' % (gender, age))\n"
   ]
  },
  {
   "cell_type": "code",
   "execution_count": null,
   "metadata": {},
   "outputs": [],
   "source": [
    "sim"
   ]
  }
 ],
 "metadata": {
  "kernelspec": {
   "display_name": "Python 3",
   "language": "python",
   "name": "python3"
  },
  "language_info": {
   "codemirror_mode": {
    "name": "ipython",
    "version": 3
   },
   "file_extension": ".py",
   "mimetype": "text/x-python",
   "name": "python",
   "nbconvert_exporter": "python",
   "pygments_lexer": "ipython3",
   "version": "3.7.6"
  }
 },
 "nbformat": 4,
 "nbformat_minor": 4
}
