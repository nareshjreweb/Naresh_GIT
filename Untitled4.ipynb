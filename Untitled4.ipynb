{
 "cells": [
  {
   "cell_type": "code",
   "execution_count": 1,
   "metadata": {},
   "outputs": [
    {
     "name": "stdout",
     "output_type": "stream",
     "text": [
      "heloo\n"
     ]
    }
   ],
   "source": [
    "print('heloo')"
   ]
  },
  {
   "cell_type": "code",
   "execution_count": 16,
   "metadata": {},
   "outputs": [
    {
     "name": "stdout",
     "output_type": "stream",
     "text": [
      "checking value of j:0\n",
      "3\n",
      "checking value of j:1\n",
      "4\n",
      "prior a[j+1]:1\n",
      "after a[j+1]:4\n",
      "prior a[j+1]:4\n",
      "after a[j+1]:3\n",
      "prior a[j+1]:3\n",
      "after a[j+1]:5\n",
      "checking value of j:-1\n",
      "1\n",
      "checking value of j:3\n",
      "2\n",
      "checking value of j:4\n",
      "6\n",
      "checking value of j:5\n",
      "8\n",
      "checking value of j:6\n",
      "9\n",
      "[1, 5, 3, 4, 2, 6, 8, 9]\n"
     ]
    }
   ],
   "source": [
    "#insertion sort\n",
    "\n",
    "arr = [5,3,4,1,2,6,8,9]\n",
    "\n",
    "def insertion_sort(a):\n",
    "    for i in range(1,len(a)):\n",
    "        k = a[i]\n",
    "        #print(k)\n",
    "        j = i-1\n",
    "        #print(a[j])\n",
    "        while a[j]>k and j>=0 and k==1:\n",
    "            print(\"prior a[j+1]:\"+str(a[j+1]))\n",
    "            a[j+1]=a[j]\n",
    "            print(\"after a[j+1]:\"+str(a[j+1]))\n",
    "            j-=1\n",
    "        print(\"checking value of j:\"+str(j))\n",
    "        print(k)\n",
    "        a[j+1]=k\n",
    "    return a\n",
    "\n",
    "print(insertion_sort(arr))\n",
    "#print(arr)"
   ]
  },
  {
   "cell_type": "code",
   "execution_count": 19,
   "metadata": {},
   "outputs": [
    {
     "name": "stdout",
     "output_type": "stream",
     "text": [
      "[11, 12, 25, 33, 33, 64]\n"
     ]
    }
   ],
   "source": [
    "import sys\n",
    "\n",
    "A = [64,25,33,12,33,11]\n",
    "\n",
    "def insertion_sort(A):\n",
    "    for i in range(len(A)):\n",
    "        min_idx = i\n",
    "        for j in range(i+1,len(A)):\n",
    "            if A[min_idx]>A[j]:\n",
    "                min_idx = j\n",
    "        A[i],A[min_idx]=A[min_idx],A[i]\n",
    "    return A\n",
    "\n",
    "print(insertion_sort(A))"
   ]
  },
  {
   "cell_type": "code",
   "execution_count": 20,
   "metadata": {},
   "outputs": [
    {
     "name": "stdout",
     "output_type": "stream",
     "text": [
      "Given array is\n",
      "12 11 13 5 6 7 \n",
      "Sorted array is: \n",
      "5 6 7 11 12 13 \n"
     ]
    }
   ],
   "source": [
    "def mergeSort(arr): \n",
    "\tif len(arr) >1: \n",
    "\t\tmid = len(arr)//2 # Finding the mid of the array \n",
    "\t\tL = arr[:mid] # Dividing the array elements \n",
    "\t\tR = arr[mid:] # into 2 halves \n",
    "\n",
    "\t\tmergeSort(L) # Sorting the first half \n",
    "\t\tmergeSort(R) # Sorting the second half \n",
    "\n",
    "\t\ti = j = k = 0\n",
    "        \n",
    "\t\t\n",
    "\t\t# Copy data to temp arrays L[] and R[] \n",
    "\t\twhile i < len(L) and j < len(R): \n",
    "\t\t\tif L[i] < R[j]: \n",
    "\t\t\t\tarr[k] = L[i] \n",
    "\t\t\t\ti+= 1\n",
    "\t\t\telse: \n",
    "\t\t\t\tarr[k] = R[j] \n",
    "\t\t\t\tj+= 1\n",
    "\t\t\tk+= 1\n",
    "\t\t\n",
    "\t\t# Checking if any element was left \n",
    "\t\twhile i < len(L): \n",
    "\t\t\tarr[k] = L[i] \n",
    "\t\t\ti+= 1\n",
    "\t\t\tk+= 1\n",
    "\t\t\n",
    "\t\twhile j < len(R): \n",
    "\t\t\tarr[k] = R[j] \n",
    "\t\t\tj+= 1\n",
    "\t\t\tk+= 1\n",
    "\n",
    "# Code to print the list \n",
    "def printList(arr): \n",
    "\tfor i in range(len(arr)):\t\t \n",
    "\t\tprint(arr[i], end =\" \") \n",
    "\tprint() \n",
    "\n",
    "# driver code to test the above code \n",
    "if __name__ == '__main__': \n",
    "\tarr = [12, 11, 13, 5, 6, 7] \n",
    "\tprint (\"Given array is\", end =\"\\n\") \n",
    "\tprintList(arr) \n",
    "\tmergeSort(arr) \n",
    "\tprint(\"Sorted array is: \", end =\"\\n\") \n",
    "\tprintList(arr) "
   ]
  },
  {
   "cell_type": "code",
   "execution_count": 23,
   "metadata": {},
   "outputs": [
    {
     "name": "stdout",
     "output_type": "stream",
     "text": [
      "[5, 6, 7, 11, 12, 13]\n"
     ]
    }
   ],
   "source": [
    "def merge_Sort_F(arr):\n",
    "    if len(arr)>1:\n",
    "        mid=len(arr)//2\n",
    "        L = arr[:mid]\n",
    "        R = arr[mid:]\n",
    "        \n",
    "        merge_Sort_F(L)\n",
    "        merge_Sort_F(R)\n",
    "        \n",
    "        i = j = k = 0\n",
    "        \n",
    "        while i < len(L) and j < len(R):\n",
    "            if L[i]<R[j]:\n",
    "                arr[k]=L[i]\n",
    "                i+=1\n",
    "            else:\n",
    "                arr[k]=R[j]\n",
    "                j+=1\n",
    "            k+=1\n",
    "        while i < len(L): \n",
    "            arr[k]=L[i]\n",
    "            i+=1\n",
    "            k+=1\n",
    "        while j < len(R): \n",
    "            arr[k]=R[j]\n",
    "            j+=1\n",
    "            k+=1\n",
    "arr = [12, 11, 13, 5, 6, 7]          \n",
    "merge_Sort_F(arr)\n",
    "\n",
    "print(arr)"
   ]
  },
  {
   "cell_type": "code",
   "execution_count": 26,
   "metadata": {},
   "outputs": [
    {
     "data": {
      "text/plain": [
       "5"
      ]
     },
     "execution_count": 26,
     "metadata": {},
     "output_type": "execute_result"
    }
   ],
   "source": [
    "5%10"
   ]
  },
  {
   "cell_type": "code",
   "execution_count": 29,
   "metadata": {},
   "outputs": [
    {
     "data": {
      "text/plain": [
       "[20, 10, 15, 5, 29]"
      ]
     },
     "execution_count": 29,
     "metadata": {},
     "output_type": "execute_result"
    }
   ],
   "source": [
    "def func(x):\n",
    "     return x % 10\n",
    "\n",
    "L = [15, 20, 5, 29, 10]\n",
    "sorted(L, key = func)"
   ]
  },
  {
   "cell_type": "code",
   "execution_count": 41,
   "metadata": {},
   "outputs": [
    {
     "name": "stdout",
     "output_type": "stream",
     "text": [
      "k:0\n",
      "k:0\n",
      "k:0\n",
      "k:0\n",
      "k:0\n"
     ]
    },
    {
     "data": {
      "text/plain": [
       "[1, 2, 3, 4, 5, 6, 7, 9, 11, 13, 15, 18]"
      ]
     },
     "execution_count": 41,
     "metadata": {},
     "output_type": "execute_result"
    }
   ],
   "source": [
    "a = [1,3,5,9,13,18]\n",
    "b = [2,4,6,7,11,15]\n",
    "\n",
    "c = []\n",
    "i=j=k=0\n",
    "while i<len(a) and j<len(b):\n",
    "    if a[i]<=b[j]:\n",
    "        print('k:'+str(k))\n",
    "        c.append(a[i])\n",
    "        i+=1\n",
    "    else:\n",
    "        c.append(b[j])\n",
    "        j+=1\n",
    "    #k+=1\n",
    "while i < len(a): \n",
    "        c.append(a[i])\n",
    "        i+=1\n",
    "while j < len(b): \n",
    "        c.append(b[j])\n",
    "        j+=1\n",
    "\n",
    "c\n",
    "\n"
   ]
  },
  {
   "cell_type": "code",
   "execution_count": 64,
   "metadata": {},
   "outputs": [
    {
     "name": "stdout",
     "output_type": "stream",
     "text": [
      "8\n"
     ]
    }
   ],
   "source": [
    "#fibonnaci series\n",
    "\n",
    "\n",
    "n = 6\n",
    "\n",
    "def fib(n):\n",
    "    if n<=0:\n",
    "        return \"please enter a valid number\"\n",
    "    elif n==1 or n==2:\n",
    "        return 1\n",
    "    else:\n",
    "        return fib(n-1)+fib(n-2)\n",
    "\n",
    "print(fib(n))"
   ]
  },
  {
   "cell_type": "code",
   "execution_count": 72,
   "metadata": {},
   "outputs": [
    {
     "name": "stdout",
     "output_type": "stream",
     "text": [
      "0\n",
      "1\n",
      "1\n",
      "2\n",
      "3\n",
      "5\n"
     ]
    }
   ],
   "source": [
    "\n",
    "n = 6\n",
    "\n",
    "def fib(n):\n",
    "    if n<=1:\n",
    "        #a.append(1)\n",
    "        return n\n",
    "    else:\n",
    "        #a.append(fib(n-1)+fib(n-2))\n",
    "        return fib(n-1)+fib(n-2)\n",
    "    \n",
    "for i in range(n):\n",
    "    print(fib(i))\n"
   ]
  },
  {
   "cell_type": "code",
   "execution_count": null,
   "metadata": {},
   "outputs": [],
   "source": []
  },
  {
   "cell_type": "code",
   "execution_count": 1,
   "metadata": {},
   "outputs": [
    {
     "name": "stdout",
     "output_type": "stream",
     "text": [
      "[0, 0, 0, 0, 1, 1, 1, 2, 2]\n"
     ]
    }
   ],
   "source": [
    "input_list = [0, 2, 0, 0, 1, 1, 2, 0, 1]\n",
    "\n",
    "def sort_list(a):\n",
    "    j = 0\n",
    "    for i in range(len(input_list)):\n",
    "        if a[i]==0:\n",
    "            a[i],a[j]=a[j],a[i]\n",
    "            j+=1\n",
    "    for i in range(len(input_list)):\n",
    "        if a[i]==1:\n",
    "            if a[j]!=0:\n",
    "                a[i],a[j]=a[j],a[i]\n",
    "                j+=1\n",
    "\n",
    "sort_list(input_list)\n",
    "print(input_list)"
   ]
  },
  {
   "cell_type": "code",
   "execution_count": 4,
   "metadata": {},
   "outputs": [
    {
     "name": "stdout",
     "output_type": "stream",
     "text": [
      "[0, 0, 0, 0, 1, 1, 2, 2, 1]\n"
     ]
    }
   ],
   "source": [
    "input_list = [0, 2, 0, 0, 1, 1, 2, 0, 1]\n",
    "\n",
    "def sort_list(a):\n",
    "    j = k = 0\n",
    "    for i in range(len(input_list)):\n",
    "        if a[i]==0:\n",
    "            a[i],a[j]=a[j],a[i]\n",
    "            j+=1\n",
    "        \n",
    "\n",
    "sort_list(input_list)\n",
    "print(input_list)"
   ]
  },
  {
   "cell_type": "code",
   "execution_count": 7,
   "metadata": {},
   "outputs": [
    {
     "name": "stdout",
     "output_type": "stream",
     "text": [
      "[1, 2, 8, 8, 8]\n"
     ]
    }
   ],
   "source": [
    "L1 = [1, 1, 2, 4, 8, 8, 8, 9]\n",
    "\n",
    "L2 = [1, 2, 6, 7, 8, 8, 8]\n",
    "\n",
    "c=[]\n",
    "\n",
    "\n",
    "\n",
    "def find_common_element(list2, list1):\n",
    "    j = 0\n",
    "    for i in list2:\n",
    "        if i in list1:\n",
    "            c.append(i)\n",
    "            \n",
    "\n",
    "if len(L2)<len(L1):\n",
    "    find_common_element(L2, L1)\n",
    "else:\n",
    "    find_common_element(L1, L2)\n",
    "\n",
    "print(c)"
   ]
  },
  {
   "cell_type": "code",
   "execution_count": 8,
   "metadata": {},
   "outputs": [
    {
     "data": {
      "text/plain": [
       "30"
      ]
     },
     "execution_count": 8,
     "metadata": {},
     "output_type": "execute_result"
    }
   ],
   "source": [
    "def Unknown_func(number):\n",
    "    if number == 0:\n",
    "        return 0\n",
    "    else:\n",
    "        return number*number + Unknown_func(number-1)\n",
    "\n",
    "Unknown_func(4)"
   ]
  },
  {
   "cell_type": "code",
   "execution_count": 11,
   "metadata": {},
   "outputs": [
    {
     "data": {
      "text/plain": [
       "5"
      ]
     },
     "execution_count": 11,
     "metadata": {},
     "output_type": "execute_result"
    }
   ],
   "source": [
    "def Unknown_func(number):\n",
    "    if(number == 1):\n",
    "        return (0)\n",
    "    else:\n",
    "        return (1 + Unknown_func(number//2))\n",
    "Unknown_func(63)"
   ]
  },
  {
   "cell_type": "code",
   "execution_count": 12,
   "metadata": {},
   "outputs": [
    {
     "data": {
      "text/plain": [
       "8"
      ]
     },
     "execution_count": 12,
     "metadata": {},
     "output_type": "execute_result"
    }
   ],
   "source": [
    "def Unknown_func(n):\n",
    "    if n <= 1:\n",
    "        return(n)\n",
    "    else:\n",
    "        return (Unknown_func(n-1) + Unknown_func(n-2))\n",
    "Unknown_func(6)"
   ]
  },
  {
   "cell_type": "code",
   "execution_count": 13,
   "metadata": {},
   "outputs": [
    {
     "name": "stdout",
     "output_type": "stream",
     "text": [
      "[1, 4, 0, 2, 3, 1, 0]\n"
     ]
    }
   ],
   "source": [
    "input_list = [1, 9, 35, 12, 13, 21, 10]\n",
    "\n",
    "l1 = list(map(lambda x:x%5,input_list))\n",
    "\n",
    "print(l1)"
   ]
  },
  {
   "cell_type": "code",
   "execution_count": null,
   "metadata": {},
   "outputs": [],
   "source": [
    "input_list = [3, 5, 7, 9, 11, 13, 15, 17, 19, 21, 23, 25, 27]\n",
    "key = 17\n",
    "\n",
    "def ternarySearch(l,r,key,a):\n",
    "    while l<=r:\n",
    "        mid1= (l+(r-l))//3\n",
    "        mid2 = (r-(r-l))//3\n",
    "        \n",
    "        if a[mid1]==key:\n",
    "            return mid1\n",
    "        if a[mid2]==key:\n",
    "            return mid2\n",
    "            \n",
    "        if a[mid1]>key:\n",
    "            r = mid1-1\n",
    "        elif a[mid2]<key:\n",
    "            l= mid2+1\n",
    "        else:\n",
    "            l= mid1+1\n",
    "            r = mid2-1\n",
    "    return -1\n",
    "    \n",
    "print(ternarySearch(0,len(input_list)-1,key,input_list))"
   ]
  },
  {
   "cell_type": "code",
   "execution_count": null,
   "metadata": {},
   "outputs": [],
   "source": [
    "print('hello')"
   ]
  },
  {
   "cell_type": "code",
   "execution_count": null,
   "metadata": {},
   "outputs": [],
   "source": [
    "#take input here\n",
    "import ast\n",
    "input_list = ast.literal_eval(input())\n",
    "key = int(input())\n",
    "\n",
    "#start writing your code from here\n",
    "def ternarySearch(l,r,key,a):\n",
    "    while l<=r:\n",
    "        mid1= (l+(r-l))//3\n",
    "        mid2 = (r-(r-l))//3\n",
    "        \n",
    "        if a[mid1]==key:\n",
    "            return mid1\n",
    "        if a[mid2]==key:\n",
    "            return mid2\n",
    "            \n",
    "        if a[mid1]>key:\n",
    "            r = mid1-1\n",
    "        elif a[mid2]<key:\n",
    "            l= mid2+1\n",
    "        else:\n",
    "            l= mid1+1\n",
    "            r = mid2-1\n",
    "    return -1\n",
    "    \n",
    "print(ternarySearch(0,len(input_list)-1,key,input_list))"
   ]
  },
  {
   "cell_type": "code",
   "execution_count": null,
   "metadata": {},
   "outputs": [],
   "source": [
    "import lxml\n",
    "import lxml.etree as ET\n",
    "import lxml.objectify as ob\n",
    "import sys\n",
    "import json\n",
    "import xmltodict\n",
    "import glob\n",
    "import pathlib\n",
    "from datetime import datetime\n",
    "import time\n",
    "import shutil\n",
    "import zipfile\n",
    "import os, re, os.path\n",
    "from os import listdir\n",
    "from os.path import isfile, join, basename\n",
    "import gzip\n",
    "import string\n",
    "import requests\n",
    "import urllib\n",
    "import configparser\n",
    "\n",
    "def XMLtoJSON_SDB(filepath):\n",
    "    print(filepath)\n",
    "    try:    \n",
    "        root = ET.parse(filepath).getroot()\n",
    "        print(root)\n",
    "        SiteID=json.dumps(root.xpath('./SimpleAlertReport/@SiteID'))[1:-1]#to get the server management(top level) site id with no square brackets\n",
    "        StartTime=json.dumps(root.xpath('./SimpleAlertReport/@StartTime'))[1:-1]\n",
    "        SourceReportingAlias=json.dumps(root.xpath('./SimpleAlertReport/@SourceReportingAlias'))[1:-1]\n",
    "        Alertgroupelementall = root.findall('.//SimpleAlertReport/AlertGroup/AlertGroupElement')\n",
    "\n",
    "        for Alertgroupelement in Alertgroupelementall:\n",
    "            for node in Alertgroupelement.getchildren():\n",
    "                if node.tag=='PSRSummary':\n",
    "                    PSR_ID1 = json.dumps(node.xpath('.//@ID')) #To eliminate Single quotes\n",
    "                    PSR_ID = PSR_ID1[1:-1]  #To remove Square brackets\n",
    "                    f.write(PSR_ID.replace('\"',''))\n",
    "                    f.write(chr(126))\n",
    "                    f.write(SiteID.replace('\"',''))\n",
    "                    f.write(chr(126))\n",
    "                    f.write(StartTime.replace('\"',''))\n",
    "                    f.write(chr(126))\n",
    "                    f.write(SourceReportingAlias.replace('\"',''))\n",
    "                    f.write(chr(126))\n",
    "                    f.write(\"PSRSummary\")\n",
    "                    f.write(chr(126))\n",
    "                    x=ET.tostring(node)\n",
    "                    f.write(json.dumps(xmltodict.parse(ET.tostring(node))))\n",
    "                    f.write(\"\\n\")\n",
    "                elif(node.tag=='MPPAlert'):\n",
    "                    MPP_ID1 = json.dumps(node.xpath('.//ID/text()')) \n",
    "                    MPP_ID = MPP_ID1[1:-1]  \n",
    "                    f.write(MPP_ID.replace('\"',''))\n",
    "                    f.write(chr(126))\n",
    "                    f.write(SiteID.replace('\"',''))\n",
    "                    f.write(chr(126))\n",
    "                    f.write(StartTime.replace('\"',''))\n",
    "                    f.write(chr(126))\n",
    "                    f.write(SourceReportingAlias.replace('\"',''))\n",
    "                    f.write(chr(126))\n",
    "                    f.write(\"MPPAlert\")\n",
    "                    f.write(chr(126))\n",
    "                    x=ET.tostring(node)\n",
    "                    f.write(json.dumps(xmltodict.parse(ET.tostring(node))))\n",
    "                    f.write(\"\\n\")\n",
    "    except Exception as e:\n",
    "        print('Exception occured:\\n'+str(e))\n",
    "        sys.exit()"
   ]
  },
  {
   "cell_type": "code",
   "execution_count": null,
   "metadata": {},
   "outputs": [],
   "source": [
    "print(XMLtoJSON_SDB('/Users/na250047/Downloads/TSA_CC_TEST/alerts_send_hp.xml'))"
   ]
  },
  {
   "cell_type": "code",
   "execution_count": null,
   "metadata": {},
   "outputs": [],
   "source": []
  }
 ],
 "metadata": {
  "kernelspec": {
   "display_name": "Python 3",
   "language": "python",
   "name": "python3"
  },
  "language_info": {
   "codemirror_mode": {
    "name": "ipython",
    "version": 3
   },
   "file_extension": ".py",
   "mimetype": "text/x-python",
   "name": "python",
   "nbconvert_exporter": "python",
   "pygments_lexer": "ipython3",
   "version": "3.7.6"
  }
 },
 "nbformat": 4,
 "nbformat_minor": 4
}
