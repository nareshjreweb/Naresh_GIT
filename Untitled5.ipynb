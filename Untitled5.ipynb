{
 "cells": [
  {
   "cell_type": "code",
   "execution_count": 3,
   "metadata": {},
   "outputs": [],
   "source": [
    "import warnings\n",
    "import pandas as pd\n",
    "import numpy as np"
   ]
  },
  {
   "cell_type": "code",
   "execution_count": 4,
   "metadata": {},
   "outputs": [
    {
     "data": {
      "text/html": [
       "<div>\n",
       "<style scoped>\n",
       "    .dataframe tbody tr th:only-of-type {\n",
       "        vertical-align: middle;\n",
       "    }\n",
       "\n",
       "    .dataframe tbody tr th {\n",
       "        vertical-align: top;\n",
       "    }\n",
       "\n",
       "    .dataframe thead th {\n",
       "        text-align: right;\n",
       "    }\n",
       "</style>\n",
       "<table border=\"1\" class=\"dataframe\">\n",
       "  <thead>\n",
       "    <tr style=\"text-align: right;\">\n",
       "      <th></th>\n",
       "      <th>First Name</th>\n",
       "      <th>Last Name</th>\n",
       "      <th>Manager ID</th>\n",
       "      <th>Job Title</th>\n",
       "      <th>Birth Year</th>\n",
       "      <th>Status</th>\n",
       "      <th>Hire Date</th>\n",
       "      <th>Employee ID</th>\n",
       "      <th>Email</th>\n",
       "      <th>Termination Date</th>\n",
       "      <th>...</th>\n",
       "      <th>Performance Perspective - Connections</th>\n",
       "      <th>Performance Perspective - Capability</th>\n",
       "      <th>Overall Rating</th>\n",
       "      <th>Ethnicity</th>\n",
       "      <th>Location Name</th>\n",
       "      <th>QLID</th>\n",
       "      <th>Virtual</th>\n",
       "      <th>Worker Type</th>\n",
       "      <th>Worker Sub Type</th>\n",
       "      <th>Personal Email Address</th>\n",
       "    </tr>\n",
       "  </thead>\n",
       "  <tbody>\n",
       "    <tr>\n",
       "      <th>0</th>\n",
       "      <td>Bill</td>\n",
       "      <td>Larson</td>\n",
       "      <td>1.010003e+10</td>\n",
       "      <td>Product Support Engineer V</td>\n",
       "      <td>1960.0</td>\n",
       "      <td>ACTIVE</td>\n",
       "      <td>1986/05/12</td>\n",
       "      <td>10100000369</td>\n",
       "      <td>Bill.Larson@Teradata.com</td>\n",
       "      <td>NaN</td>\n",
       "      <td>...</td>\n",
       "      <td>Achieved Expectations</td>\n",
       "      <td>Achieved Expectations</td>\n",
       "      <td>Achieved Expectations</td>\n",
       "      <td>White</td>\n",
       "      <td>LEXINGTON, SOUTH CAROLINA</td>\n",
       "      <td>BL132174</td>\n",
       "      <td>N</td>\n",
       "      <td>Employee</td>\n",
       "      <td>Regular</td>\n",
       "      <td>NaN</td>\n",
       "    </tr>\n",
       "    <tr>\n",
       "      <th>1</th>\n",
       "      <td>Doug</td>\n",
       "      <td>Brown</td>\n",
       "      <td>3.030011e+10</td>\n",
       "      <td>Engineering Fellow (I)</td>\n",
       "      <td>1959.0</td>\n",
       "      <td>ACTIVE</td>\n",
       "      <td>1992/12/28</td>\n",
       "      <td>10100000421</td>\n",
       "      <td>Doug.Brown@Teradata.com</td>\n",
       "      <td>NaN</td>\n",
       "      <td>...</td>\n",
       "      <td>Exceeded Expectations</td>\n",
       "      <td>Exceeded Expectations</td>\n",
       "      <td>Exceeded Expectations</td>\n",
       "      <td>White</td>\n",
       "      <td>SAN DIEGO-BLDG A-17095 VDC</td>\n",
       "      <td>DB120604</td>\n",
       "      <td>N</td>\n",
       "      <td>Employee</td>\n",
       "      <td>Regular</td>\n",
       "      <td>doug.brown@teradata.com</td>\n",
       "    </tr>\n",
       "    <tr>\n",
       "      <th>2</th>\n",
       "      <td>Wanda</td>\n",
       "      <td>Yao</td>\n",
       "      <td>1.010003e+10</td>\n",
       "      <td>Test Engineer</td>\n",
       "      <td>1954.0</td>\n",
       "      <td>ACTIVE</td>\n",
       "      <td>1995/02/13</td>\n",
       "      <td>10100000598</td>\n",
       "      <td>Wanda.Yao@Teradata.com</td>\n",
       "      <td>NaN</td>\n",
       "      <td>...</td>\n",
       "      <td>Achieved Expectations</td>\n",
       "      <td>Achieved Expectations</td>\n",
       "      <td>Achieved Expectations</td>\n",
       "      <td>Asian</td>\n",
       "      <td>EL SEGUNDO - NASH</td>\n",
       "      <td>WY122602</td>\n",
       "      <td>N</td>\n",
       "      <td>Employee</td>\n",
       "      <td>Regular</td>\n",
       "      <td>NaN</td>\n",
       "    </tr>\n",
       "    <tr>\n",
       "      <th>3</th>\n",
       "      <td>Hon</td>\n",
       "      <td>Lau</td>\n",
       "      <td>3.030013e+10</td>\n",
       "      <td>Sr Director, Software Engineering</td>\n",
       "      <td>1955.0</td>\n",
       "      <td>ACTIVE</td>\n",
       "      <td>1992/12/28</td>\n",
       "      <td>10100000647</td>\n",
       "      <td>Hon.Lau@Teradata.com</td>\n",
       "      <td>NaN</td>\n",
       "      <td>...</td>\n",
       "      <td>Improvement Needed to Meet Expectations</td>\n",
       "      <td>Achieved Expectations</td>\n",
       "      <td>Improvement Needed to Meet Expectations</td>\n",
       "      <td>Asian</td>\n",
       "      <td>EL SEGUNDO - NASH</td>\n",
       "      <td>HL121045</td>\n",
       "      <td>N</td>\n",
       "      <td>Employee</td>\n",
       "      <td>Regular</td>\n",
       "      <td>NaN</td>\n",
       "    </tr>\n",
       "    <tr>\n",
       "      <th>4</th>\n",
       "      <td>Robert</td>\n",
       "      <td>Joe</td>\n",
       "      <td>1.010000e+10</td>\n",
       "      <td>Product Support Engineer IV</td>\n",
       "      <td>1963.0</td>\n",
       "      <td>ACTIVE</td>\n",
       "      <td>2004/08/30</td>\n",
       "      <td>10100000702</td>\n",
       "      <td>Robert.Joe@Teradata.com</td>\n",
       "      <td>NaN</td>\n",
       "      <td>...</td>\n",
       "      <td>Exceeded Expectations</td>\n",
       "      <td>Exceeded Expectations</td>\n",
       "      <td>Exceeded Expectations</td>\n",
       "      <td>Asian</td>\n",
       "      <td>SAN DIEGO-BLDG A-17095 VDC</td>\n",
       "      <td>RJ185009</td>\n",
       "      <td>N</td>\n",
       "      <td>Employee</td>\n",
       "      <td>Regular</td>\n",
       "      <td>Robert.Joe@outlook.com</td>\n",
       "    </tr>\n",
       "  </tbody>\n",
       "</table>\n",
       "<p>5 rows × 31 columns</p>\n",
       "</div>"
      ],
      "text/plain": [
       "  First Name Last Name    Manager ID                          Job Title  \\\n",
       "0       Bill    Larson  1.010003e+10         Product Support Engineer V   \n",
       "1       Doug     Brown  3.030011e+10             Engineering Fellow (I)   \n",
       "2      Wanda       Yao  1.010003e+10                      Test Engineer   \n",
       "3        Hon       Lau  3.030013e+10  Sr Director, Software Engineering   \n",
       "4     Robert       Joe  1.010000e+10        Product Support Engineer IV   \n",
       "\n",
       "   Birth Year  Status   Hire Date  Employee ID                     Email  \\\n",
       "0      1960.0  ACTIVE  1986/05/12  10100000369  Bill.Larson@Teradata.com   \n",
       "1      1959.0  ACTIVE  1992/12/28  10100000421   Doug.Brown@Teradata.com   \n",
       "2      1954.0  ACTIVE  1995/02/13  10100000598    Wanda.Yao@Teradata.com   \n",
       "3      1955.0  ACTIVE  1992/12/28  10100000647      Hon.Lau@Teradata.com   \n",
       "4      1963.0  ACTIVE  2004/08/30  10100000702   Robert.Joe@Teradata.com   \n",
       "\n",
       "  Termination Date  ...    Performance Perspective - Connections  \\\n",
       "0              NaN  ...                    Achieved Expectations   \n",
       "1              NaN  ...                    Exceeded Expectations   \n",
       "2              NaN  ...                    Achieved Expectations   \n",
       "3              NaN  ...  Improvement Needed to Meet Expectations   \n",
       "4              NaN  ...                    Exceeded Expectations   \n",
       "\n",
       "  Performance Perspective - Capability  \\\n",
       "0                Achieved Expectations   \n",
       "1                Exceeded Expectations   \n",
       "2                Achieved Expectations   \n",
       "3                Achieved Expectations   \n",
       "4                Exceeded Expectations   \n",
       "\n",
       "                            Overall Rating Ethnicity  \\\n",
       "0                    Achieved Expectations     White   \n",
       "1                    Exceeded Expectations     White   \n",
       "2                    Achieved Expectations     Asian   \n",
       "3  Improvement Needed to Meet Expectations     Asian   \n",
       "4                    Exceeded Expectations     Asian   \n",
       "\n",
       "                Location Name      QLID Virtual Worker Type Worker Sub Type  \\\n",
       "0   LEXINGTON, SOUTH CAROLINA  BL132174       N    Employee         Regular   \n",
       "1  SAN DIEGO-BLDG A-17095 VDC  DB120604       N    Employee         Regular   \n",
       "2           EL SEGUNDO - NASH  WY122602       N    Employee         Regular   \n",
       "3           EL SEGUNDO - NASH  HL121045       N    Employee         Regular   \n",
       "4  SAN DIEGO-BLDG A-17095 VDC  RJ185009       N    Employee         Regular   \n",
       "\n",
       "    Personal Email Address  \n",
       "0                      NaN  \n",
       "1  doug.brown@teradata.com  \n",
       "2                      NaN  \n",
       "3                      NaN  \n",
       "4   Robert.Joe@outlook.com  \n",
       "\n",
       "[5 rows x 31 columns]"
      ]
     },
     "execution_count": 4,
     "metadata": {},
     "output_type": "execute_result"
    }
   ],
   "source": [
    "df_TD = pd.read_csv(\"Teradata-employee_UTF8.csv\")\n",
    "df_TD.head()"
   ]
  },
  {
   "cell_type": "code",
   "execution_count": 6,
   "metadata": {},
   "outputs": [
    {
     "data": {
      "text/plain": [
       "Noemail@teradata.com              18\n",
       "juxu@microstrategy.com             2\n",
       "Zsolt.Mautner3@Teradata.com        2\n",
       "Raja.Zafar@Teradata.com            1\n",
       "Fahad.Shakeel@Teradata.com         1\n",
       "                                  ..\n",
       "Kelly.Zhang@Teradata.com           1\n",
       "erik.canfield@teradata.com         1\n",
       "Nuria.Alonso@Teradata.com          1\n",
       "Rogerio.Fernandes@Teradata.com     1\n",
       "Nobuyuki.Yasuumi@Teradata.com      1\n",
       "Name: Email, Length: 9568, dtype: int64"
      ]
     },
     "execution_count": 6,
     "metadata": {},
     "output_type": "execute_result"
    }
   ],
   "source": [
    "df_TD.Email.value_counts()"
   ]
  },
  {
   "cell_type": "code",
   "execution_count": 1,
   "metadata": {},
   "outputs": [
    {
     "data": {
      "text/plain": [
       "0.6634204312890623"
      ]
     },
     "execution_count": 1,
     "metadata": {},
     "output_type": "execute_result"
    }
   ],
   "source": [
    "0.95**8"
   ]
  },
  {
   "cell_type": "code",
   "execution_count": 2,
   "metadata": {},
   "outputs": [
    {
     "data": {
      "text/plain": [
       "0.0025000000000000005"
      ]
     },
     "execution_count": 2,
     "metadata": {},
     "output_type": "execute_result"
    }
   ],
   "source": [
    "0.05**2"
   ]
  },
  {
   "cell_type": "code",
   "execution_count": 3,
   "metadata": {},
   "outputs": [
    {
     "data": {
      "text/plain": [
       "0.07463479852001952"
      ]
     },
     "execution_count": 3,
     "metadata": {},
     "output_type": "execute_result"
    }
   ],
   "source": [
    "45*0.6634204312890623*0.0025000000000000005"
   ]
  },
  {
   "cell_type": "code",
   "execution_count": 4,
   "metadata": {},
   "outputs": [
    {
     "data": {
      "text/plain": [
       "0.31512470486230454"
      ]
     },
     "execution_count": 4,
     "metadata": {},
     "output_type": "execute_result"
    }
   ],
   "source": [
    "(0.95**9)*0.05*10"
   ]
  },
  {
   "cell_type": "code",
   "execution_count": 5,
   "metadata": {},
   "outputs": [
    {
     "data": {
      "text/plain": [
       "0.5987369392383787"
      ]
     },
     "execution_count": 5,
     "metadata": {},
     "output_type": "execute_result"
    }
   ],
   "source": [
    "0.95**10\n"
   ]
  },
  {
   "cell_type": "code",
   "execution_count": 21,
   "metadata": {},
   "outputs": [
    {
     "data": {
      "text/plain": [
       "0.3205770882812499"
      ]
     },
     "execution_count": 21,
     "metadata": {},
     "output_type": "execute_result"
    }
   ],
   "source": [
    "0.85**7"
   ]
  },
  {
   "cell_type": "code",
   "execution_count": 13,
   "metadata": {},
   "outputs": [
    {
     "data": {
      "text/plain": [
       "0.016796159999999994"
      ]
     },
     "execution_count": 13,
     "metadata": {},
     "output_type": "execute_result"
    }
   ],
   "source": [
    "0.6**8"
   ]
  },
  {
   "cell_type": "code",
   "execution_count": 18,
   "metadata": {},
   "outputs": [
    {
     "data": {
      "text/plain": [
       "0.000547981281"
      ]
     },
     "execution_count": 18,
     "metadata": {},
     "output_type": "execute_result"
    }
   ],
   "source": [
    "0.153**4"
   ]
  },
  {
   "cell_type": "code",
   "execution_count": 19,
   "metadata": {},
   "outputs": [
    {
     "data": {
      "text/plain": [
       "0.36923296009284884"
      ]
     },
     "execution_count": 19,
     "metadata": {},
     "output_type": "execute_result"
    }
   ],
   "source": [
    "0.847**6"
   ]
  },
  {
   "cell_type": "code",
   "execution_count": 20,
   "metadata": {},
   "outputs": [
    {
     "data": {
      "text/plain": [
       "0.04248987759641124"
      ]
     },
     "execution_count": 20,
     "metadata": {},
     "output_type": "execute_result"
    }
   ],
   "source": [
    "0.000547981281*0.36923296009284884*210"
   ]
  },
  {
   "cell_type": "code",
   "execution_count": 22,
   "metadata": {},
   "outputs": [
    {
     "ename": "ModuleNotFoundError",
     "evalue": "No module named 'cx_Oracle'",
     "output_type": "error",
     "traceback": [
      "\u001b[0;31m---------------------------------------------------------------------------\u001b[0m",
      "\u001b[0;31mModuleNotFoundError\u001b[0m                       Traceback (most recent call last)",
      "\u001b[0;32m<ipython-input-22-fd6e7d35f4bc>\u001b[0m in \u001b[0;36m<module>\u001b[0;34m\u001b[0m\n\u001b[0;32m----> 1\u001b[0;31m \u001b[0;32mimport\u001b[0m \u001b[0mcx_Oracle\u001b[0m\u001b[0;34m\u001b[0m\u001b[0;34m\u001b[0m\u001b[0m\n\u001b[0m\u001b[1;32m      2\u001b[0m \u001b[0;32mimport\u001b[0m \u001b[0mconfigparser\u001b[0m\u001b[0;34m\u001b[0m\u001b[0;34m\u001b[0m\u001b[0m\n\u001b[1;32m      3\u001b[0m \u001b[0;34m\u001b[0m\u001b[0m\n\u001b[1;32m      4\u001b[0m \u001b[0;32mdef\u001b[0m \u001b[0mCall_SQLQuery\u001b[0m\u001b[0;34m(\u001b[0m\u001b[0mProc_name\u001b[0m\u001b[0;34m,\u001b[0m\u001b[0mProject_name\u001b[0m\u001b[0;34m,\u001b[0m\u001b[0mTask_Name\u001b[0m\u001b[0;34m)\u001b[0m\u001b[0;34m:\u001b[0m\u001b[0;34m\u001b[0m\u001b[0;34m\u001b[0m\u001b[0m\n\u001b[1;32m      5\u001b[0m     \u001b[0;32mtry\u001b[0m\u001b[0;34m:\u001b[0m\u001b[0;34m\u001b[0m\u001b[0;34m\u001b[0m\u001b[0m\n",
      "\u001b[0;31mModuleNotFoundError\u001b[0m: No module named 'cx_Oracle'"
     ]
    }
   ],
   "source": [
    "import cx_Oracle\n",
    "import configparser\n",
    "\n",
    "def Call_SQLQuery(Proc_name,Project_name,Task_Name):\n",
    "    try:\n",
    "        conf = configparser.ConfigParser()\n",
    "        conf.read('E:\\\\InformaticaTempFiles\\\\app_integration\\\\Config_Param\\\\config.ini')\n",
    "        print(conf.sections())\n",
    "        connection = cx_Oracle.connect(conf['Credentials']['Username'],conf['Credentials']['Password'],conf['Credentials']['Server'])\n",
    "        cursor = connection.cursor()\n",
    "        cursor.execute('truncate table simplifycss_abl_ext_softwareinstance')\n",
    "        cursor.close()\n",
    "        connection.close()\n",
    "    except Exception as error:\n",
    "        sys.exit('Exception occured:\\n'+str(error))"
   ]
  },
  {
   "cell_type": "code",
   "execution_count": 25,
   "metadata": {},
   "outputs": [
    {
     "data": {
      "text/plain": [
       "0.06533429836057053"
      ]
     },
     "execution_count": 25,
     "metadata": {},
     "output_type": "execute_result"
    }
   ],
   "source": [
    "(0.5**63)*173688356931669753989875128564649440*(0.5**58)"
   ]
  },
  {
   "cell_type": "code",
   "execution_count": 1,
   "metadata": {},
   "outputs": [],
   "source": [
    "import numpy as np"
   ]
  },
  {
   "cell_type": "code",
   "execution_count": 2,
   "metadata": {},
   "outputs": [],
   "source": [
    "td = np.array([1,2,3,])"
   ]
  },
  {
   "cell_type": "code",
   "execution_count": 3,
   "metadata": {},
   "outputs": [
    {
     "data": {
      "text/plain": [
       "3"
      ]
     },
     "execution_count": 3,
     "metadata": {},
     "output_type": "execute_result"
    }
   ],
   "source": [
    "td.size"
   ]
  },
  {
   "cell_type": "code",
   "execution_count": 8,
   "metadata": {},
   "outputs": [
    {
     "data": {
      "text/plain": [
       "numpy.ndarray"
      ]
     },
     "execution_count": 8,
     "metadata": {},
     "output_type": "execute_result"
    }
   ],
   "source": [
    "type(td)"
   ]
  },
  {
   "cell_type": "code",
   "execution_count": 9,
   "metadata": {},
   "outputs": [
    {
     "data": {
      "text/plain": [
       "1"
      ]
     },
     "execution_count": 9,
     "metadata": {},
     "output_type": "execute_result"
    }
   ],
   "source": [
    "td[0]"
   ]
  },
  {
   "cell_type": "code",
   "execution_count": 12,
   "metadata": {},
   "outputs": [
    {
     "data": {
      "text/plain": [
       "3"
      ]
     },
     "execution_count": 12,
     "metadata": {},
     "output_type": "execute_result"
    }
   ],
   "source": [
    "td.max()"
   ]
  },
  {
   "cell_type": "code",
   "execution_count": 14,
   "metadata": {},
   "outputs": [
    {
     "data": {
      "text/plain": [
       "array([3, 2, 1])"
      ]
     },
     "execution_count": 14,
     "metadata": {},
     "output_type": "execute_result"
    }
   ],
   "source": [
    "td[::-1]"
   ]
  },
  {
   "cell_type": "code",
   "execution_count": 16,
   "metadata": {},
   "outputs": [],
   "source": [
    "td_2d = np.array([[1,2,3,4,5],[6,7,8,9,10]])"
   ]
  },
  {
   "cell_type": "code",
   "execution_count": 17,
   "metadata": {},
   "outputs": [
    {
     "data": {
      "text/plain": [
       "numpy.ndarray"
      ]
     },
     "execution_count": 17,
     "metadata": {},
     "output_type": "execute_result"
    }
   ],
   "source": [
    "type(td_2d)"
   ]
  },
  {
   "cell_type": "code",
   "execution_count": 18,
   "metadata": {},
   "outputs": [
    {
     "data": {
      "text/plain": [
       "10"
      ]
     },
     "execution_count": 18,
     "metadata": {},
     "output_type": "execute_result"
    }
   ],
   "source": [
    "td_2d.size"
   ]
  },
  {
   "cell_type": "code",
   "execution_count": 25,
   "metadata": {},
   "outputs": [
    {
     "data": {
      "text/plain": [
       "1"
      ]
     },
     "execution_count": 25,
     "metadata": {},
     "output_type": "execute_result"
    }
   ],
   "source": [
    "td.ndim"
   ]
  },
  {
   "cell_type": "code",
   "execution_count": 30,
   "metadata": {},
   "outputs": [
    {
     "data": {
      "text/plain": [
       "array([[1, 2, 3],\n",
       "       [6, 7, 8]])"
      ]
     },
     "execution_count": 30,
     "metadata": {},
     "output_type": "execute_result"
    }
   ],
   "source": [
    "td_2d[:,:3]"
   ]
  },
  {
   "cell_type": "code",
   "execution_count": 36,
   "metadata": {},
   "outputs": [
    {
     "data": {
      "text/plain": [
       "array([[1],\n",
       "       [6]])"
      ]
     },
     "execution_count": 36,
     "metadata": {},
     "output_type": "execute_result"
    }
   ],
   "source": [
    "td_2d[:,0:1]"
   ]
  },
  {
   "cell_type": "code",
   "execution_count": 38,
   "metadata": {},
   "outputs": [],
   "source": [
    "np_a = np.array([[11, 12, 13, 14],\n",
    " [21, 22, 23, 24],\n",
    " [31, 32, 33, 34]])"
   ]
  },
  {
   "cell_type": "code",
   "execution_count": 39,
   "metadata": {},
   "outputs": [
    {
     "data": {
      "text/plain": [
       "array([[11, 12, 13, 14],\n",
       "       [21, 22, 23, 24],\n",
       "       [31, 32, 33, 34]])"
      ]
     },
     "execution_count": 39,
     "metadata": {},
     "output_type": "execute_result"
    }
   ],
   "source": [
    "np_a"
   ]
  },
  {
   "cell_type": "code",
   "execution_count": 40,
   "metadata": {},
   "outputs": [
    {
     "data": {
      "text/plain": [
       "array([11, 21, 31])"
      ]
     },
     "execution_count": 40,
     "metadata": {},
     "output_type": "execute_result"
    }
   ],
   "source": [
    "np_a[:,0]"
   ]
  },
  {
   "cell_type": "code",
   "execution_count": 41,
   "metadata": {},
   "outputs": [
    {
     "data": {
      "text/plain": [
       "array([11, 12, 13, 14])"
      ]
     },
     "execution_count": 41,
     "metadata": {},
     "output_type": "execute_result"
    }
   ],
   "source": [
    "np_a[0,:]"
   ]
  },
  {
   "cell_type": "code",
   "execution_count": 46,
   "metadata": {},
   "outputs": [
    {
     "data": {
      "text/plain": [
       "array([14, 24, 34])"
      ]
     },
     "execution_count": 46,
     "metadata": {},
     "output_type": "execute_result"
    }
   ],
   "source": [
    "np_a[:,-1]"
   ]
  },
  {
   "cell_type": "code",
   "execution_count": 48,
   "metadata": {},
   "outputs": [
    {
     "name": "stdout",
     "output_type": "stream",
     "text": [
      "[31 32 33 34]\n"
     ]
    }
   ],
   "source": [
    "print(np_a[-1,:])"
   ]
  },
  {
   "cell_type": "code",
   "execution_count": 61,
   "metadata": {},
   "outputs": [],
   "source": [
    "n=4\n",
    "t4 = np.ones((4,4),dtype='int64')"
   ]
  },
  {
   "cell_type": "code",
   "execution_count": 62,
   "metadata": {},
   "outputs": [
    {
     "data": {
      "text/plain": [
       "array([[1, 1, 1, 1],\n",
       "       [1, 1, 1, 1],\n",
       "       [1, 1, 1, 1],\n",
       "       [1, 1, 1, 1]])"
      ]
     },
     "execution_count": 62,
     "metadata": {},
     "output_type": "execute_result"
    }
   ],
   "source": [
    "t4"
   ]
  },
  {
   "cell_type": "code",
   "execution_count": 65,
   "metadata": {},
   "outputs": [],
   "source": [
    "t4[1:n-1,1:n-1]=0"
   ]
  },
  {
   "cell_type": "code",
   "execution_count": 66,
   "metadata": {},
   "outputs": [
    {
     "data": {
      "text/plain": [
       "array([[1, 1, 1, 1],\n",
       "       [1, 0, 0, 1],\n",
       "       [1, 0, 0, 1],\n",
       "       [1, 1, 1, 1]])"
      ]
     },
     "execution_count": 66,
     "metadata": {},
     "output_type": "execute_result"
    }
   ],
   "source": [
    "t4"
   ]
  },
  {
   "cell_type": "code",
   "execution_count": 67,
   "metadata": {},
   "outputs": [],
   "source": [
    "a = np.array([[4, 3, 1], [5, 7, 0], [9, 9, 3], [8, 2, 4]])"
   ]
  },
  {
   "cell_type": "code",
   "execution_count": 68,
   "metadata": {},
   "outputs": [],
   "source": [
    "import sys\n",
    "lines = sys.stdin.readlines()"
   ]
  },
  {
   "cell_type": "code",
   "execution_count": 80,
   "metadata": {},
   "outputs": [],
   "source": [
    "y=np.empty(5,dtype=\"int64\")"
   ]
  },
  {
   "cell_type": "code",
   "execution_count": 85,
   "metadata": {},
   "outputs": [
    {
     "name": "stdout",
     "output_type": "stream",
     "text": [
      "[1 2 3 4 5]\n"
     ]
    }
   ],
   "source": [
    "x = np.arange(1,6,dtype=\"int64\")\n",
    "print(x)"
   ]
  },
  {
   "cell_type": "code",
   "execution_count": 82,
   "metadata": {},
   "outputs": [
    {
     "data": {
      "text/plain": [
       "array([10, 20, 30, 40, 50])"
      ]
     },
     "execution_count": 82,
     "metadata": {},
     "output_type": "execute_result"
    }
   ],
   "source": [
    "np.multiply(x,10,out=y)"
   ]
  },
  {
   "cell_type": "code",
   "execution_count": 88,
   "metadata": {},
   "outputs": [],
   "source": [
    "np.add.accumulate(x)\n",
    "n = 4"
   ]
  },
  {
   "cell_type": "code",
   "execution_count": 89,
   "metadata": {},
   "outputs": [],
   "source": [
    "x= np.array([[0, 1], [1, 0]])"
   ]
  },
  {
   "cell_type": "code",
   "execution_count": 90,
   "metadata": {},
   "outputs": [],
   "source": [
    "check = np.tile(x,(n//2,n//2))"
   ]
  },
  {
   "cell_type": "code",
   "execution_count": 91,
   "metadata": {},
   "outputs": [
    {
     "data": {
      "text/plain": [
       "array([[0, 1, 0, 1],\n",
       "       [1, 0, 1, 0],\n",
       "       [0, 1, 0, 1],\n",
       "       [1, 0, 1, 0]])"
      ]
     },
     "execution_count": 91,
     "metadata": {},
     "output_type": "execute_result"
    }
   ],
   "source": [
    "check"
   ]
  },
  {
   "cell_type": "code",
   "execution_count": 95,
   "metadata": {},
   "outputs": [],
   "source": [
    "aar1 = np.arange(5)\n",
    "aar2 = np.arange(5,10)"
   ]
  },
  {
   "cell_type": "code",
   "execution_count": 100,
   "metadata": {},
   "outputs": [
    {
     "data": {
      "text/plain": [
       "array([0, 1, 2, 3, 4, 5, 6, 7, 8, 9])"
      ]
     },
     "execution_count": 100,
     "metadata": {},
     "output_type": "execute_result"
    }
   ],
   "source": [
    "np.hstack((aar1,aar2))"
   ]
  },
  {
   "cell_type": "code",
   "execution_count": 101,
   "metadata": {},
   "outputs": [
    {
     "data": {
      "text/plain": [
       "array([[0, 1, 2, 3, 4],\n",
       "       [5, 6, 7, 8, 9]])"
      ]
     },
     "execution_count": 101,
     "metadata": {},
     "output_type": "execute_result"
    }
   ],
   "source": [
    "np.vstack((aar1,aar2))"
   ]
  },
  {
   "cell_type": "code",
   "execution_count": 102,
   "metadata": {},
   "outputs": [
    {
     "data": {
      "text/plain": [
       "(8, 3)"
      ]
     },
     "execution_count": 102,
     "metadata": {},
     "output_type": "execute_result"
    }
   ],
   "source": [
    "np.unravel_index(99,(11,12))"
   ]
  },
  {
   "cell_type": "code",
   "execution_count": 103,
   "metadata": {},
   "outputs": [],
   "source": [
    "t1 = np.array([[[7, 13, 14], [18, 10, 17], [11, 12, 19]], [16, 6, 1], [[5, 8, 4, 3]]])"
   ]
  },
  {
   "cell_type": "code",
   "execution_count": 137,
   "metadata": {},
   "outputs": [],
   "source": [
    "input_list = [[[7, 13, 14], [18, 10, 17], [11, 12, 19]], [16, 6, 1], [[5, 8, 4, 3]]]"
   ]
  },
  {
   "cell_type": "code",
   "execution_count": 138,
   "metadata": {},
   "outputs": [],
   "source": [
    "list_3 = input_list[2]\n",
    "list_1 = input_list[0]\n",
    "list_2 = input_list[1]"
   ]
  },
  {
   "cell_type": "code",
   "execution_count": 139,
   "metadata": {},
   "outputs": [
    {
     "name": "stdout",
     "output_type": "stream",
     "text": [
      "[[ 7 13 14]\n",
      " [18 10 17]\n",
      " [11 12 19]]\n"
     ]
    }
   ],
   "source": [
    "np_1 = np.array(list_1)\n",
    "print(np_1)"
   ]
  },
  {
   "cell_type": "code",
   "execution_count": 140,
   "metadata": {},
   "outputs": [
    {
     "name": "stdout",
     "output_type": "stream",
     "text": [
      "[16  6  1]\n"
     ]
    }
   ],
   "source": [
    "np_2 = np.array(list_2)\n",
    "print(np_2)"
   ]
  },
  {
   "cell_type": "code",
   "execution_count": 141,
   "metadata": {},
   "outputs": [],
   "source": [
    "np_3 = np.transpose(np.array(list_3))"
   ]
  },
  {
   "cell_type": "code",
   "execution_count": 142,
   "metadata": {},
   "outputs": [],
   "source": [
    "np_4 = np.vstack((np_1,np_2))"
   ]
  },
  {
   "cell_type": "code",
   "execution_count": 143,
   "metadata": {},
   "outputs": [
    {
     "data": {
      "text/plain": [
       "array([[ 7, 13, 14],\n",
       "       [18, 10, 17],\n",
       "       [11, 12, 19],\n",
       "       [16,  6,  1]])"
      ]
     },
     "execution_count": 143,
     "metadata": {},
     "output_type": "execute_result"
    }
   ],
   "source": [
    "np_4"
   ]
  },
  {
   "cell_type": "code",
   "execution_count": 144,
   "metadata": {},
   "outputs": [
    {
     "name": "stdout",
     "output_type": "stream",
     "text": [
      "[[ 7 13 14  5]\n",
      " [18 10 17  8]\n",
      " [11 12 19  4]\n",
      " [16  6  1  3]]\n"
     ]
    }
   ],
   "source": [
    "final_array = np.hstack((np_4,np_3))\n",
    "print(final_array)"
   ]
  },
  {
   "cell_type": "code",
   "execution_count": 147,
   "metadata": {},
   "outputs": [],
   "source": [
    "import matplotlib.pyplot as plt\n",
    "import pandas as pd\n",
    "\n",
    "n = 4\n",
    "\n",
    "data = np.array(list(map(lambda x:x**2,range(1,n+1))))"
   ]
  },
  {
   "cell_type": "code",
   "execution_count": 148,
   "metadata": {},
   "outputs": [
    {
     "data": {
      "text/plain": [
       "array([ 1,  4,  9, 16])"
      ]
     },
     "execution_count": 148,
     "metadata": {},
     "output_type": "execute_result"
    }
   ],
   "source": [
    "data"
   ]
  },
  {
   "cell_type": "code",
   "execution_count": 149,
   "metadata": {},
   "outputs": [],
   "source": [
    "l = [x for x in range(1,n+1)]"
   ]
  },
  {
   "cell_type": "code",
   "execution_count": 150,
   "metadata": {},
   "outputs": [
    {
     "data": {
      "text/plain": [
       "1     1\n",
       "2     4\n",
       "3     9\n",
       "4    16\n",
       "dtype: int64"
      ]
     },
     "execution_count": 150,
     "metadata": {},
     "output_type": "execute_result"
    }
   ],
   "source": [
    "ser = pd.Series(data, index=l)\n",
    "ser"
   ]
  },
  {
   "cell_type": "code",
   "execution_count": 152,
   "metadata": {},
   "outputs": [
    {
     "ename": "IndentationError",
     "evalue": "unindent does not match any outer indentation level (<tokenize>, line 3)",
     "output_type": "error",
     "traceback": [
      "\u001b[0;36m  File \u001b[0;32m\"<tokenize>\"\u001b[0;36m, line \u001b[0;32m3\u001b[0m\n\u001b[0;31m    print(my_func(1,2,3,5))\u001b[0m\n\u001b[0m    ^\u001b[0m\n\u001b[0;31mIndentationError\u001b[0m\u001b[0;31m:\u001b[0m unindent does not match any outer indentation level\n"
     ]
    }
   ],
   "source": [
    "def my_func(*args):\n",
    "    return(sum(args))\n",
    " print(my_func(1,2,3,5))\n",
    "print(my_func(6,7,8))"
   ]
  },
  {
   "cell_type": "code",
   "execution_count": 154,
   "metadata": {},
   "outputs": [
    {
     "name": "stdout",
     "output_type": "stream",
     "text": [
      "Aba cnc dnd \n"
     ]
    }
   ],
   "source": [
    "t = \"aba cnc dnd \"\n",
    "print(t.())"
   ]
  },
  {
   "cell_type": "code",
   "execution_count": 157,
   "metadata": {},
   "outputs": [
    {
     "name": "stdout",
     "output_type": "stream",
     "text": [
      "5\n",
      "    *\n",
      "   *_*\n",
      "  *_*_*\n",
      " *_*_*_*\n",
      "*_*_*_*_*\n"
     ]
    }
   ],
   "source": [
    "m=myNum = int(input())\n",
    "\n",
    "for i in range(1,myNum+1):\n",
    "    for j in range(myNum-i):\n",
    "        print(\" \",end=\"\")\n",
    "    for k in range(i-1):\n",
    "        print(\"*_\",end=\"\")\n",
    "    print(\"*\")"
   ]
  },
  {
   "cell_type": "code",
   "execution_count": 160,
   "metadata": {},
   "outputs": [
    {
     "name": "stdout",
     "output_type": "stream",
     "text": [
      "5\n",
      "    *\n",
      "   *_*\n",
      "  *_*_*\n",
      " *_*_*_*\n",
      "*_*_*_*_*\n"
     ]
    }
   ],
   "source": [
    "m=myNum = int(input())\n",
    "for i in range(1,myNum+1):\n",
    "    for j in range(myNum-i):\n",
    "        print(\" \",end=\"\")\n",
    "    for k in range(i-1):\n",
    "        print(\"*_\",end=\"\")\n",
    "    print(\"*\")"
   ]
  },
  {
   "cell_type": "code",
   "execution_count": 161,
   "metadata": {},
   "outputs": [
    {
     "name": "stdout",
     "output_type": "stream",
     "text": [
      "5\n",
      "--------e--------\n",
      "------e-d-e------\n",
      "----e-d-c-d-e----\n",
      "--e-d-c-b-c-d-e--\n",
      "e-d-c-b-a-b-c-d-e\n",
      "--e-d-c-b-c-d-e--\n",
      "----e-d-c-d-e----\n",
      "------e-d-e------\n",
      "--------e--------\n"
     ]
    }
   ],
   "source": [
    "n = int(input())\n",
    "l_1 =[]\n",
    "for i in range(n,0,-1):\n",
    "    #print(\"\")\n",
    "    testStr = \"\"\n",
    "    for j in range(n,i-1,-1):\n",
    "        testStr =testStr + str(chr(j+96))+\"-\"\n",
    "    l_1.append(testStr)\n",
    "\n",
    "for i in range(1,n):\n",
    "    for j in range(n-i+1,n+1):\n",
    "        l_1[i] = l_1[i]+str(chr(j+96))+\"-\"\n",
    "\n",
    "\n",
    "for t in range(n-2,-1,-1):\n",
    "    l_1.append(l_1[t])\n",
    "\n",
    "maxdashLength = (4*(n-1))+1\n",
    "for n in l_1:\n",
    "    len_of_dash = int((maxdashLength - len(n[0:-1]))/2)\n",
    "    for i in range(0,len_of_dash):\n",
    "        print(\"-\",end=\"\")\n",
    "    print(n[0:-1],end=\"\")\n",
    "    for i in range(0,len_of_dash):\n",
    "        print(\"-\",end=\"\")\n",
    "    print(\"\")"
   ]
  },
  {
   "cell_type": "code",
   "execution_count": 167,
   "metadata": {},
   "outputs": [
    {
     "name": "stdout",
     "output_type": "stream",
     "text": [
      "5\n",
      "0\n",
      "1\n",
      "1\n",
      "2\n",
      "3\n"
     ]
    }
   ],
   "source": [
    "nterms = int(input())\n",
    "n1, n2 = 0, 1\n",
    "count = 0\n",
    "\n",
    "# check if the number of terms is valid\n",
    "if nterms <= 0:\n",
    "   print(\"Please enter a positive integer\")\n",
    "elif nterms == 1:\n",
    "   print(n1)\n",
    "else:\n",
    "   while count < nterms:\n",
    "       print(n1)\n",
    "       nth = n1 + n2\n",
    "       # update values\n",
    "       n1 = n2\n",
    "       n2 = nth\n",
    "       count += 1"
   ]
  },
  {
   "cell_type": "code",
   "execution_count": 165,
   "metadata": {},
   "outputs": [
    {
     "name": "stdout",
     "output_type": "stream",
     "text": [
      "['e-', 'e-d-', 'e-d-c-', 'e-d-c-b-', 'e-d-c-b-a-']\n"
     ]
    }
   ],
   "source": [
    "n=5\n",
    "l_1 =[]\n",
    "for i in range(n,0,-1):\n",
    "    #print(\"\")\n",
    "    testStr = \"\"\n",
    "    for j in range(n,i-1,-1):\n",
    "        testStr =testStr + str(chr(j+96))+\"-\"\n",
    "    l_1.append(testStr)\n",
    "print(l_1)"
   ]
  },
  {
   "cell_type": "code",
   "execution_count": 166,
   "metadata": {},
   "outputs": [
    {
     "name": "stdout",
     "output_type": "stream",
     "text": [
      "5\n",
      "0\n",
      "1\n",
      "1\n",
      "2\n",
      "3\n"
     ]
    }
   ],
   "source": [
    "nterms = int(input())\n",
    "n1,n2=0,1\n",
    "count=0\n",
    "\n",
    "if nterms<=0:\n",
    "    print('')\n",
    "elif nterms == 1:\n",
    "    print(n1)\n",
    "else:\n",
    "    while count<nterms:\n",
    "        print(n1)\n",
    "        nth = n1+n2\n",
    "        n1=n2\n",
    "        n2=nth\n",
    "        count+=1\n",
    "\n"
   ]
  },
  {
   "cell_type": "code",
   "execution_count": 168,
   "metadata": {},
   "outputs": [
    {
     "name": "stdout",
     "output_type": "stream",
     "text": [
      "4\n",
      "5\n"
     ]
    }
   ],
   "source": [
    "n=int(input())#find the sum of primes from 2 to n \n",
    "\n",
    "def isPrime(n) : \n",
    "  \n",
    "    # Corner cases \n",
    "    if (n <= 1) : \n",
    "        return False\n",
    "    if (n <= 3) : \n",
    "        return True\n",
    "  \n",
    "    # This is checked so that we can skip  \n",
    "    # middle five numbers in below loop \n",
    "    if (n % 2 == 0 or n % 3 == 0) : \n",
    "        return False\n",
    "  \n",
    "    i = 5\n",
    "    while(i * i <= n) : \n",
    "        if (n % i == 0 or n % (i + 2) == 0) : \n",
    "            return False\n",
    "        i = i + 6\n",
    "  \n",
    "    return True\n",
    "\n",
    "sum = 0\n",
    "for i in range(2,n+1):\n",
    "    if(isPrime(i)):\n",
    "        sum+=i\n",
    "\n",
    "print(sum)"
   ]
  },
  {
   "cell_type": "code",
   "execution_count": 173,
   "metadata": {},
   "outputs": [],
   "source": [
    "import numpy as np\n",
    "as1 = np.array([1,2,3,4,5,6,7,8,9]).reshape(3,3)"
   ]
  },
  {
   "cell_type": "code",
   "execution_count": 176,
   "metadata": {},
   "outputs": [
    {
     "name": "stdout",
     "output_type": "stream",
     "text": [
      "[1, 2, 3]\n",
      "[4, 5, 6]\n",
      "[7, 8, 9]\n"
     ]
    }
   ],
   "source": [
    "for i in as1.tolist():\n",
    "    print(i)"
   ]
  },
  {
   "cell_type": "code",
   "execution_count": 178,
   "metadata": {},
   "outputs": [
    {
     "name": "stdout",
     "output_type": "stream",
     "text": [
      "4\n",
      "7\n",
      "[[0, 0, 0, 0, 0, 0, 0], [0, 0, 0, 0, 0, 0, 0], [0, 0, 0, 0, 0, 0, 0], [0, 0, 0, 0, 0, 0, 0], [0, 0, 0, 0, 0, 0, 0], [0, 0, 0, 0, 0, 0, 0], [0, 0, 0, 0, 0, 0, 0]]\n",
      "4444444\n",
      "4333334\n",
      "4322234\n",
      "4321234\n",
      "4322234\n",
      "4333334\n",
      "4444444\n"
     ]
    }
   ],
   "source": [
    "#input n taken here\n",
    "#n=int(input())\n",
    "\n",
    "#we will make a list of lists with just [1] in it. We will run a for loop from i= 2 to n and in each iteration\n",
    "#we will add [i]*(2i-3) in top of the list and and in bottom\n",
    "#then add i on both sides of all sub_lists \n",
    "def printPattern(n): \n",
    "  \n",
    "    arraySize = n * 2 - 1; \n",
    "    print(arraySize)\n",
    "    result = [[0 for x in range(arraySize)]  \n",
    "                 for y in range(arraySize)]; \n",
    "    print(result)\n",
    "          \n",
    "    # Fill the values \n",
    "    for i in range(arraySize): \n",
    "        for j in range(arraySize): \n",
    "            if(abs(i - (arraySize // 2)) >  \n",
    "               abs(j - (arraySize // 2))): \n",
    "                result[i][j] = abs(i - (arraySize // 2)) + 1; \n",
    "            else: \n",
    "                result[i][j] = abs(j - (arraySize // 2)) + 1; \n",
    "              \n",
    "    # Print the array \n",
    "    for i in range(arraySize): \n",
    "        for j in range(arraySize): \n",
    "            print(result[i][j], end = \"\"); \n",
    "        print(\"\"); \n",
    "  \n",
    "# Driver Code \n",
    "n = int(input()); \n",
    "  \n",
    "printPattern(n); "
   ]
  },
  {
   "cell_type": "code",
   "execution_count": 179,
   "metadata": {},
   "outputs": [
    {
     "name": "stdout",
     "output_type": "stream",
     "text": [
      "hseraN\n"
     ]
    }
   ],
   "source": [
    "s = \"Naresh\"\n",
    "print(s[::-1])"
   ]
  },
  {
   "cell_type": "code",
   "execution_count": 183,
   "metadata": {},
   "outputs": [
    {
     "name": "stdout",
     "output_type": "stream",
     "text": [
      "3\n",
      "33\n",
      "333\n",
      "369\n"
     ]
    }
   ],
   "source": [
    "n=3\n",
    "#start writing your code form here\n",
    "answer=0\n",
    "\n",
    "for i in range(1,n+1):\n",
    "\n",
    "    num=''\n",
    "    for j in range(i):\n",
    "        num=num+str(n)\n",
    "    num=int(num)\n",
    "    print(num)\n",
    "    answer=answer+num\n",
    "\n",
    "print(answer)"
   ]
  },
  {
   "cell_type": "code",
   "execution_count": null,
   "metadata": {},
   "outputs": [],
   "source": [
    "#take input\n",
    "inp=input()\n",
    "\n",
    "stack=[]\n",
    "for i in inp:\n",
    "    if(len(stack)==0):\n",
    "        stack.append(i)\n",
    "    else:\n",
    "        if i==')' and stack[-1]=='(':\n",
    "            stack.pop()\n",
    "        elif i==']' and stack[-1]=='[':\n",
    "            stack.pop()\n",
    "        elif i=='}' and stack[-1]=='{':\n",
    "            stack.pop()\n",
    "        else:\n",
    "            stack.append(i)\n",
    "if stack:\n",
    "    print('No')\n",
    "else:\n",
    "    print('Yes')\n",
    "\n"
   ]
  },
  {
   "cell_type": "code",
   "execution_count": 5,
   "metadata": {},
   "outputs": [
    {
     "name": "stdout",
     "output_type": "stream",
     "text": [
      "6\n",
      "7\n",
      "8\n",
      "9\n"
     ]
    }
   ],
   "source": [
    "from functools import reduce\n",
    "l = [1,2,3,4,5,6,7,8,9]\n",
    "\n",
    "sum_val = reduce(lambda x,y:x+y,l)\n",
    "t= sum_val/len(l)\n",
    "\n",
    "for i in l:\n",
    "    if i>t:\n",
    "        print(i)"
   ]
  },
  {
   "cell_type": "code",
   "execution_count": 51,
   "metadata": {},
   "outputs": [],
   "source": [
    "import numpy as np\n",
    "import pandas as pd\n",
    "n=5\n",
    "np_t = np.zeros((n,n), dtype=\"int64\")"
   ]
  },
  {
   "cell_type": "code",
   "execution_count": 52,
   "metadata": {},
   "outputs": [
    {
     "name": "stdout",
     "output_type": "stream",
     "text": [
      "[[0 0 0 0 0]\n",
      " [0 0 0 0 0]\n",
      " [0 0 0 0 0]\n",
      " [0 0 0 0 0]\n",
      " [0 0 0 0 0]]\n"
     ]
    }
   ],
   "source": [
    "print(np_t)\n"
   ]
  },
  {
   "cell_type": "code",
   "execution_count": 53,
   "metadata": {},
   "outputs": [
    {
     "name": "stdout",
     "output_type": "stream",
     "text": [
      "[[1 0 0 0 1]\n",
      " [0 1 0 1 0]\n",
      " [0 0 1 0 0]\n",
      " [0 1 0 1 0]\n",
      " [1 0 0 0 1]]\n"
     ]
    }
   ],
   "source": [
    "\n",
    "for i in range(0,5):\n",
    "    np_t[i,i]=1\n",
    "    np_t[n-1-i,i]=1\n",
    "    \n",
    "\n",
    "\n",
    "\n",
    "print(np_t)"
   ]
  },
  {
   "cell_type": "code",
   "execution_count": 54,
   "metadata": {},
   "outputs": [],
   "source": [
    "t1= np_t.tolist()"
   ]
  },
  {
   "cell_type": "code",
   "execution_count": 55,
   "metadata": {},
   "outputs": [
    {
     "name": "stdout",
     "output_type": "stream",
     "text": [
      "[1, 0, 0, 0, 1]\n",
      "[0, 1, 0, 1, 0]\n",
      "[0, 0, 1, 0, 0]\n",
      "[0, 1, 0, 1, 0]\n",
      "[1, 0, 0, 0, 1]\n"
     ]
    }
   ],
   "source": [
    "for i in t1:\n",
    "    print(i)"
   ]
  },
  {
   "cell_type": "code",
   "execution_count": 23,
   "metadata": {},
   "outputs": [],
   "source": [
    "np_t[0:0,0:0]=1"
   ]
  },
  {
   "cell_type": "code",
   "execution_count": 26,
   "metadata": {},
   "outputs": [],
   "source": [
    "np_t[0,0]=1"
   ]
  },
  {
   "cell_type": "code",
   "execution_count": 27,
   "metadata": {},
   "outputs": [
    {
     "data": {
      "text/plain": [
       "array([[1, 0, 0],\n",
       "       [0, 1, 0],\n",
       "       [0, 0, 0]])"
      ]
     },
     "execution_count": 27,
     "metadata": {},
     "output_type": "execute_result"
    }
   ],
   "source": [
    "np_t"
   ]
  },
  {
   "cell_type": "code",
   "execution_count": 2,
   "metadata": {},
   "outputs": [
    {
     "name": "stdout",
     "output_type": "stream",
     "text": [
      "[0, 2, 3, 4, 6, 7]\n"
     ]
    }
   ],
   "source": [
    "#function to sort the list based on insertion sort.\n",
    "#for insertion sort, we will take the first value in the list as sorted and rest as unsorted\n",
    "#then will compare each of the values in sequence\n",
    "\n",
    "def insertionSort(list_a):\n",
    "    #taking out the first value and using the rest for checking the sort.\n",
    "    indexing_length = range(1,len(list_a))\n",
    "    for i in indexing_length:\n",
    "        value_to_sort = list_a[i]\n",
    "        \n",
    "        while list_a[i-1]>value_to_sort and i>0:\n",
    "            list_a[i],list_a[i-1]=list_a[i-1],list_a[i]\n",
    "            i = i-1\n",
    "            \n",
    "    return list_a\n",
    "\n",
    "print(insertionSort([4,3,6,2,7,0]))\n",
    "        \n",
    "            "
   ]
  },
  {
   "cell_type": "code",
   "execution_count": 19,
   "metadata": {},
   "outputs": [
    {
     "data": {
      "text/plain": [
       "'No'"
      ]
     },
     "execution_count": 19,
     "metadata": {},
     "output_type": "execute_result"
    }
   ],
   "source": [
    "l = [1,1,2,3,4,6]\n",
    "\n",
    "def checkIncreasingList(l):\n",
    "    for i in range(0,len(l)):\n",
    "       \n",
    "        if(i<len(l)-1 and l[i]>=l[i+1]):\n",
    "            return 'No'\n",
    "    return 'Yes'\n",
    "\n",
    "checkIncreasingList(l)"
   ]
  },
  {
   "cell_type": "code",
   "execution_count": 24,
   "metadata": {},
   "outputs": [
    {
     "name": "stdout",
     "output_type": "stream",
     "text": [
      "28\n"
     ]
    }
   ],
   "source": [
    "t = 1234567\n",
    "i = str(t)\n",
    "f = 0\n",
    "for a in range(0,len(str(t))):\n",
    "    f+=int(i[a])\n",
    "if f%2==0:\n",
    "    print('even')\n",
    "else:\n",
    "    print('o')"
   ]
  },
  {
   "cell_type": "code",
   "execution_count": 26,
   "metadata": {},
   "outputs": [
    {
     "name": "stderr",
     "output_type": "stream",
     "text": [
      "/Users/na250047/opt/anaconda3/lib/python3.7/site-packages/urllib3/connectionpool.py:1004: InsecureRequestWarning: Unverified HTTPS request is being made to host 'teradatacsstage.service-now.com'. Adding certificate verification is strongly advised. See: https://urllib3.readthedocs.io/en/latest/advanced-usage.html#ssl-warnings\n",
      "  InsecureRequestWarning,\n"
     ]
    },
    {
     "ename": "JSONDecodeError",
     "evalue": "Expecting value: line 1 column 1 (char 0)",
     "output_type": "error",
     "traceback": [
      "\u001b[0;31m---------------------------------------------------------------------------\u001b[0m",
      "\u001b[0;31mJSONDecodeError\u001b[0m                           Traceback (most recent call last)",
      "\u001b[0;32m<ipython-input-26-2c0f3b00f4cb>\u001b[0m in \u001b[0;36m<module>\u001b[0;34m\u001b[0m\n\u001b[1;32m     22\u001b[0m \u001b[0;34m\u001b[0m\u001b[0m\n\u001b[1;32m     23\u001b[0m \u001b[0;31m# Decode the JSON response into a dictionary and use the data\u001b[0m\u001b[0;34m\u001b[0m\u001b[0;34m\u001b[0m\u001b[0;34m\u001b[0m\u001b[0m\n\u001b[0;32m---> 24\u001b[0;31m \u001b[0mdata\u001b[0m \u001b[0;34m=\u001b[0m \u001b[0mresponse\u001b[0m\u001b[0;34m.\u001b[0m\u001b[0mjson\u001b[0m\u001b[0;34m(\u001b[0m\u001b[0;34m)\u001b[0m\u001b[0;34m\u001b[0m\u001b[0;34m\u001b[0m\u001b[0m\n\u001b[0m\u001b[1;32m     25\u001b[0m \u001b[0mprint\u001b[0m\u001b[0;34m(\u001b[0m\u001b[0mdata\u001b[0m\u001b[0;34m)\u001b[0m\u001b[0;34m\u001b[0m\u001b[0;34m\u001b[0m\u001b[0m\n",
      "\u001b[0;32m~/opt/anaconda3/lib/python3.7/site-packages/requests/models.py\u001b[0m in \u001b[0;36mjson\u001b[0;34m(self, **kwargs)\u001b[0m\n\u001b[1;32m    895\u001b[0m                     \u001b[0;31m# used.\u001b[0m\u001b[0;34m\u001b[0m\u001b[0;34m\u001b[0m\u001b[0;34m\u001b[0m\u001b[0m\n\u001b[1;32m    896\u001b[0m                     \u001b[0;32mpass\u001b[0m\u001b[0;34m\u001b[0m\u001b[0;34m\u001b[0m\u001b[0m\n\u001b[0;32m--> 897\u001b[0;31m         \u001b[0;32mreturn\u001b[0m \u001b[0mcomplexjson\u001b[0m\u001b[0;34m.\u001b[0m\u001b[0mloads\u001b[0m\u001b[0;34m(\u001b[0m\u001b[0mself\u001b[0m\u001b[0;34m.\u001b[0m\u001b[0mtext\u001b[0m\u001b[0;34m,\u001b[0m \u001b[0;34m**\u001b[0m\u001b[0mkwargs\u001b[0m\u001b[0;34m)\u001b[0m\u001b[0;34m\u001b[0m\u001b[0;34m\u001b[0m\u001b[0m\n\u001b[0m\u001b[1;32m    898\u001b[0m \u001b[0;34m\u001b[0m\u001b[0m\n\u001b[1;32m    899\u001b[0m     \u001b[0;34m@\u001b[0m\u001b[0mproperty\u001b[0m\u001b[0;34m\u001b[0m\u001b[0;34m\u001b[0m\u001b[0m\n",
      "\u001b[0;32m~/opt/anaconda3/lib/python3.7/json/__init__.py\u001b[0m in \u001b[0;36mloads\u001b[0;34m(s, encoding, cls, object_hook, parse_float, parse_int, parse_constant, object_pairs_hook, **kw)\u001b[0m\n\u001b[1;32m    346\u001b[0m             \u001b[0mparse_int\u001b[0m \u001b[0;32mis\u001b[0m \u001b[0;32mNone\u001b[0m \u001b[0;32mand\u001b[0m \u001b[0mparse_float\u001b[0m \u001b[0;32mis\u001b[0m \u001b[0;32mNone\u001b[0m \u001b[0;32mand\u001b[0m\u001b[0;34m\u001b[0m\u001b[0;34m\u001b[0m\u001b[0m\n\u001b[1;32m    347\u001b[0m             parse_constant is None and object_pairs_hook is None and not kw):\n\u001b[0;32m--> 348\u001b[0;31m         \u001b[0;32mreturn\u001b[0m \u001b[0m_default_decoder\u001b[0m\u001b[0;34m.\u001b[0m\u001b[0mdecode\u001b[0m\u001b[0;34m(\u001b[0m\u001b[0ms\u001b[0m\u001b[0;34m)\u001b[0m\u001b[0;34m\u001b[0m\u001b[0;34m\u001b[0m\u001b[0m\n\u001b[0m\u001b[1;32m    349\u001b[0m     \u001b[0;32mif\u001b[0m \u001b[0mcls\u001b[0m \u001b[0;32mis\u001b[0m \u001b[0;32mNone\u001b[0m\u001b[0;34m:\u001b[0m\u001b[0;34m\u001b[0m\u001b[0;34m\u001b[0m\u001b[0m\n\u001b[1;32m    350\u001b[0m         \u001b[0mcls\u001b[0m \u001b[0;34m=\u001b[0m \u001b[0mJSONDecoder\u001b[0m\u001b[0;34m\u001b[0m\u001b[0;34m\u001b[0m\u001b[0m\n",
      "\u001b[0;32m~/opt/anaconda3/lib/python3.7/json/decoder.py\u001b[0m in \u001b[0;36mdecode\u001b[0;34m(self, s, _w)\u001b[0m\n\u001b[1;32m    335\u001b[0m \u001b[0;34m\u001b[0m\u001b[0m\n\u001b[1;32m    336\u001b[0m         \"\"\"\n\u001b[0;32m--> 337\u001b[0;31m         \u001b[0mobj\u001b[0m\u001b[0;34m,\u001b[0m \u001b[0mend\u001b[0m \u001b[0;34m=\u001b[0m \u001b[0mself\u001b[0m\u001b[0;34m.\u001b[0m\u001b[0mraw_decode\u001b[0m\u001b[0;34m(\u001b[0m\u001b[0ms\u001b[0m\u001b[0;34m,\u001b[0m \u001b[0midx\u001b[0m\u001b[0;34m=\u001b[0m\u001b[0m_w\u001b[0m\u001b[0;34m(\u001b[0m\u001b[0ms\u001b[0m\u001b[0;34m,\u001b[0m \u001b[0;36m0\u001b[0m\u001b[0;34m)\u001b[0m\u001b[0;34m.\u001b[0m\u001b[0mend\u001b[0m\u001b[0;34m(\u001b[0m\u001b[0;34m)\u001b[0m\u001b[0;34m)\u001b[0m\u001b[0;34m\u001b[0m\u001b[0;34m\u001b[0m\u001b[0m\n\u001b[0m\u001b[1;32m    338\u001b[0m         \u001b[0mend\u001b[0m \u001b[0;34m=\u001b[0m \u001b[0m_w\u001b[0m\u001b[0;34m(\u001b[0m\u001b[0ms\u001b[0m\u001b[0;34m,\u001b[0m \u001b[0mend\u001b[0m\u001b[0;34m)\u001b[0m\u001b[0;34m.\u001b[0m\u001b[0mend\u001b[0m\u001b[0;34m(\u001b[0m\u001b[0;34m)\u001b[0m\u001b[0;34m\u001b[0m\u001b[0;34m\u001b[0m\u001b[0m\n\u001b[1;32m    339\u001b[0m         \u001b[0;32mif\u001b[0m \u001b[0mend\u001b[0m \u001b[0;34m!=\u001b[0m \u001b[0mlen\u001b[0m\u001b[0;34m(\u001b[0m\u001b[0ms\u001b[0m\u001b[0;34m)\u001b[0m\u001b[0;34m:\u001b[0m\u001b[0;34m\u001b[0m\u001b[0;34m\u001b[0m\u001b[0m\n",
      "\u001b[0;32m~/opt/anaconda3/lib/python3.7/json/decoder.py\u001b[0m in \u001b[0;36mraw_decode\u001b[0;34m(self, s, idx)\u001b[0m\n\u001b[1;32m    353\u001b[0m             \u001b[0mobj\u001b[0m\u001b[0;34m,\u001b[0m \u001b[0mend\u001b[0m \u001b[0;34m=\u001b[0m \u001b[0mself\u001b[0m\u001b[0;34m.\u001b[0m\u001b[0mscan_once\u001b[0m\u001b[0;34m(\u001b[0m\u001b[0ms\u001b[0m\u001b[0;34m,\u001b[0m \u001b[0midx\u001b[0m\u001b[0;34m)\u001b[0m\u001b[0;34m\u001b[0m\u001b[0;34m\u001b[0m\u001b[0m\n\u001b[1;32m    354\u001b[0m         \u001b[0;32mexcept\u001b[0m \u001b[0mStopIteration\u001b[0m \u001b[0;32mas\u001b[0m \u001b[0merr\u001b[0m\u001b[0;34m:\u001b[0m\u001b[0;34m\u001b[0m\u001b[0;34m\u001b[0m\u001b[0m\n\u001b[0;32m--> 355\u001b[0;31m             \u001b[0;32mraise\u001b[0m \u001b[0mJSONDecodeError\u001b[0m\u001b[0;34m(\u001b[0m\u001b[0;34m\"Expecting value\"\u001b[0m\u001b[0;34m,\u001b[0m \u001b[0ms\u001b[0m\u001b[0;34m,\u001b[0m \u001b[0merr\u001b[0m\u001b[0;34m.\u001b[0m\u001b[0mvalue\u001b[0m\u001b[0;34m)\u001b[0m \u001b[0;32mfrom\u001b[0m \u001b[0;32mNone\u001b[0m\u001b[0;34m\u001b[0m\u001b[0;34m\u001b[0m\u001b[0m\n\u001b[0m\u001b[1;32m    356\u001b[0m         \u001b[0;32mreturn\u001b[0m \u001b[0mobj\u001b[0m\u001b[0;34m,\u001b[0m \u001b[0mend\u001b[0m\u001b[0;34m\u001b[0m\u001b[0;34m\u001b[0m\u001b[0m\n",
      "\u001b[0;31mJSONDecodeError\u001b[0m: Expecting value: line 1 column 1 (char 0)"
     ]
    }
   ],
   "source": [
    "#Need to install requests package for python\n",
    "#easy_install requests\n",
    "import requests\n",
    "\n",
    "# Set the request parameters\n",
    "url = 'https://teradatacsstage.service-now.com/api/now/attachment/4a9bab69db671c102c3c6f8bd39619c6/file'\n",
    "\n",
    "# Eg. User name=\"admin\", Password=\"admin\" for this code sample.\n",
    "user = 'svc_informatica_AI'\n",
    "pwd = 'Test321'\n",
    "\n",
    "# Set proper headers\n",
    "headers = {\"Content-Type\":\"application/json\",\"Accept\":\"*/*\"}\n",
    "\n",
    "# Do the HTTP request\n",
    "response = requests.get(url, auth=(user, pwd), headers=headers, verify=False )\n",
    "\n",
    "# Check for HTTP codes other than 200\n",
    "if response.status_code != 200: \n",
    "    print('Status:', response.status_code, 'Headers:', response.headers, 'Error Response:',response.json())\n",
    "    exit()\n",
    "\n",
    "# Decode the JSON response into a dictionary and use the data\n",
    "data = response.json()\n",
    "print(data)\n"
   ]
  },
  {
   "cell_type": "code",
   "execution_count": 12,
   "metadata": {},
   "outputs": [],
   "source": [
    "import zipfile\n",
    "import os, re, os.path\n",
    "from os import listdir\n",
    "from os.path import isfile, join, basename\n",
    "import glob\n",
    "import pathlib\n",
    "from datetime import datetime\n",
    "filePath = \"/Users/na250047/Development/test/\"\n",
    "extension = \"*.zip\"\n",
    "fulPath = filePath+extension\n",
    "FileRetainFlag='N'\n",
    "file_list = glob.glob(fulPath)\n",
    "for file in file_list:\n",
    "    with zipfile.ZipFile(file,\"r\") as zip_ref:\n",
    "        zip_ref.extractall(filePath)\n",
    "        if(FileRetainFlag=='N'):\n",
    "            zip_ref.close()\n",
    "            os.remove(file)"
   ]
  },
  {
   "cell_type": "code",
   "execution_count": 22,
   "metadata": {},
   "outputs": [
    {
     "name": "stdout",
     "output_type": "stream",
     "text": [
      "file_alerts:/Users/na250047/Development/test/alerts_send.xml\n",
      "file_alerts:/Users/na250047/Development/test/alerts_send.xml\n"
     ]
    }
   ],
   "source": [
    "import zipfile\n",
    "import os, re, os.path\n",
    "from os import listdir\n",
    "from os.path import isfile, join, basename\n",
    "import glob\n",
    "import pathlib\n",
    "from datetime import datetime\n",
    "filePath = \"/Users/na250047/Development/test/\"\n",
    "extension = \"*.zip\"\n",
    "fulPath = filePath+extension\n",
    "FileRetainFlag='N'\n",
    "file_list = glob.glob(fulPath)\n",
    "for file in file_list:\n",
    "    f_name_ext = file.replace(filePath,\"\")\n",
    "    filename, file_extension = os.path.splitext(f_name_ext)\n",
    "    with zipfile.ZipFile(file,\"r\") as zip_ref:\n",
    "        zip_ref.extractall(filePath)\n",
    "        for file_alerts in glob.glob(filePath+\"alerts_send.xml\"):\n",
    "            print('file_alerts:'+file_alerts)\n",
    "            os.rename(file_alerts,filePath+\"alerts_send_\"+filename+\".xml\")\n",
    "        if(FileRetainFlag=='Y'):\n",
    "            zip_ref.close()\n",
    "            os.remove(file)"
   ]
  },
  {
   "cell_type": "code",
   "execution_count": 21,
   "metadata": {},
   "outputs": [
    {
     "ename": "FileNotFoundError",
     "evalue": "[Errno 2] No such file or directory: '/Users/na250047/Development/test/*'",
     "output_type": "error",
     "traceback": [
      "\u001b[0;31m---------------------------------------------------------------------------\u001b[0m",
      "\u001b[0;31mFileNotFoundError\u001b[0m                         Traceback (most recent call last)",
      "\u001b[0;32m<ipython-input-21-c5aed0c31750>\u001b[0m in \u001b[0;36m<module>\u001b[0;34m\u001b[0m\n\u001b[1;32m      7\u001b[0m \u001b[0;32mfrom\u001b[0m \u001b[0mdatetime\u001b[0m \u001b[0;32mimport\u001b[0m \u001b[0mdatetime\u001b[0m\u001b[0;34m\u001b[0m\u001b[0;34m\u001b[0m\u001b[0m\n\u001b[1;32m      8\u001b[0m \u001b[0;34m\u001b[0m\u001b[0m\n\u001b[0;32m----> 9\u001b[0;31m \u001b[0mfile_list\u001b[0m \u001b[0;34m=\u001b[0m \u001b[0;34m[\u001b[0m\u001b[0mf\u001b[0m \u001b[0;32mfor\u001b[0m \u001b[0mf\u001b[0m \u001b[0;32min\u001b[0m \u001b[0mos\u001b[0m\u001b[0;34m.\u001b[0m\u001b[0mlistdir\u001b[0m\u001b[0;34m(\u001b[0m\u001b[0;34m'/Users/na250047/Development/test/*'\u001b[0m\u001b[0;34m)\u001b[0m \u001b[0;32mif\u001b[0m \u001b[0mos\u001b[0m\u001b[0;34m.\u001b[0m\u001b[0mpath\u001b[0m\u001b[0;34m.\u001b[0m\u001b[0misfile\u001b[0m\u001b[0;34m(\u001b[0m\u001b[0mf\u001b[0m\u001b[0;34m)\u001b[0m\u001b[0;34m]\u001b[0m\u001b[0;34m\u001b[0m\u001b[0;34m\u001b[0m\u001b[0m\n\u001b[0m\u001b[1;32m     10\u001b[0m \u001b[0;32mfor\u001b[0m \u001b[0mf\u001b[0m \u001b[0;32min\u001b[0m \u001b[0mfile_list\u001b[0m\u001b[0;34m:\u001b[0m\u001b[0;34m\u001b[0m\u001b[0;34m\u001b[0m\u001b[0m\n\u001b[1;32m     11\u001b[0m     \u001b[0mprint\u001b[0m\u001b[0;34m(\u001b[0m\u001b[0mf\u001b[0m\u001b[0;34m)\u001b[0m\u001b[0;34m\u001b[0m\u001b[0;34m\u001b[0m\u001b[0m\n",
      "\u001b[0;31mFileNotFoundError\u001b[0m: [Errno 2] No such file or directory: '/Users/na250047/Development/test/*'"
     ]
    }
   ],
   "source": [
    "import zipfile\n",
    "import os, re, os.path\n",
    "from os import listdir\n",
    "from os.path import isfile, join, basename\n",
    "import glob\n",
    "import pathlib\n",
    "from datetime import datetime\n",
    "\n",
    "file_list = [f for f in os.listdir('/Users/na250047/Development/test') if os.path.isfile(f)]\n",
    "for f in file_list:\n",
    "    print(f)"
   ]
  },
  {
   "cell_type": "code",
   "execution_count": null,
   "metadata": {},
   "outputs": [],
   "source": []
  }
 ],
 "metadata": {
  "kernelspec": {
   "display_name": "Python 3",
   "language": "python",
   "name": "python3"
  },
  "language_info": {
   "codemirror_mode": {
    "name": "ipython",
    "version": 3
   },
   "file_extension": ".py",
   "mimetype": "text/x-python",
   "name": "python",
   "nbconvert_exporter": "python",
   "pygments_lexer": "ipython3",
   "version": "3.7.6"
  }
 },
 "nbformat": 4,
 "nbformat_minor": 4
}
