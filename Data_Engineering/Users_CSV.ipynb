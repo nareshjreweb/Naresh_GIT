{
 "cells": [
  {
   "cell_type": "code",
   "execution_count": 1,
   "metadata": {},
   "outputs": [],
   "source": [
    "import os\n",
    "import findspark\n",
    "findspark.init()\n",
    "from pyspark import SparkContext\n",
    "from pyspark import SparkConf\n",
    "\n",
    "\n",
    "conf = SparkConf().setAppName(\"users_csv_deom\").setMaster(\"local[*]\")\n",
    "sc = SparkContext(conf=conf)"
   ]
  },
  {
   "cell_type": "code",
   "execution_count": 2,
   "metadata": {},
   "outputs": [],
   "source": [
    "from pyspark import SQLContext\n",
    "sqlContext = SQLContext(sc)"
   ]
  },
  {
   "cell_type": "code",
   "execution_count": 7,
   "metadata": {},
   "outputs": [],
   "source": [
    "df = sqlContext.read.csv(\"users.csv\", inferSchema = True, header = True)"
   ]
  },
  {
   "cell_type": "code",
   "execution_count": 9,
   "metadata": {},
   "outputs": [
    {
     "name": "stdout",
     "output_type": "stream",
     "text": [
      "+-------+---+----------+\n",
      "|   name|age|       job|\n",
      "+-------+---+----------+\n",
      "| Vishwa| 61|  Engineer|\n",
      "|  Mohan| 79|    Doctor|\n",
      "|Rishavv| 21|   Student|\n",
      "|Shivani| 69|Consultant|\n",
      "| Sachin| 35| Cricketer|\n",
      "|  Rohit| 31|   Captain|\n",
      "|  Virat| 32|   Blogger|\n",
      "| Akshay| 45|     Actor|\n",
      "|Amitabh| 70| Superstar|\n",
      "+-------+---+----------+\n",
      "\n"
     ]
    }
   ],
   "source": [
    "df.show()"
   ]
  },
  {
   "cell_type": "raw",
   "metadata": {},
   "source": [
    "df.printSchema()"
   ]
  },
  {
   "cell_type": "code",
   "execution_count": 11,
   "metadata": {},
   "outputs": [],
   "source": [
    "from pyspark.sql.types import StructType, StructField, IntegerType, StringType, BooleanType, DoubleType, LongType"
   ]
  },
  {
   "cell_type": "code",
   "execution_count": 12,
   "metadata": {},
   "outputs": [],
   "source": [
    "fileSchema = StructType([StructField('name', StringType(),True),\n",
    "                        StructField('age', IntegerType(),True),\n",
    "                        StructField('job', StringType(),True)])\n",
    "\n",
    "df2 = sqlContext.read.load(\"users.csv\", format=\"csv\", sep=\",\", schema = fileSchema, header=\"true\") "
   ]
  },
  {
   "cell_type": "code",
   "execution_count": 13,
   "metadata": {},
   "outputs": [
    {
     "name": "stdout",
     "output_type": "stream",
     "text": [
      "root\n",
      " |-- name: string (nullable = true)\n",
      " |-- age: integer (nullable = true)\n",
      " |-- job: string (nullable = true)\n",
      "\n"
     ]
    }
   ],
   "source": [
    "df2.printSchema()"
   ]
  },
  {
   "cell_type": "code",
   "execution_count": 14,
   "metadata": {},
   "outputs": [
    {
     "name": "stdout",
     "output_type": "stream",
     "text": [
      "+-------+---+----------+\n",
      "|   name|age|       job|\n",
      "+-------+---+----------+\n",
      "| Vishwa| 61|  Engineer|\n",
      "|  Mohan| 79|    Doctor|\n",
      "|Rishavv| 21|   Student|\n",
      "|Shivani| 69|Consultant|\n",
      "| Sachin| 35| Cricketer|\n",
      "|  Rohit| 31|   Captain|\n",
      "|  Virat| 32|   Blogger|\n",
      "| Akshay| 45|     Actor|\n",
      "|Amitabh| 70| Superstar|\n",
      "+-------+---+----------+\n",
      "\n"
     ]
    }
   ],
   "source": [
    "df2.show()"
   ]
  },
  {
   "cell_type": "code",
   "execution_count": 16,
   "metadata": {},
   "outputs": [],
   "source": [
    "df.write.parquet(\"users_2.parquet\")"
   ]
  },
  {
   "cell_type": "code",
   "execution_count": 17,
   "metadata": {},
   "outputs": [],
   "source": [
    "df.write.json(\"users_2.json\")"
   ]
  },
  {
   "cell_type": "code",
   "execution_count": 18,
   "metadata": {},
   "outputs": [],
   "source": [
    "df.write.orc(\"users_2.orc\")"
   ]
  },
  {
   "cell_type": "code",
   "execution_count": 20,
   "metadata": {},
   "outputs": [],
   "source": [
    "#Specifying the schema in the case of json\n",
    "fileSchema = StructType([StructField('name', StringType(),True),\n",
    "                        StructField('age', IntegerType(),True),\n",
    "                        StructField('job', StringType(),True)])\n",
    "\n",
    "df2 = sqlContext.read.json(\"users_2.json\", schema = fileSchema) "
   ]
  },
  {
   "cell_type": "code",
   "execution_count": 21,
   "metadata": {},
   "outputs": [
    {
     "name": "stdout",
     "output_type": "stream",
     "text": [
      "+-------+---+----------+\n",
      "|   name|age|       job|\n",
      "+-------+---+----------+\n",
      "| Vishwa| 61|  Engineer|\n",
      "|  Mohan| 79|    Doctor|\n",
      "|Rishavv| 21|   Student|\n",
      "|Shivani| 69|Consultant|\n",
      "| Sachin| 35| Cricketer|\n",
      "|  Rohit| 31|   Captain|\n",
      "|  Virat| 32|   Blogger|\n",
      "| Akshay| 45|     Actor|\n",
      "|Amitabh| 70| Superstar|\n",
      "+-------+---+----------+\n",
      "\n"
     ]
    }
   ],
   "source": [
    "df.show()"
   ]
  },
  {
   "cell_type": "code",
   "execution_count": 22,
   "metadata": {},
   "outputs": [
    {
     "name": "stdout",
     "output_type": "stream",
     "text": [
      "root\n",
      " |-- name: string (nullable = true)\n",
      " |-- age: integer (nullable = true)\n",
      " |-- job: string (nullable = true)\n",
      "\n"
     ]
    }
   ],
   "source": [
    "df2.printSchema()"
   ]
  },
  {
   "cell_type": "code",
   "execution_count": 23,
   "metadata": {},
   "outputs": [],
   "source": [
    "import numpy as np\n",
    "import pandas as pd"
   ]
  },
  {
   "cell_type": "code",
   "execution_count": 24,
   "metadata": {},
   "outputs": [],
   "source": [
    "pdf = pd.DataFrame(np.random.rand(10,3))"
   ]
  },
  {
   "cell_type": "code",
   "execution_count": 25,
   "metadata": {},
   "outputs": [
    {
     "name": "stdout",
     "output_type": "stream",
     "text": [
      "          0         1         2\n",
      "0  0.162102  0.752270  0.503119\n",
      "1  0.111237  0.334659  0.546670\n",
      "2  0.334442  0.379681  0.779174\n",
      "3  0.716286  0.178263  0.621574\n",
      "4  0.782467  0.478217  0.185836\n",
      "5  0.587427  0.246560  0.433718\n",
      "6  0.987351  0.452952  0.257361\n",
      "7  0.634099  0.807839  0.506333\n",
      "8  0.671664  0.769215  0.560576\n",
      "9  0.817503  0.414078  0.240089\n"
     ]
    }
   ],
   "source": [
    "print(pdf)"
   ]
  },
  {
   "cell_type": "code",
   "execution_count": 26,
   "metadata": {},
   "outputs": [],
   "source": [
    "df_np = sqlContext.createDataFrame(pdf)"
   ]
  },
  {
   "cell_type": "code",
   "execution_count": 27,
   "metadata": {},
   "outputs": [
    {
     "name": "stdout",
     "output_type": "stream",
     "text": [
      "root\n",
      " |-- 0: double (nullable = true)\n",
      " |-- 1: double (nullable = true)\n",
      " |-- 2: double (nullable = true)\n",
      "\n"
     ]
    }
   ],
   "source": [
    "df_np.printSchema()"
   ]
  },
  {
   "cell_type": "code",
   "execution_count": 28,
   "metadata": {},
   "outputs": [
    {
     "name": "stdout",
     "output_type": "stream",
     "text": [
      "+-------------------+-------------------+-------------------+\n",
      "|                  0|                  1|                  2|\n",
      "+-------------------+-------------------+-------------------+\n",
      "|0.16210162999034838| 0.7522696067598241| 0.5031188309558745|\n",
      "|0.11123681289662746| 0.3346588015370122| 0.5466703099942103|\n",
      "|  0.334442398836732|0.37968123951754695| 0.7791742407229317|\n",
      "|  0.716285881179824|0.17826272138169352| 0.6215743897464934|\n",
      "| 0.7824669889113246|0.47821744106183406|0.18583555718525424|\n",
      "+-------------------+-------------------+-------------------+\n",
      "only showing top 5 rows\n",
      "\n"
     ]
    }
   ],
   "source": [
    "df_np.show(5)"
   ]
  },
  {
   "cell_type": "code",
   "execution_count": 30,
   "metadata": {},
   "outputs": [],
   "source": [
    "result_df = df_np.select(\"*\").toPandas()"
   ]
  },
  {
   "cell_type": "code",
   "execution_count": 31,
   "metadata": {},
   "outputs": [
    {
     "name": "stdout",
     "output_type": "stream",
     "text": [
      "          0         1         2\n",
      "0  0.162102  0.752270  0.503119\n",
      "1  0.111237  0.334659  0.546670\n",
      "2  0.334442  0.379681  0.779174\n",
      "3  0.716286  0.178263  0.621574\n",
      "4  0.782467  0.478217  0.185836\n",
      "5  0.587427  0.246560  0.433718\n",
      "6  0.987351  0.452952  0.257361\n",
      "7  0.634099  0.807839  0.506333\n",
      "8  0.671664  0.769215  0.560576\n",
      "9  0.817503  0.414078  0.240089\n"
     ]
    }
   ],
   "source": [
    "print(result_df)"
   ]
  },
  {
   "cell_type": "code",
   "execution_count": 34,
   "metadata": {},
   "outputs": [
    {
     "name": "stdout",
     "output_type": "stream",
     "text": [
      "+-------+-------------------+-------------------+-------------------+\n",
      "|summary|                  0|                  1|                  2|\n",
      "+-------+-------------------+-------------------+-------------------+\n",
      "|  count|                 10|                 10|                 10|\n",
      "|   mean| 0.5804577656585823|0.48137340852102384|0.46344514613151044|\n",
      "| stddev| 0.2882837802684245|0.22287098183631648|0.18701555054595884|\n",
      "|    min|0.11123681289662746|0.17826272138169352|0.18583555718525424|\n",
      "|    max| 0.9873510557885089| 0.8078389669792966| 0.7791742407229317|\n",
      "+-------+-------------------+-------------------+-------------------+\n",
      "\n"
     ]
    }
   ],
   "source": [
    "df_np.describe().show()"
   ]
  },
  {
   "cell_type": "code",
   "execution_count": 33,
   "metadata": {},
   "outputs": [
    {
     "data": {
      "text/html": [
       "<div>\n",
       "<style scoped>\n",
       "    .dataframe tbody tr th:only-of-type {\n",
       "        vertical-align: middle;\n",
       "    }\n",
       "\n",
       "    .dataframe tbody tr th {\n",
       "        vertical-align: top;\n",
       "    }\n",
       "\n",
       "    .dataframe thead th {\n",
       "        text-align: right;\n",
       "    }\n",
       "</style>\n",
       "<table border=\"1\" class=\"dataframe\">\n",
       "  <thead>\n",
       "    <tr style=\"text-align: right;\">\n",
       "      <th></th>\n",
       "      <th>0</th>\n",
       "      <th>1</th>\n",
       "      <th>2</th>\n",
       "    </tr>\n",
       "  </thead>\n",
       "  <tbody>\n",
       "    <tr>\n",
       "      <th>count</th>\n",
       "      <td>10.000000</td>\n",
       "      <td>10.000000</td>\n",
       "      <td>10.000000</td>\n",
       "    </tr>\n",
       "    <tr>\n",
       "      <th>mean</th>\n",
       "      <td>0.580458</td>\n",
       "      <td>0.481373</td>\n",
       "      <td>0.463445</td>\n",
       "    </tr>\n",
       "    <tr>\n",
       "      <th>std</th>\n",
       "      <td>0.288284</td>\n",
       "      <td>0.222871</td>\n",
       "      <td>0.187016</td>\n",
       "    </tr>\n",
       "    <tr>\n",
       "      <th>min</th>\n",
       "      <td>0.111237</td>\n",
       "      <td>0.178263</td>\n",
       "      <td>0.185836</td>\n",
       "    </tr>\n",
       "    <tr>\n",
       "      <th>25%</th>\n",
       "      <td>0.397688</td>\n",
       "      <td>0.345914</td>\n",
       "      <td>0.301450</td>\n",
       "    </tr>\n",
       "    <tr>\n",
       "      <th>50%</th>\n",
       "      <td>0.652882</td>\n",
       "      <td>0.433515</td>\n",
       "      <td>0.504726</td>\n",
       "    </tr>\n",
       "    <tr>\n",
       "      <th>75%</th>\n",
       "      <td>0.765922</td>\n",
       "      <td>0.683757</td>\n",
       "      <td>0.557100</td>\n",
       "    </tr>\n",
       "    <tr>\n",
       "      <th>max</th>\n",
       "      <td>0.987351</td>\n",
       "      <td>0.807839</td>\n",
       "      <td>0.779174</td>\n",
       "    </tr>\n",
       "  </tbody>\n",
       "</table>\n",
       "</div>"
      ],
      "text/plain": [
       "               0          1          2\n",
       "count  10.000000  10.000000  10.000000\n",
       "mean    0.580458   0.481373   0.463445\n",
       "std     0.288284   0.222871   0.187016\n",
       "min     0.111237   0.178263   0.185836\n",
       "25%     0.397688   0.345914   0.301450\n",
       "50%     0.652882   0.433515   0.504726\n",
       "75%     0.765922   0.683757   0.557100\n",
       "max     0.987351   0.807839   0.779174"
      ]
     },
     "execution_count": 33,
     "metadata": {},
     "output_type": "execute_result"
    }
   ],
   "source": [
    "result_df.describe()"
   ]
  },
  {
   "cell_type": "code",
   "execution_count": 35,
   "metadata": {},
   "outputs": [
    {
     "data": {
      "text/plain": [
       "DataFrame[0: double, 1: double, 2: double]"
      ]
     },
     "execution_count": 35,
     "metadata": {},
     "output_type": "execute_result"
    }
   ],
   "source": [
    "df_np"
   ]
  },
  {
   "cell_type": "code",
   "execution_count": 36,
   "metadata": {},
   "outputs": [],
   "source": [
    "df_iris = sqlContext.read.csv(\"IRIS.csv\", inferSchema = True, header = True)"
   ]
  },
  {
   "cell_type": "code",
   "execution_count": 38,
   "metadata": {},
   "outputs": [
    {
     "data": {
      "text/plain": [
       "50"
      ]
     },
     "execution_count": 38,
     "metadata": {},
     "output_type": "execute_result"
    }
   ],
   "source": [
    "df_iris.filter(df_iris[\"species\"] == 'Iris-setosa').count()"
   ]
  },
  {
   "cell_type": "code",
   "execution_count": 40,
   "metadata": {},
   "outputs": [
    {
     "name": "stdout",
     "output_type": "stream",
     "text": [
      "+---------------+------------------+------------------+\n",
      "|        species|  sum(sepal_width)| sum(petal_length)|\n",
      "+---------------+------------------+------------------+\n",
      "|Iris-versicolor|138.50000000000003|212.99999999999997|\n",
      "+---------------+------------------+------------------+\n",
      "\n"
     ]
    }
   ],
   "source": [
    "df_iris.filter(df_iris['species'] == 'Iris-versicolor').groupBy('species').sum('sepal_width','petal_length').show()"
   ]
  },
  {
   "cell_type": "code",
   "execution_count": 42,
   "metadata": {},
   "outputs": [
    {
     "ename": "SyntaxError",
     "evalue": "unexpected EOF while parsing (<ipython-input-42-626b8cb511a3>, line 1)",
     "output_type": "error",
     "traceback": [
      "\u001b[0;36m  File \u001b[0;32m\"<ipython-input-42-626b8cb511a3>\"\u001b[0;36m, line \u001b[0;32m1\u001b[0m\n\u001b[0;31m    df_iris.filter(groupBy('species').sum('sepal_width','petal_length').show()\u001b[0m\n\u001b[0m                                                                              ^\u001b[0m\n\u001b[0;31mSyntaxError\u001b[0m\u001b[0;31m:\u001b[0m unexpected EOF while parsing\n"
     ]
    }
   ],
   "source": [
    "df_iris.filter(groupBy('species').sum('sepal_width','petal_length').show()"
   ]
  },
  {
   "cell_type": "code",
   "execution_count": 43,
   "metadata": {},
   "outputs": [
    {
     "data": {
      "text/plain": [
       "3"
      ]
     },
     "execution_count": 43,
     "metadata": {},
     "output_type": "execute_result"
    }
   ],
   "source": [
    "df_iris.filter((df_iris['species']==\"Iris-setosa\") & (df_iris['sepal_width']>4) & (df_iris['sepal_width']<5)).count()"
   ]
  },
  {
   "cell_type": "code",
   "execution_count": 44,
   "metadata": {},
   "outputs": [
    {
     "name": "stdout",
     "output_type": "stream",
     "text": [
      "+--------------+----------------+\n",
      "|       species|min(petal_width)|\n",
      "+--------------+----------------+\n",
      "|Iris-virginica|             1.4|\n",
      "+--------------+----------------+\n",
      "\n"
     ]
    }
   ],
   "source": [
    "df_iris.filter(df_iris['species'] == 'Iris-virginica' ).groupBy('species').min('petal_width').show()\n",
    "\n"
   ]
  },
  {
   "cell_type": "code",
   "execution_count": 45,
   "metadata": {},
   "outputs": [
    {
     "name": "stdout",
     "output_type": "stream",
     "text": [
      "+---------------+----------------+\n",
      "|        species|min(petal_width)|\n",
      "+---------------+----------------+\n",
      "| Iris-virginica|             1.4|\n",
      "|    Iris-setosa|             0.1|\n",
      "|Iris-versicolor|             1.0|\n",
      "+---------------+----------------+\n",
      "\n"
     ]
    }
   ],
   "source": [
    "df_iris.groupBy('species').min('petal_width').show()"
   ]
  },
  {
   "cell_type": "code",
   "execution_count": null,
   "metadata": {},
   "outputs": [],
   "source": [
    "\n",
    "df.filter(df['species'] == 'Iris-virginica' ).groupBy('species').max('petal_width').show(), 0.4"
   ]
  }
 ],
 "metadata": {
  "kernelspec": {
   "display_name": "Python 3",
   "language": "python",
   "name": "python3"
  },
  "language_info": {
   "codemirror_mode": {
    "name": "ipython",
    "version": 3
   },
   "file_extension": ".py",
   "mimetype": "text/x-python",
   "name": "python",
   "nbconvert_exporter": "python",
   "pygments_lexer": "ipython3",
   "version": "3.7.6"
  }
 },
 "nbformat": 4,
 "nbformat_minor": 4
}
