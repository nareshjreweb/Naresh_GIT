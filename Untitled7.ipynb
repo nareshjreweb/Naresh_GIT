{
 "cells": [
  {
   "cell_type": "code",
   "execution_count": 2,
   "metadata": {},
   "outputs": [
    {
     "name": "stdout",
     "output_type": "stream",
     "text": [
      "Nested dictionary 1-\n",
      "{'Dict1': {}, 'Dict2': {}}\n",
      "\n",
      "Nested dictionary 2-\n",
      "{'Dict1': {'name': 'Ali', 'age': '19'}, 'Dict2': {'name': 'Bob', 'age': '25'}}\n",
      "\n",
      "Nested dictionary 3-\n",
      "{'Dict1': {1: 'G', 2: 'F', 3: 'G'}, 'Dict2': {'Name': 'Geeks', 1: [1, 2]}}\n"
     ]
    }
   ],
   "source": [
    "Dict = { \"Dict1\": { },\n",
    "\t\t\"Dict2\": { }}\n",
    "print(\"Nested dictionary 1-\")\n",
    "print(Dict)\n",
    "\n",
    "# Nested dictionary having same keys\n",
    "Dict = { \"Dict1\": {\"name\": \"Ali\", \"age\": \"19\"},\n",
    "\t\t\"Dict2\": {\"name\": \"Bob\", \"age\": \"25\"}}\n",
    "print(\"\\nNested dictionary 2-\")\n",
    "print(Dict)\n",
    "\n",
    "# Nested dictionary of mixed dictionary keys\n",
    "Dict = { \"Dict1\": {1: \"G\", 2: \"F\", 3: \"G\"},\n",
    "\t\t\"Dict2\": {\"Name\": \"Geeks\", 1: [1, 2]} }\n",
    "print(\"\\nNested dictionary 3-\")\n",
    "print(Dict)"
   ]
  },
  {
   "cell_type": "code",
   "execution_count": null,
   "metadata": {},
   "outputs": [],
   "source": []
  }
 ],
 "metadata": {
  "kernelspec": {
   "display_name": "Python 3",
   "language": "python",
   "name": "python3"
  },
  "language_info": {
   "codemirror_mode": {
    "name": "ipython",
    "version": 3
   },
   "file_extension": ".py",
   "mimetype": "text/x-python",
   "name": "python",
   "nbconvert_exporter": "python",
   "pygments_lexer": "ipython3",
   "version": "3.7.6"
  }
 },
 "nbformat": 4,
 "nbformat_minor": 4
}
